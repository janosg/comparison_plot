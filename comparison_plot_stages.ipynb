{
 "cells": [
  {
   "cell_type": "code",
   "execution_count": 1,
   "metadata": {},
   "outputs": [],
   "source": [
    "import pandas as pd\n",
    "import numpy as np"
   ]
  },
  {
   "cell_type": "markdown",
   "metadata": {},
   "source": [
    "# Basic Static Plot"
   ]
  },
  {
   "cell_type": "code",
   "execution_count": 16,
   "metadata": {},
   "outputs": [
    {
     "data": {
      "text/html": [
       "<div>\n",
       "<style scoped>\n",
       "    .dataframe tbody tr th:only-of-type {\n",
       "        vertical-align: middle;\n",
       "    }\n",
       "\n",
       "    .dataframe tbody tr th {\n",
       "        vertical-align: top;\n",
       "    }\n",
       "\n",
       "    .dataframe thead th {\n",
       "        text-align: right;\n",
       "    }\n",
       "</style>\n",
       "<table border=\"1\" class=\"dataframe\">\n",
       "  <thead>\n",
       "    <tr style=\"text-align: right;\">\n",
       "      <th></th>\n",
       "      <th>param_name</th>\n",
       "      <th>param_value</th>\n",
       "      <th>model</th>\n",
       "    </tr>\n",
       "  </thead>\n",
       "  <tbody>\n",
       "    <tr>\n",
       "      <th>0</th>\n",
       "      <td>age</td>\n",
       "      <td>1.025307</td>\n",
       "      <td>model_0</td>\n",
       "    </tr>\n",
       "    <tr>\n",
       "      <th>1</th>\n",
       "      <td>grade</td>\n",
       "      <td>1.538086</td>\n",
       "      <td>model_0</td>\n",
       "    </tr>\n",
       "    <tr>\n",
       "      <th>2</th>\n",
       "      <td>iq_score</td>\n",
       "      <td>1.655725</td>\n",
       "      <td>model_0</td>\n",
       "    </tr>\n",
       "    <tr>\n",
       "      <th>3</th>\n",
       "      <td>gender</td>\n",
       "      <td>1.360541</td>\n",
       "      <td>model_0</td>\n",
       "    </tr>\n",
       "    <tr>\n",
       "      <th>4</th>\n",
       "      <td>age</td>\n",
       "      <td>-3.387153</td>\n",
       "      <td>model_1</td>\n",
       "    </tr>\n",
       "  </tbody>\n",
       "</table>\n",
       "</div>"
      ],
      "text/plain": [
       "  param_name  param_value    model\n",
       "0        age     1.025307  model_0\n",
       "1      grade     1.538086  model_0\n",
       "2   iq_score     1.655725  model_0\n",
       "3     gender     1.360541  model_0\n",
       "4        age    -3.387153  model_1"
      ]
     },
     "execution_count": 16,
     "metadata": {},
     "output_type": "execute_result"
    }
   ],
   "source": [
    "nr_models = 10\n",
    "short_controls = ['age', 'grade', 'iq_score', 'gender']\n",
    "\n",
    "df1 = pd.DataFrame()\n",
    "\n",
    "for i in range(nr_models):\n",
    "    ctrl_names = short_controls\n",
    "    factor = 0.5\n",
    "    nr_params = len(ctrl_names)\n",
    "    df = pd.DataFrame()\n",
    "    df['param_name'] = ctrl_names\n",
    "    df['param_value'] = factor * np.arange(nr_params) + np.random.normal(0, 1, nr_params)\n",
    "    df['model'] = 'model_' + str(i)\n",
    "    \n",
    "    df1 = pd.concat([df1, df], axis=0, sort=False)\n",
    "    \n",
    "df1.reset_index(inplace=True, drop=True)\n",
    "df1.head()"
   ]
  },
  {
   "cell_type": "code",
   "execution_count": 36,
   "metadata": {},
   "outputs": [],
   "source": [
    "from bokeh.models import ColumnDataSource\n",
    "from bokeh.plotting import figure, show, output_notebook\n",
    "\n",
    "def static_comparison_plot(df):\n",
    "    source = ColumnDataSource(df)\n",
    "    \n",
    "    # create the \"canvas\"\n",
    "    plot = figure(\n",
    "        title=\"Comparison Plot\",\n",
    "        y_range=df[\"param_name\"].unique())\n",
    "    \n",
    "    # add circles representing the parameter value\n",
    "    circle_glyph = plot.circle(\n",
    "        source=source,\n",
    "        x=\"param_value\",\n",
    "        y=\"param_name\",\n",
    "        size=12)\n",
    "    show(plot)"
   ]
  },
  {
   "cell_type": "code",
   "execution_count": 37,
   "metadata": {},
   "outputs": [
    {
     "data": {
      "text/html": [
       "\n",
       "    <div class=\"bk-root\">\n",
       "        <a href=\"https://bokeh.pydata.org\" target=\"_blank\" class=\"bk-logo bk-logo-small bk-logo-notebook\"></a>\n",
       "        <span id=\"1798\">Loading BokehJS ...</span>\n",
       "    </div>"
      ]
     },
     "metadata": {},
     "output_type": "display_data"
    },
    {
     "data": {
      "application/javascript": [
       "\n",
       "(function(root) {\n",
       "  function now() {\n",
       "    return new Date();\n",
       "  }\n",
       "\n",
       "  var force = true;\n",
       "\n",
       "  if (typeof (root._bokeh_onload_callbacks) === \"undefined\" || force === true) {\n",
       "    root._bokeh_onload_callbacks = [];\n",
       "    root._bokeh_is_loading = undefined;\n",
       "  }\n",
       "\n",
       "  var JS_MIME_TYPE = 'application/javascript';\n",
       "  var HTML_MIME_TYPE = 'text/html';\n",
       "  var EXEC_MIME_TYPE = 'application/vnd.bokehjs_exec.v0+json';\n",
       "  var CLASS_NAME = 'output_bokeh rendered_html';\n",
       "\n",
       "  /**\n",
       "   * Render data to the DOM node\n",
       "   */\n",
       "  function render(props, node) {\n",
       "    var script = document.createElement(\"script\");\n",
       "    node.appendChild(script);\n",
       "  }\n",
       "\n",
       "  /**\n",
       "   * Handle when an output is cleared or removed\n",
       "   */\n",
       "  function handleClearOutput(event, handle) {\n",
       "    var cell = handle.cell;\n",
       "\n",
       "    var id = cell.output_area._bokeh_element_id;\n",
       "    var server_id = cell.output_area._bokeh_server_id;\n",
       "    // Clean up Bokeh references\n",
       "    if (id != null && id in Bokeh.index) {\n",
       "      Bokeh.index[id].model.document.clear();\n",
       "      delete Bokeh.index[id];\n",
       "    }\n",
       "\n",
       "    if (server_id !== undefined) {\n",
       "      // Clean up Bokeh references\n",
       "      var cmd = \"from bokeh.io.state import curstate; print(curstate().uuid_to_server['\" + server_id + \"'].get_sessions()[0].document.roots[0]._id)\";\n",
       "      cell.notebook.kernel.execute(cmd, {\n",
       "        iopub: {\n",
       "          output: function(msg) {\n",
       "            var id = msg.content.text.trim();\n",
       "            if (id in Bokeh.index) {\n",
       "              Bokeh.index[id].model.document.clear();\n",
       "              delete Bokeh.index[id];\n",
       "            }\n",
       "          }\n",
       "        }\n",
       "      });\n",
       "      // Destroy server and session\n",
       "      var cmd = \"import bokeh.io.notebook as ion; ion.destroy_server('\" + server_id + \"')\";\n",
       "      cell.notebook.kernel.execute(cmd);\n",
       "    }\n",
       "  }\n",
       "\n",
       "  /**\n",
       "   * Handle when a new output is added\n",
       "   */\n",
       "  function handleAddOutput(event, handle) {\n",
       "    var output_area = handle.output_area;\n",
       "    var output = handle.output;\n",
       "\n",
       "    // limit handleAddOutput to display_data with EXEC_MIME_TYPE content only\n",
       "    if ((output.output_type != \"display_data\") || (!output.data.hasOwnProperty(EXEC_MIME_TYPE))) {\n",
       "      return\n",
       "    }\n",
       "\n",
       "    var toinsert = output_area.element.find(\".\" + CLASS_NAME.split(' ')[0]);\n",
       "\n",
       "    if (output.metadata[EXEC_MIME_TYPE][\"id\"] !== undefined) {\n",
       "      toinsert[toinsert.length - 1].firstChild.textContent = output.data[JS_MIME_TYPE];\n",
       "      // store reference to embed id on output_area\n",
       "      output_area._bokeh_element_id = output.metadata[EXEC_MIME_TYPE][\"id\"];\n",
       "    }\n",
       "    if (output.metadata[EXEC_MIME_TYPE][\"server_id\"] !== undefined) {\n",
       "      var bk_div = document.createElement(\"div\");\n",
       "      bk_div.innerHTML = output.data[HTML_MIME_TYPE];\n",
       "      var script_attrs = bk_div.children[0].attributes;\n",
       "      for (var i = 0; i < script_attrs.length; i++) {\n",
       "        toinsert[toinsert.length - 1].firstChild.setAttribute(script_attrs[i].name, script_attrs[i].value);\n",
       "      }\n",
       "      // store reference to server id on output_area\n",
       "      output_area._bokeh_server_id = output.metadata[EXEC_MIME_TYPE][\"server_id\"];\n",
       "    }\n",
       "  }\n",
       "\n",
       "  function register_renderer(events, OutputArea) {\n",
       "\n",
       "    function append_mime(data, metadata, element) {\n",
       "      // create a DOM node to render to\n",
       "      var toinsert = this.create_output_subarea(\n",
       "        metadata,\n",
       "        CLASS_NAME,\n",
       "        EXEC_MIME_TYPE\n",
       "      );\n",
       "      this.keyboard_manager.register_events(toinsert);\n",
       "      // Render to node\n",
       "      var props = {data: data, metadata: metadata[EXEC_MIME_TYPE]};\n",
       "      render(props, toinsert[toinsert.length - 1]);\n",
       "      element.append(toinsert);\n",
       "      return toinsert\n",
       "    }\n",
       "\n",
       "    /* Handle when an output is cleared or removed */\n",
       "    events.on('clear_output.CodeCell', handleClearOutput);\n",
       "    events.on('delete.Cell', handleClearOutput);\n",
       "\n",
       "    /* Handle when a new output is added */\n",
       "    events.on('output_added.OutputArea', handleAddOutput);\n",
       "\n",
       "    /**\n",
       "     * Register the mime type and append_mime function with output_area\n",
       "     */\n",
       "    OutputArea.prototype.register_mime_type(EXEC_MIME_TYPE, append_mime, {\n",
       "      /* Is output safe? */\n",
       "      safe: true,\n",
       "      /* Index of renderer in `output_area.display_order` */\n",
       "      index: 0\n",
       "    });\n",
       "  }\n",
       "\n",
       "  // register the mime type if in Jupyter Notebook environment and previously unregistered\n",
       "  if (root.Jupyter !== undefined) {\n",
       "    var events = require('base/js/events');\n",
       "    var OutputArea = require('notebook/js/outputarea').OutputArea;\n",
       "\n",
       "    if (OutputArea.prototype.mime_types().indexOf(EXEC_MIME_TYPE) == -1) {\n",
       "      register_renderer(events, OutputArea);\n",
       "    }\n",
       "  }\n",
       "\n",
       "  \n",
       "  if (typeof (root._bokeh_timeout) === \"undefined\" || force === true) {\n",
       "    root._bokeh_timeout = Date.now() + 5000;\n",
       "    root._bokeh_failed_load = false;\n",
       "  }\n",
       "\n",
       "  var NB_LOAD_WARNING = {'data': {'text/html':\n",
       "     \"<div style='background-color: #fdd'>\\n\"+\n",
       "     \"<p>\\n\"+\n",
       "     \"BokehJS does not appear to have successfully loaded. If loading BokehJS from CDN, this \\n\"+\n",
       "     \"may be due to a slow or bad network connection. Possible fixes:\\n\"+\n",
       "     \"</p>\\n\"+\n",
       "     \"<ul>\\n\"+\n",
       "     \"<li>re-rerun `output_notebook()` to attempt to load from CDN again, or</li>\\n\"+\n",
       "     \"<li>use INLINE resources instead, as so:</li>\\n\"+\n",
       "     \"</ul>\\n\"+\n",
       "     \"<code>\\n\"+\n",
       "     \"from bokeh.resources import INLINE\\n\"+\n",
       "     \"output_notebook(resources=INLINE)\\n\"+\n",
       "     \"</code>\\n\"+\n",
       "     \"</div>\"}};\n",
       "\n",
       "  function display_loaded() {\n",
       "    var el = document.getElementById(\"1798\");\n",
       "    if (el != null) {\n",
       "      el.textContent = \"BokehJS is loading...\";\n",
       "    }\n",
       "    if (root.Bokeh !== undefined) {\n",
       "      if (el != null) {\n",
       "        el.textContent = \"BokehJS \" + root.Bokeh.version + \" successfully loaded.\";\n",
       "      }\n",
       "    } else if (Date.now() < root._bokeh_timeout) {\n",
       "      setTimeout(display_loaded, 100)\n",
       "    }\n",
       "  }\n",
       "\n",
       "\n",
       "  function run_callbacks() {\n",
       "    try {\n",
       "      root._bokeh_onload_callbacks.forEach(function(callback) { callback() });\n",
       "    }\n",
       "    finally {\n",
       "      delete root._bokeh_onload_callbacks\n",
       "    }\n",
       "    console.info(\"Bokeh: all callbacks have finished\");\n",
       "  }\n",
       "\n",
       "  function load_libs(js_urls, callback) {\n",
       "    root._bokeh_onload_callbacks.push(callback);\n",
       "    if (root._bokeh_is_loading > 0) {\n",
       "      console.log(\"Bokeh: BokehJS is being loaded, scheduling callback at\", now());\n",
       "      return null;\n",
       "    }\n",
       "    if (js_urls == null || js_urls.length === 0) {\n",
       "      run_callbacks();\n",
       "      return null;\n",
       "    }\n",
       "    console.log(\"Bokeh: BokehJS not loaded, scheduling load and callback at\", now());\n",
       "    root._bokeh_is_loading = js_urls.length;\n",
       "    for (var i = 0; i < js_urls.length; i++) {\n",
       "      var url = js_urls[i];\n",
       "      var s = document.createElement('script');\n",
       "      s.src = url;\n",
       "      s.async = false;\n",
       "      s.onreadystatechange = s.onload = function() {\n",
       "        root._bokeh_is_loading--;\n",
       "        if (root._bokeh_is_loading === 0) {\n",
       "          console.log(\"Bokeh: all BokehJS libraries loaded\");\n",
       "          run_callbacks()\n",
       "        }\n",
       "      };\n",
       "      s.onerror = function() {\n",
       "        console.warn(\"failed to load library \" + url);\n",
       "      };\n",
       "      console.log(\"Bokeh: injecting script tag for BokehJS library: \", url);\n",
       "      document.getElementsByTagName(\"head\")[0].appendChild(s);\n",
       "    }\n",
       "  };var element = document.getElementById(\"1798\");\n",
       "  if (element == null) {\n",
       "    console.log(\"Bokeh: ERROR: autoload.js configured with elementid '1798' but no matching script tag was found. \")\n",
       "    return false;\n",
       "  }\n",
       "\n",
       "  var js_urls = [\"https://cdn.pydata.org/bokeh/release/bokeh-1.0.4.min.js\", \"https://cdn.pydata.org/bokeh/release/bokeh-widgets-1.0.4.min.js\", \"https://cdn.pydata.org/bokeh/release/bokeh-tables-1.0.4.min.js\", \"https://cdn.pydata.org/bokeh/release/bokeh-gl-1.0.4.min.js\"];\n",
       "\n",
       "  var inline_js = [\n",
       "    function(Bokeh) {\n",
       "      Bokeh.set_log_level(\"info\");\n",
       "    },\n",
       "    \n",
       "    function(Bokeh) {\n",
       "      \n",
       "    },\n",
       "    function(Bokeh) {\n",
       "      console.log(\"Bokeh: injecting CSS: https://cdn.pydata.org/bokeh/release/bokeh-1.0.4.min.css\");\n",
       "      Bokeh.embed.inject_css(\"https://cdn.pydata.org/bokeh/release/bokeh-1.0.4.min.css\");\n",
       "      console.log(\"Bokeh: injecting CSS: https://cdn.pydata.org/bokeh/release/bokeh-widgets-1.0.4.min.css\");\n",
       "      Bokeh.embed.inject_css(\"https://cdn.pydata.org/bokeh/release/bokeh-widgets-1.0.4.min.css\");\n",
       "      console.log(\"Bokeh: injecting CSS: https://cdn.pydata.org/bokeh/release/bokeh-tables-1.0.4.min.css\");\n",
       "      Bokeh.embed.inject_css(\"https://cdn.pydata.org/bokeh/release/bokeh-tables-1.0.4.min.css\");\n",
       "    }\n",
       "  ];\n",
       "\n",
       "  function run_inline_js() {\n",
       "    \n",
       "    if ((root.Bokeh !== undefined) || (force === true)) {\n",
       "      for (var i = 0; i < inline_js.length; i++) {\n",
       "        inline_js[i].call(root, root.Bokeh);\n",
       "      }if (force === true) {\n",
       "        display_loaded();\n",
       "      }} else if (Date.now() < root._bokeh_timeout) {\n",
       "      setTimeout(run_inline_js, 100);\n",
       "    } else if (!root._bokeh_failed_load) {\n",
       "      console.log(\"Bokeh: BokehJS failed to load within specified timeout.\");\n",
       "      root._bokeh_failed_load = true;\n",
       "    } else if (force !== true) {\n",
       "      var cell = $(document.getElementById(\"1798\")).parents('.cell').data().cell;\n",
       "      cell.output_area.append_execute_result(NB_LOAD_WARNING)\n",
       "    }\n",
       "\n",
       "  }\n",
       "\n",
       "  if (root._bokeh_is_loading === 0) {\n",
       "    console.log(\"Bokeh: BokehJS loaded, going straight to plotting\");\n",
       "    run_inline_js();\n",
       "  } else {\n",
       "    load_libs(js_urls, function() {\n",
       "      console.log(\"Bokeh: BokehJS plotting callback run at\", now());\n",
       "      run_inline_js();\n",
       "    });\n",
       "  }\n",
       "}(window));"
      ],
      "application/vnd.bokehjs_load.v0+json": "\n(function(root) {\n  function now() {\n    return new Date();\n  }\n\n  var force = true;\n\n  if (typeof (root._bokeh_onload_callbacks) === \"undefined\" || force === true) {\n    root._bokeh_onload_callbacks = [];\n    root._bokeh_is_loading = undefined;\n  }\n\n  \n\n  \n  if (typeof (root._bokeh_timeout) === \"undefined\" || force === true) {\n    root._bokeh_timeout = Date.now() + 5000;\n    root._bokeh_failed_load = false;\n  }\n\n  var NB_LOAD_WARNING = {'data': {'text/html':\n     \"<div style='background-color: #fdd'>\\n\"+\n     \"<p>\\n\"+\n     \"BokehJS does not appear to have successfully loaded. If loading BokehJS from CDN, this \\n\"+\n     \"may be due to a slow or bad network connection. Possible fixes:\\n\"+\n     \"</p>\\n\"+\n     \"<ul>\\n\"+\n     \"<li>re-rerun `output_notebook()` to attempt to load from CDN again, or</li>\\n\"+\n     \"<li>use INLINE resources instead, as so:</li>\\n\"+\n     \"</ul>\\n\"+\n     \"<code>\\n\"+\n     \"from bokeh.resources import INLINE\\n\"+\n     \"output_notebook(resources=INLINE)\\n\"+\n     \"</code>\\n\"+\n     \"</div>\"}};\n\n  function display_loaded() {\n    var el = document.getElementById(\"1798\");\n    if (el != null) {\n      el.textContent = \"BokehJS is loading...\";\n    }\n    if (root.Bokeh !== undefined) {\n      if (el != null) {\n        el.textContent = \"BokehJS \" + root.Bokeh.version + \" successfully loaded.\";\n      }\n    } else if (Date.now() < root._bokeh_timeout) {\n      setTimeout(display_loaded, 100)\n    }\n  }\n\n\n  function run_callbacks() {\n    try {\n      root._bokeh_onload_callbacks.forEach(function(callback) { callback() });\n    }\n    finally {\n      delete root._bokeh_onload_callbacks\n    }\n    console.info(\"Bokeh: all callbacks have finished\");\n  }\n\n  function load_libs(js_urls, callback) {\n    root._bokeh_onload_callbacks.push(callback);\n    if (root._bokeh_is_loading > 0) {\n      console.log(\"Bokeh: BokehJS is being loaded, scheduling callback at\", now());\n      return null;\n    }\n    if (js_urls == null || js_urls.length === 0) {\n      run_callbacks();\n      return null;\n    }\n    console.log(\"Bokeh: BokehJS not loaded, scheduling load and callback at\", now());\n    root._bokeh_is_loading = js_urls.length;\n    for (var i = 0; i < js_urls.length; i++) {\n      var url = js_urls[i];\n      var s = document.createElement('script');\n      s.src = url;\n      s.async = false;\n      s.onreadystatechange = s.onload = function() {\n        root._bokeh_is_loading--;\n        if (root._bokeh_is_loading === 0) {\n          console.log(\"Bokeh: all BokehJS libraries loaded\");\n          run_callbacks()\n        }\n      };\n      s.onerror = function() {\n        console.warn(\"failed to load library \" + url);\n      };\n      console.log(\"Bokeh: injecting script tag for BokehJS library: \", url);\n      document.getElementsByTagName(\"head\")[0].appendChild(s);\n    }\n  };var element = document.getElementById(\"1798\");\n  if (element == null) {\n    console.log(\"Bokeh: ERROR: autoload.js configured with elementid '1798' but no matching script tag was found. \")\n    return false;\n  }\n\n  var js_urls = [\"https://cdn.pydata.org/bokeh/release/bokeh-1.0.4.min.js\", \"https://cdn.pydata.org/bokeh/release/bokeh-widgets-1.0.4.min.js\", \"https://cdn.pydata.org/bokeh/release/bokeh-tables-1.0.4.min.js\", \"https://cdn.pydata.org/bokeh/release/bokeh-gl-1.0.4.min.js\"];\n\n  var inline_js = [\n    function(Bokeh) {\n      Bokeh.set_log_level(\"info\");\n    },\n    \n    function(Bokeh) {\n      \n    },\n    function(Bokeh) {\n      console.log(\"Bokeh: injecting CSS: https://cdn.pydata.org/bokeh/release/bokeh-1.0.4.min.css\");\n      Bokeh.embed.inject_css(\"https://cdn.pydata.org/bokeh/release/bokeh-1.0.4.min.css\");\n      console.log(\"Bokeh: injecting CSS: https://cdn.pydata.org/bokeh/release/bokeh-widgets-1.0.4.min.css\");\n      Bokeh.embed.inject_css(\"https://cdn.pydata.org/bokeh/release/bokeh-widgets-1.0.4.min.css\");\n      console.log(\"Bokeh: injecting CSS: https://cdn.pydata.org/bokeh/release/bokeh-tables-1.0.4.min.css\");\n      Bokeh.embed.inject_css(\"https://cdn.pydata.org/bokeh/release/bokeh-tables-1.0.4.min.css\");\n    }\n  ];\n\n  function run_inline_js() {\n    \n    if ((root.Bokeh !== undefined) || (force === true)) {\n      for (var i = 0; i < inline_js.length; i++) {\n        inline_js[i].call(root, root.Bokeh);\n      }if (force === true) {\n        display_loaded();\n      }} else if (Date.now() < root._bokeh_timeout) {\n      setTimeout(run_inline_js, 100);\n    } else if (!root._bokeh_failed_load) {\n      console.log(\"Bokeh: BokehJS failed to load within specified timeout.\");\n      root._bokeh_failed_load = true;\n    } else if (force !== true) {\n      var cell = $(document.getElementById(\"1798\")).parents('.cell').data().cell;\n      cell.output_area.append_execute_result(NB_LOAD_WARNING)\n    }\n\n  }\n\n  if (root._bokeh_is_loading === 0) {\n    console.log(\"Bokeh: BokehJS loaded, going straight to plotting\");\n    run_inline_js();\n  } else {\n    load_libs(js_urls, function() {\n      console.log(\"Bokeh: BokehJS plotting callback run at\", now());\n      run_inline_js();\n    });\n  }\n}(window));"
     },
     "metadata": {},
     "output_type": "display_data"
    },
    {
     "data": {
      "text/html": [
       "\n",
       "\n",
       "\n",
       "\n",
       "\n",
       "\n",
       "  <div class=\"bk-root\" id=\"fa076cc0-7a97-4db4-87be-08c558e50353\" data-root-id=\"1801\"></div>\n"
      ]
     },
     "metadata": {},
     "output_type": "display_data"
    },
    {
     "data": {
      "application/javascript": [
       "(function(root) {\n",
       "  function embed_document(root) {\n",
       "    \n",
       "  var docs_json = {\"5dcffc03-d6d3-4aab-9fc8-fcc3e6b80ca0\":{\"roots\":{\"references\":[{\"attributes\":{\"below\":[{\"id\":\"1811\",\"type\":\"LinearAxis\"}],\"left\":[{\"id\":\"1816\",\"type\":\"CategoricalAxis\"}],\"renderers\":[{\"id\":\"1811\",\"type\":\"LinearAxis\"},{\"id\":\"1815\",\"type\":\"Grid\"},{\"id\":\"1816\",\"type\":\"CategoricalAxis\"},{\"id\":\"1819\",\"type\":\"Grid\"},{\"id\":\"1828\",\"type\":\"BoxAnnotation\"},{\"id\":\"1838\",\"type\":\"GlyphRenderer\"}],\"title\":{\"id\":\"1800\",\"type\":\"Title\"},\"toolbar\":{\"id\":\"1826\",\"type\":\"Toolbar\"},\"x_range\":{\"id\":\"1803\",\"type\":\"DataRange1d\"},\"x_scale\":{\"id\":\"1807\",\"type\":\"LinearScale\"},\"y_range\":{\"id\":\"1805\",\"type\":\"FactorRange\"},\"y_scale\":{\"id\":\"1809\",\"type\":\"CategoricalScale\"}},\"id\":\"1801\",\"subtype\":\"Figure\",\"type\":\"Plot\"},{\"attributes\":{\"fill_color\":{\"value\":\"#1f77b4\"},\"line_color\":{\"value\":\"#1f77b4\"},\"size\":{\"units\":\"screen\",\"value\":12},\"x\":{\"field\":\"param_value\"},\"y\":{\"field\":\"param_name\"}},\"id\":\"1836\",\"type\":\"Circle\"},{\"attributes\":{},\"id\":\"1883\",\"type\":\"CategoricalTickFormatter\"},{\"attributes\":{},\"id\":\"1820\",\"type\":\"PanTool\"},{\"attributes\":{\"callback\":null,\"factors\":[\"age\",\"grade\",\"iq_score\",\"gender\"]},\"id\":\"1805\",\"type\":\"FactorRange\"},{\"attributes\":{\"callback\":null,\"data\":{\"index\":[0,1,2,3,4,5,6,7,8,9,10,11,12,13,14,15,16,17,18,19,20,21,22,23,24,25,26,27,28,29,30,31,32,33,34,35,36,37,38,39],\"model\":[\"model_0\",\"model_0\",\"model_0\",\"model_0\",\"model_1\",\"model_1\",\"model_1\",\"model_1\",\"model_2\",\"model_2\",\"model_2\",\"model_2\",\"model_3\",\"model_3\",\"model_3\",\"model_3\",\"model_4\",\"model_4\",\"model_4\",\"model_4\",\"model_5\",\"model_5\",\"model_5\",\"model_5\",\"model_6\",\"model_6\",\"model_6\",\"model_6\",\"model_7\",\"model_7\",\"model_7\",\"model_7\",\"model_8\",\"model_8\",\"model_8\",\"model_8\",\"model_9\",\"model_9\",\"model_9\",\"model_9\"],\"param_name\":[\"age\",\"grade\",\"iq_score\",\"gender\",\"age\",\"grade\",\"iq_score\",\"gender\",\"age\",\"grade\",\"iq_score\",\"gender\",\"age\",\"grade\",\"iq_score\",\"gender\",\"age\",\"grade\",\"iq_score\",\"gender\",\"age\",\"grade\",\"iq_score\",\"gender\",\"age\",\"grade\",\"iq_score\",\"gender\",\"age\",\"grade\",\"iq_score\",\"gender\",\"age\",\"grade\",\"iq_score\",\"gender\",\"age\",\"grade\",\"iq_score\",\"gender\"],\"param_value\":{\"__ndarray__\":\"7qd62qdn8D+B+XEPAJz4P+JAVhPZffo/1wdI0MbE9T9fW3Vy4xgLwMu3M113jv0/7CV8wAjR5T+mAXmGcYn8P1PKyoDfqOM/x4ATbzWT1j/I8n2j1tPlPwDrNRZ9EOQ/UnC/YEYZ+D9CHayoKhIBQKbrN/IEfN4/vQQ3+wzHAkB3hkMMhPOLP6pED4c+ePC/IBOWqPg35j/q6urkp6MOQO6mJqx+Oe0/iml/+GWx6D8hPZaqP1rpPyYo9PaSQvw/jR/Uj2B59j9wMO4d8zy5P3l71KMBdvw/1MfP7B967D/Gty6qqnvxP2KWHmBOVOu/yDFBPKfNyT9FBtCPKcHwP5mPJ+uoHL6/UmkLqo+yzz8eF0BA6O3SP+RoaV7zlPY/vcMDIpTZ6b+yo7PUxazcv3JtCO03beI/KM6mmnns678=\",\"dtype\":\"float64\",\"shape\":[40]}},\"selected\":{\"id\":\"1885\",\"type\":\"Selection\"},\"selection_policy\":{\"id\":\"1886\",\"type\":\"UnionRenderers\"}},\"id\":\"1799\",\"type\":\"ColumnDataSource\"},{\"attributes\":{},\"id\":\"1821\",\"type\":\"WheelZoomTool\"},{\"attributes\":{\"plot\":null,\"text\":\"Comparison Plot\"},\"id\":\"1800\",\"type\":\"Title\"},{\"attributes\":{\"overlay\":{\"id\":\"1828\",\"type\":\"BoxAnnotation\"}},\"id\":\"1822\",\"type\":\"BoxZoomTool\"},{\"attributes\":{},\"id\":\"1886\",\"type\":\"UnionRenderers\"},{\"attributes\":{},\"id\":\"1823\",\"type\":\"SaveTool\"},{\"attributes\":{\"callback\":null},\"id\":\"1803\",\"type\":\"DataRange1d\"},{\"attributes\":{},\"id\":\"1824\",\"type\":\"ResetTool\"},{\"attributes\":{},\"id\":\"1825\",\"type\":\"HelpTool\"},{\"attributes\":{\"active_drag\":\"auto\",\"active_inspect\":\"auto\",\"active_multi\":null,\"active_scroll\":\"auto\",\"active_tap\":\"auto\",\"tools\":[{\"id\":\"1820\",\"type\":\"PanTool\"},{\"id\":\"1821\",\"type\":\"WheelZoomTool\"},{\"id\":\"1822\",\"type\":\"BoxZoomTool\"},{\"id\":\"1823\",\"type\":\"SaveTool\"},{\"id\":\"1824\",\"type\":\"ResetTool\"},{\"id\":\"1825\",\"type\":\"HelpTool\"}]},\"id\":\"1826\",\"type\":\"Toolbar\"},{\"attributes\":{\"fill_alpha\":{\"value\":0.1},\"fill_color\":{\"value\":\"#1f77b4\"},\"line_alpha\":{\"value\":0.1},\"line_color\":{\"value\":\"#1f77b4\"},\"size\":{\"units\":\"screen\",\"value\":12},\"x\":{\"field\":\"param_value\"},\"y\":{\"field\":\"param_name\"}},\"id\":\"1837\",\"type\":\"Circle\"},{\"attributes\":{\"formatter\":{\"id\":\"1883\",\"type\":\"CategoricalTickFormatter\"},\"plot\":{\"id\":\"1801\",\"subtype\":\"Figure\",\"type\":\"Plot\"},\"ticker\":{\"id\":\"1817\",\"type\":\"CategoricalTicker\"}},\"id\":\"1816\",\"type\":\"CategoricalAxis\"},{\"attributes\":{\"bottom_units\":\"screen\",\"fill_alpha\":{\"value\":0.5},\"fill_color\":{\"value\":\"lightgrey\"},\"left_units\":\"screen\",\"level\":\"overlay\",\"line_alpha\":{\"value\":1.0},\"line_color\":{\"value\":\"black\"},\"line_dash\":[4,4],\"line_width\":{\"value\":2},\"plot\":null,\"render_mode\":\"css\",\"right_units\":\"screen\",\"top_units\":\"screen\"},\"id\":\"1828\",\"type\":\"BoxAnnotation\"},{\"attributes\":{\"plot\":{\"id\":\"1801\",\"subtype\":\"Figure\",\"type\":\"Plot\"},\"ticker\":{\"id\":\"1812\",\"type\":\"BasicTicker\"}},\"id\":\"1815\",\"type\":\"Grid\"},{\"attributes\":{\"data_source\":{\"id\":\"1799\",\"type\":\"ColumnDataSource\"},\"glyph\":{\"id\":\"1836\",\"type\":\"Circle\"},\"hover_glyph\":null,\"muted_glyph\":null,\"nonselection_glyph\":{\"id\":\"1837\",\"type\":\"Circle\"},\"selection_glyph\":null,\"view\":{\"id\":\"1839\",\"type\":\"CDSView\"}},\"id\":\"1838\",\"type\":\"GlyphRenderer\"},{\"attributes\":{},\"id\":\"1807\",\"type\":\"LinearScale\"},{\"attributes\":{\"source\":{\"id\":\"1799\",\"type\":\"ColumnDataSource\"}},\"id\":\"1839\",\"type\":\"CDSView\"},{\"attributes\":{},\"id\":\"1809\",\"type\":\"CategoricalScale\"},{\"attributes\":{\"formatter\":{\"id\":\"1881\",\"type\":\"BasicTickFormatter\"},\"plot\":{\"id\":\"1801\",\"subtype\":\"Figure\",\"type\":\"Plot\"},\"ticker\":{\"id\":\"1812\",\"type\":\"BasicTicker\"}},\"id\":\"1811\",\"type\":\"LinearAxis\"},{\"attributes\":{},\"id\":\"1881\",\"type\":\"BasicTickFormatter\"},{\"attributes\":{},\"id\":\"1812\",\"type\":\"BasicTicker\"},{\"attributes\":{},\"id\":\"1817\",\"type\":\"CategoricalTicker\"},{\"attributes\":{\"dimension\":1,\"plot\":{\"id\":\"1801\",\"subtype\":\"Figure\",\"type\":\"Plot\"},\"ticker\":{\"id\":\"1817\",\"type\":\"CategoricalTicker\"}},\"id\":\"1819\",\"type\":\"Grid\"},{\"attributes\":{},\"id\":\"1885\",\"type\":\"Selection\"}],\"root_ids\":[\"1801\"]},\"title\":\"Bokeh Application\",\"version\":\"1.0.4\"}};\n",
       "  var render_items = [{\"docid\":\"5dcffc03-d6d3-4aab-9fc8-fcc3e6b80ca0\",\"roots\":{\"1801\":\"fa076cc0-7a97-4db4-87be-08c558e50353\"}}];\n",
       "  root.Bokeh.embed.embed_items_notebook(docs_json, render_items);\n",
       "\n",
       "  }\n",
       "  if (root.Bokeh !== undefined) {\n",
       "    embed_document(root);\n",
       "  } else {\n",
       "    var attempts = 0;\n",
       "    var timer = setInterval(function(root) {\n",
       "      if (root.Bokeh !== undefined) {\n",
       "        embed_document(root);\n",
       "        clearInterval(timer);\n",
       "      }\n",
       "      attempts++;\n",
       "      if (attempts > 100) {\n",
       "        console.log(\"Bokeh: ERROR: Unable to run BokehJS code because BokehJS library is missing\");\n",
       "        clearInterval(timer);\n",
       "      }\n",
       "    }, 10, root)\n",
       "  }\n",
       "})(window);"
      ],
      "application/vnd.bokehjs_exec.v0+json": ""
     },
     "metadata": {
      "application/vnd.bokehjs_exec.v0+json": {
       "id": "1801"
      }
     },
     "output_type": "display_data"
    }
   ],
   "source": [
    "# display the plot in the notebook \n",
    "# same as %matplotlib inline\n",
    "output_notebook() \n",
    "\n",
    "static_comparison_plot(df1)"
   ]
  },
  {
   "cell_type": "markdown",
   "metadata": {},
   "source": [
    "This already supports some basic interactivity out of the box:\n",
    "- zooming\n",
    "- moving"
   ]
  },
  {
   "cell_type": "markdown",
   "metadata": {},
   "source": [
    "# Display Additional Information when Hovering"
   ]
  },
  {
   "cell_type": "code",
   "execution_count": 130,
   "metadata": {},
   "outputs": [],
   "source": [
    "from bokeh.models import HoverTool\n",
    "\n",
    "\n",
    "def comparison_plot_with_hovering(df):\n",
    "    source = ColumnDataSource(df)\n",
    "    \n",
    "    # create the \"canvas\"\n",
    "    plot = figure(\n",
    "        title=\"Comparison Plot\",\n",
    "        y_range=df[\"param_name\"].unique())\n",
    "    \n",
    "    # add circles representing the parameter value\n",
    "    circle_glyph = plot.circle(\n",
    "        source=source,\n",
    "        x=\"param_value\",\n",
    "        y=\"param_name\",\n",
    "        size=12)\n",
    "    \n",
    "    # HoverTool\n",
    "    tooltips = [\n",
    "        (\"parameter value\", \"@param_value\"),\n",
    "        (\"model\", \"@model\")]\n",
    "    hover = HoverTool(renderers=[circle_glyph], tooltips=tooltips)\n",
    "    plot.tools.append(hover)\n",
    "\n",
    "    show(plot)"
   ]
  },
  {
   "cell_type": "code",
   "execution_count": 131,
   "metadata": {},
   "outputs": [
    {
     "data": {
      "text/html": [
       "\n",
       "\n",
       "\n",
       "\n",
       "\n",
       "\n",
       "  <div class=\"bk-root\" id=\"e1f6a722-74ed-45dd-8c1b-1b79d3777a0e\" data-root-id=\"11166\"></div>\n"
      ]
     },
     "metadata": {},
     "output_type": "display_data"
    },
    {
     "data": {
      "application/javascript": [
       "(function(root) {\n",
       "  function embed_document(root) {\n",
       "    \n",
       "  var docs_json = {\"8253b033-95ec-4369-a5e6-f56a8b218e36\":{\"roots\":{\"references\":[{\"attributes\":{\"below\":[{\"id\":\"11176\",\"type\":\"LinearAxis\"}],\"left\":[{\"id\":\"11181\",\"type\":\"CategoricalAxis\"}],\"renderers\":[{\"id\":\"11176\",\"type\":\"LinearAxis\"},{\"id\":\"11180\",\"type\":\"Grid\"},{\"id\":\"11181\",\"type\":\"CategoricalAxis\"},{\"id\":\"11184\",\"type\":\"Grid\"},{\"id\":\"11193\",\"type\":\"BoxAnnotation\"},{\"id\":\"11203\",\"type\":\"GlyphRenderer\"}],\"title\":{\"id\":\"11165\",\"type\":\"Title\"},\"toolbar\":{\"id\":\"11191\",\"type\":\"Toolbar\"},\"x_range\":{\"id\":\"11168\",\"type\":\"DataRange1d\"},\"x_scale\":{\"id\":\"11172\",\"type\":\"LinearScale\"},\"y_range\":{\"id\":\"11170\",\"type\":\"FactorRange\"},\"y_scale\":{\"id\":\"11174\",\"type\":\"CategoricalScale\"}},\"id\":\"11166\",\"subtype\":\"Figure\",\"type\":\"Plot\"},{\"attributes\":{\"fill_alpha\":{\"value\":0.1},\"fill_color\":{\"value\":\"#1f77b4\"},\"line_alpha\":{\"value\":0.1},\"line_color\":{\"value\":\"#1f77b4\"},\"size\":{\"units\":\"screen\",\"value\":12},\"x\":{\"field\":\"param_value\"},\"y\":{\"field\":\"param_name\"}},\"id\":\"11202\",\"type\":\"Circle\"},{\"attributes\":{\"data_source\":{\"id\":\"11164\",\"type\":\"ColumnDataSource\"},\"glyph\":{\"id\":\"11201\",\"type\":\"Circle\"},\"hover_glyph\":null,\"muted_glyph\":null,\"nonselection_glyph\":{\"id\":\"11202\",\"type\":\"Circle\"},\"selection_glyph\":null,\"view\":{\"id\":\"11204\",\"type\":\"CDSView\"}},\"id\":\"11203\",\"type\":\"GlyphRenderer\"},{\"attributes\":{},\"id\":\"11185\",\"type\":\"PanTool\"},{\"attributes\":{},\"id\":\"11186\",\"type\":\"WheelZoomTool\"},{\"attributes\":{\"callback\":null},\"id\":\"11168\",\"type\":\"DataRange1d\"},{\"attributes\":{\"overlay\":{\"id\":\"11193\",\"type\":\"BoxAnnotation\"}},\"id\":\"11187\",\"type\":\"BoxZoomTool\"},{\"attributes\":{},\"id\":\"11188\",\"type\":\"SaveTool\"},{\"attributes\":{\"callback\":null,\"data\":{\"index\":[0,1,2,3,4,5,6,7,8,9,10,11,12,13,14,15,16,17,18,19,20,21,22,23,24,25,26,27,28,29,30,31,32,33,34,35,36,37,38,39],\"model\":[\"model_0\",\"model_0\",\"model_0\",\"model_0\",\"model_1\",\"model_1\",\"model_1\",\"model_1\",\"model_2\",\"model_2\",\"model_2\",\"model_2\",\"model_3\",\"model_3\",\"model_3\",\"model_3\",\"model_4\",\"model_4\",\"model_4\",\"model_4\",\"model_5\",\"model_5\",\"model_5\",\"model_5\",\"model_6\",\"model_6\",\"model_6\",\"model_6\",\"model_7\",\"model_7\",\"model_7\",\"model_7\",\"model_8\",\"model_8\",\"model_8\",\"model_8\",\"model_9\",\"model_9\",\"model_9\",\"model_9\"],\"param_name\":[\"age\",\"grade\",\"iq_score\",\"gender\",\"age\",\"grade\",\"iq_score\",\"gender\",\"age\",\"grade\",\"iq_score\",\"gender\",\"age\",\"grade\",\"iq_score\",\"gender\",\"age\",\"grade\",\"iq_score\",\"gender\",\"age\",\"grade\",\"iq_score\",\"gender\",\"age\",\"grade\",\"iq_score\",\"gender\",\"age\",\"grade\",\"iq_score\",\"gender\",\"age\",\"grade\",\"iq_score\",\"gender\",\"age\",\"grade\",\"iq_score\",\"gender\"],\"param_value\":{\"__ndarray__\":\"7qd62qdn8D+B+XEPAJz4P+JAVhPZffo/1wdI0MbE9T9fW3Vy4xgLwMu3M113jv0/7CV8wAjR5T+mAXmGcYn8P1PKyoDfqOM/x4ATbzWT1j/I8n2j1tPlPwDrNRZ9EOQ/UnC/YEYZ+D9CHayoKhIBQKbrN/IEfN4/vQQ3+wzHAkB3hkMMhPOLP6pED4c+ePC/IBOWqPg35j/q6urkp6MOQO6mJqx+Oe0/iml/+GWx6D8hPZaqP1rpPyYo9PaSQvw/jR/Uj2B59j9wMO4d8zy5P3l71KMBdvw/1MfP7B967D/Gty6qqnvxP2KWHmBOVOu/yDFBPKfNyT9FBtCPKcHwP5mPJ+uoHL6/UmkLqo+yzz8eF0BA6O3SP+RoaV7zlPY/vcMDIpTZ6b+yo7PUxazcv3JtCO03beI/KM6mmnns678=\",\"dtype\":\"float64\",\"shape\":[40]}},\"selected\":{\"id\":\"11525\",\"type\":\"Selection\"},\"selection_policy\":{\"id\":\"11526\",\"type\":\"UnionRenderers\"}},\"id\":\"11164\",\"type\":\"ColumnDataSource\"},{\"attributes\":{\"plot\":null,\"text\":\"Comparison Plot\"},\"id\":\"11165\",\"type\":\"Title\"},{\"attributes\":{},\"id\":\"11189\",\"type\":\"ResetTool\"},{\"attributes\":{\"callback\":null,\"factors\":[\"age\",\"grade\",\"iq_score\",\"gender\"]},\"id\":\"11170\",\"type\":\"FactorRange\"},{\"attributes\":{},\"id\":\"11190\",\"type\":\"HelpTool\"},{\"attributes\":{\"active_drag\":\"auto\",\"active_inspect\":\"auto\",\"active_multi\":null,\"active_scroll\":\"auto\",\"active_tap\":\"auto\",\"tools\":[{\"id\":\"11185\",\"type\":\"PanTool\"},{\"id\":\"11186\",\"type\":\"WheelZoomTool\"},{\"id\":\"11187\",\"type\":\"BoxZoomTool\"},{\"id\":\"11188\",\"type\":\"SaveTool\"},{\"id\":\"11189\",\"type\":\"ResetTool\"},{\"id\":\"11190\",\"type\":\"HelpTool\"},{\"id\":\"11205\",\"type\":\"HoverTool\"}]},\"id\":\"11191\",\"type\":\"Toolbar\"},{\"attributes\":{\"fill_color\":{\"value\":\"#1f77b4\"},\"line_color\":{\"value\":\"#1f77b4\"},\"size\":{\"units\":\"screen\",\"value\":12},\"x\":{\"field\":\"param_value\"},\"y\":{\"field\":\"param_name\"}},\"id\":\"11201\",\"type\":\"Circle\"},{\"attributes\":{\"bottom_units\":\"screen\",\"fill_alpha\":{\"value\":0.5},\"fill_color\":{\"value\":\"lightgrey\"},\"left_units\":\"screen\",\"level\":\"overlay\",\"line_alpha\":{\"value\":1.0},\"line_color\":{\"value\":\"black\"},\"line_dash\":[4,4],\"line_width\":{\"value\":2},\"plot\":null,\"render_mode\":\"css\",\"right_units\":\"screen\",\"top_units\":\"screen\"},\"id\":\"11193\",\"type\":\"BoxAnnotation\"},{\"attributes\":{\"formatter\":{\"id\":\"11523\",\"type\":\"CategoricalTickFormatter\"},\"plot\":{\"id\":\"11166\",\"subtype\":\"Figure\",\"type\":\"Plot\"},\"ticker\":{\"id\":\"11182\",\"type\":\"CategoricalTicker\"}},\"id\":\"11181\",\"type\":\"CategoricalAxis\"},{\"attributes\":{\"source\":{\"id\":\"11164\",\"type\":\"ColumnDataSource\"}},\"id\":\"11204\",\"type\":\"CDSView\"},{\"attributes\":{\"plot\":{\"id\":\"11166\",\"subtype\":\"Figure\",\"type\":\"Plot\"},\"ticker\":{\"id\":\"11177\",\"type\":\"BasicTicker\"}},\"id\":\"11180\",\"type\":\"Grid\"},{\"attributes\":{},\"id\":\"11174\",\"type\":\"CategoricalScale\"},{\"attributes\":{\"callback\":null,\"renderers\":[{\"id\":\"11203\",\"type\":\"GlyphRenderer\"}],\"tooltips\":[[\"parameter value\",\"@param_value\"],[\"model\",\"@model\"]]},\"id\":\"11205\",\"type\":\"HoverTool\"},{\"attributes\":{},\"id\":\"11177\",\"type\":\"BasicTicker\"},{\"attributes\":{},\"id\":\"11521\",\"type\":\"BasicTickFormatter\"},{\"attributes\":{\"formatter\":{\"id\":\"11521\",\"type\":\"BasicTickFormatter\"},\"plot\":{\"id\":\"11166\",\"subtype\":\"Figure\",\"type\":\"Plot\"},\"ticker\":{\"id\":\"11177\",\"type\":\"BasicTicker\"}},\"id\":\"11176\",\"type\":\"LinearAxis\"},{\"attributes\":{},\"id\":\"11523\",\"type\":\"CategoricalTickFormatter\"},{\"attributes\":{},\"id\":\"11525\",\"type\":\"Selection\"},{\"attributes\":{},\"id\":\"11172\",\"type\":\"LinearScale\"},{\"attributes\":{},\"id\":\"11526\",\"type\":\"UnionRenderers\"},{\"attributes\":{},\"id\":\"11182\",\"type\":\"CategoricalTicker\"},{\"attributes\":{\"dimension\":1,\"plot\":{\"id\":\"11166\",\"subtype\":\"Figure\",\"type\":\"Plot\"},\"ticker\":{\"id\":\"11182\",\"type\":\"CategoricalTicker\"}},\"id\":\"11184\",\"type\":\"Grid\"}],\"root_ids\":[\"11166\"]},\"title\":\"Bokeh Application\",\"version\":\"1.0.4\"}};\n",
       "  var render_items = [{\"docid\":\"8253b033-95ec-4369-a5e6-f56a8b218e36\",\"roots\":{\"11166\":\"e1f6a722-74ed-45dd-8c1b-1b79d3777a0e\"}}];\n",
       "  root.Bokeh.embed.embed_items_notebook(docs_json, render_items);\n",
       "\n",
       "  }\n",
       "  if (root.Bokeh !== undefined) {\n",
       "    embed_document(root);\n",
       "  } else {\n",
       "    var attempts = 0;\n",
       "    var timer = setInterval(function(root) {\n",
       "      if (root.Bokeh !== undefined) {\n",
       "        embed_document(root);\n",
       "        clearInterval(timer);\n",
       "      }\n",
       "      attempts++;\n",
       "      if (attempts > 100) {\n",
       "        console.log(\"Bokeh: ERROR: Unable to run BokehJS code because BokehJS library is missing\");\n",
       "        clearInterval(timer);\n",
       "      }\n",
       "    }, 10, root)\n",
       "  }\n",
       "})(window);"
      ],
      "application/vnd.bokehjs_exec.v0+json": ""
     },
     "metadata": {
      "application/vnd.bokehjs_exec.v0+json": {
       "id": "11166"
      }
     },
     "output_type": "display_data"
    }
   ],
   "source": [
    "comparison_plot_with_hovering(df1)"
   ]
  },
  {
   "cell_type": "code",
   "execution_count": null,
   "metadata": {},
   "outputs": [],
   "source": []
  },
  {
   "cell_type": "markdown",
   "metadata": {},
   "source": [
    "# Select points of the same model when one estimate is selected"
   ]
  },
  {
   "cell_type": "code",
   "execution_count": 47,
   "metadata": {},
   "outputs": [],
   "source": [
    "# two components of Bokeh\n",
    "# need custom callback when point is tapped\n",
    "# server OR JavaScript\n",
    "# ..."
   ]
  },
  {
   "cell_type": "code",
   "execution_count": 235,
   "metadata": {},
   "outputs": [
    {
     "data": {
      "application/javascript": [
       "\n",
       "function select_model_points(source){\n",
       "\n",
       "// adapted from https://stackoverflow.com/a/44996422\n",
       "var chosen = source.selected.indices;\n",
       "if (typeof(chosen) == \"number\"){\n",
       "    var chosen = [chosen]\n",
       "};\n",
       "\n",
       "var chosen_models = []; \n",
       "\n",
       "for (var i = 0; i < chosen.length; ++ i){\n",
       "    chosen_models.push(source.data['model'][chosen[i]])\n",
       "};\n",
       "        \n",
       "var chosen_models_indices = []; \n",
       "\n",
       "for (var i = 0; i < source.data['index'].length; ++ i){\n",
       "    if (chosen_models.includes(source.data['model'][i])){\n",
       "        chosen_models_indices.push(i)\n",
       "    };\n",
       "};\n",
       "\n",
       "source.selected.indices = chosen_models_indices \n",
       "source.change.emit();\n",
       "    \n",
       "}\n"
      ],
      "text/plain": [
       "<IPython.core.display.Javascript object>"
      ]
     },
     "metadata": {},
     "output_type": "display_data"
    }
   ],
   "source": [
    "%%javascript\n",
    "\n",
    "function select_model_points(source){\n",
    "\n",
    "// adapted from https://stackoverflow.com/a/44996422\n",
    "var chosen = source.selected.indices;\n",
    "if (typeof(chosen) == \"number\"){\n",
    "    var chosen = [chosen]\n",
    "};\n",
    "\n",
    "var chosen_models = []; \n",
    "\n",
    "for (var i = 0; i < chosen.length; ++ i){\n",
    "    chosen_models.push(source.data['model'][chosen[i]])\n",
    "};\n",
    "        \n",
    "var chosen_models_indices = []; \n",
    "\n",
    "for (var i = 0; i < source.data['index'].length; ++ i){\n",
    "    if (chosen_models.includes(source.data['model'][i])){\n",
    "        chosen_models_indices.push(i)\n",
    "    };\n",
    "};\n",
    "\n",
    "source.selected.indices = chosen_models_indices \n",
    "source.change.emit();\n",
    "    \n",
    "}"
   ]
  },
  {
   "cell_type": "code",
   "execution_count": 239,
   "metadata": {},
   "outputs": [],
   "source": [
    "with open('callback.js', 'r') as f:\n",
    "    js_code = f.read()"
   ]
  },
  {
   "cell_type": "code",
   "execution_count": 245,
   "metadata": {},
   "outputs": [],
   "source": [
    "from bokeh.models import CustomJS\n",
    "\n",
    "def comparison_plot_with_model_selection(df, js_code=js_code):\n",
    "    # safety measure to make sure the index \n",
    "    # gives the position in the arrays \n",
    "    # that the source data dictionary points to\n",
    "    safe_df = df.reset_index(drop=True)\n",
    "    \n",
    "    source = ColumnDataSource(df)\n",
    "    \n",
    "    # create the \"canvas\"\n",
    "    plot = figure(\n",
    "        title=\"Comparison Plot\",\n",
    "        y_range=df[\"param_name\"].unique())\n",
    "    \n",
    "    # add circles representing the parameter value\n",
    "    circle_glyph = plot.circle(\n",
    "        source=source,\n",
    "        x=\"param_value\",\n",
    "        y=\"param_name\",\n",
    "        size=12)\n",
    "    \n",
    "    # HoverTool\n",
    "    tooltips = [\n",
    "        (\"parameter value\", \"@param_value\"),\n",
    "        (\"model\", \"@model\")]\n",
    "    hover = HoverTool(renderers=[circle_glyph], tooltips=tooltips)\n",
    "    plot.tools.append(hover)\n",
    "    \n",
    "    # TapTool\n",
    "    js_kwargs = {\"source\": source}\n",
    "    js_callback = CustomJS(args=js_kwargs, code=js_code)\n",
    "    tap = TapTool(callback=js_callback)\n",
    "    plot.tools.append(tap)\n",
    "\n",
    "    show(plot)"
   ]
  },
  {
   "cell_type": "code",
   "execution_count": 246,
   "metadata": {},
   "outputs": [
    {
     "data": {
      "text/html": [
       "\n",
       "\n",
       "\n",
       "\n",
       "\n",
       "\n",
       "  <div class=\"bk-root\" id=\"40ff02af-2ad0-4db9-a9fc-704475cb4611\" data-root-id=\"41756\"></div>\n"
      ]
     },
     "metadata": {},
     "output_type": "display_data"
    },
    {
     "data": {
      "application/javascript": [
       "(function(root) {\n",
       "  function embed_document(root) {\n",
       "    \n",
       "  var docs_json = {\"e2cac996-b1dd-4cce-ae1d-6ea78cae13c8\":{\"roots\":{\"references\":[{\"attributes\":{\"below\":[{\"id\":\"41766\",\"type\":\"LinearAxis\"}],\"left\":[{\"id\":\"41771\",\"type\":\"CategoricalAxis\"}],\"renderers\":[{\"id\":\"41766\",\"type\":\"LinearAxis\"},{\"id\":\"41770\",\"type\":\"Grid\"},{\"id\":\"41771\",\"type\":\"CategoricalAxis\"},{\"id\":\"41774\",\"type\":\"Grid\"},{\"id\":\"41783\",\"type\":\"BoxAnnotation\"},{\"id\":\"41793\",\"type\":\"GlyphRenderer\"}],\"title\":{\"id\":\"41755\",\"type\":\"Title\"},\"toolbar\":{\"id\":\"41781\",\"type\":\"Toolbar\"},\"x_range\":{\"id\":\"41758\",\"type\":\"DataRange1d\"},\"x_scale\":{\"id\":\"41762\",\"type\":\"LinearScale\"},\"y_range\":{\"id\":\"41760\",\"type\":\"FactorRange\"},\"y_scale\":{\"id\":\"41764\",\"type\":\"CategoricalScale\"}},\"id\":\"41756\",\"subtype\":\"Figure\",\"type\":\"Plot\"},{\"attributes\":{},\"id\":\"41775\",\"type\":\"PanTool\"},{\"attributes\":{\"source\":{\"id\":\"41754\",\"type\":\"ColumnDataSource\"}},\"id\":\"41794\",\"type\":\"CDSView\"},{\"attributes\":{\"overlay\":{\"id\":\"41783\",\"type\":\"BoxAnnotation\"}},\"id\":\"41777\",\"type\":\"BoxZoomTool\"},{\"attributes\":{\"callback\":null,\"data\":{\"index\":[0,1,2,3,4,5,6,7,8,9,10,11,12,13,14,15,16,17,18,19,20,21,22,23,24,25,26,27,28,29,30,31,32,33,34,35,36,37,38,39],\"model\":[\"model_0\",\"model_0\",\"model_0\",\"model_0\",\"model_1\",\"model_1\",\"model_1\",\"model_1\",\"model_2\",\"model_2\",\"model_2\",\"model_2\",\"model_3\",\"model_3\",\"model_3\",\"model_3\",\"model_4\",\"model_4\",\"model_4\",\"model_4\",\"model_5\",\"model_5\",\"model_5\",\"model_5\",\"model_6\",\"model_6\",\"model_6\",\"model_6\",\"model_7\",\"model_7\",\"model_7\",\"model_7\",\"model_8\",\"model_8\",\"model_8\",\"model_8\",\"model_9\",\"model_9\",\"model_9\",\"model_9\"],\"param_name\":[\"age\",\"grade\",\"iq_score\",\"gender\",\"age\",\"grade\",\"iq_score\",\"gender\",\"age\",\"grade\",\"iq_score\",\"gender\",\"age\",\"grade\",\"iq_score\",\"gender\",\"age\",\"grade\",\"iq_score\",\"gender\",\"age\",\"grade\",\"iq_score\",\"gender\",\"age\",\"grade\",\"iq_score\",\"gender\",\"age\",\"grade\",\"iq_score\",\"gender\",\"age\",\"grade\",\"iq_score\",\"gender\",\"age\",\"grade\",\"iq_score\",\"gender\"],\"param_value\":{\"__ndarray__\":\"7qd62qdn8D+B+XEPAJz4P+JAVhPZffo/1wdI0MbE9T9fW3Vy4xgLwMu3M113jv0/7CV8wAjR5T+mAXmGcYn8P1PKyoDfqOM/x4ATbzWT1j/I8n2j1tPlPwDrNRZ9EOQ/UnC/YEYZ+D9CHayoKhIBQKbrN/IEfN4/vQQ3+wzHAkB3hkMMhPOLP6pED4c+ePC/IBOWqPg35j/q6urkp6MOQO6mJqx+Oe0/iml/+GWx6D8hPZaqP1rpPyYo9PaSQvw/jR/Uj2B59j9wMO4d8zy5P3l71KMBdvw/1MfP7B967D/Gty6qqnvxP2KWHmBOVOu/yDFBPKfNyT9FBtCPKcHwP5mPJ+uoHL6/UmkLqo+yzz8eF0BA6O3SP+RoaV7zlPY/vcMDIpTZ6b+yo7PUxazcv3JtCO03beI/KM6mmnns678=\",\"dtype\":\"float64\",\"shape\":[40]}},\"selected\":{\"id\":\"42518\",\"type\":\"Selection\"},\"selection_policy\":{\"id\":\"42519\",\"type\":\"UnionRenderers\"}},\"id\":\"41754\",\"type\":\"ColumnDataSource\"},{\"attributes\":{},\"id\":\"42514\",\"type\":\"BasicTickFormatter\"},{\"attributes\":{\"plot\":null,\"text\":\"Comparison Plot\"},\"id\":\"41755\",\"type\":\"Title\"},{\"attributes\":{\"data_source\":{\"id\":\"41754\",\"type\":\"ColumnDataSource\"},\"glyph\":{\"id\":\"41791\",\"type\":\"Circle\"},\"hover_glyph\":null,\"muted_glyph\":null,\"nonselection_glyph\":{\"id\":\"41792\",\"type\":\"Circle\"},\"selection_glyph\":null,\"view\":{\"id\":\"41794\",\"type\":\"CDSView\"}},\"id\":\"41793\",\"type\":\"GlyphRenderer\"},{\"attributes\":{\"plot\":{\"id\":\"41756\",\"subtype\":\"Figure\",\"type\":\"Plot\"},\"ticker\":{\"id\":\"41767\",\"type\":\"BasicTicker\"}},\"id\":\"41770\",\"type\":\"Grid\"},{\"attributes\":{\"active_drag\":\"auto\",\"active_inspect\":\"auto\",\"active_multi\":null,\"active_scroll\":\"auto\",\"active_tap\":\"auto\",\"tools\":[{\"id\":\"41775\",\"type\":\"PanTool\"},{\"id\":\"41776\",\"type\":\"WheelZoomTool\"},{\"id\":\"41777\",\"type\":\"BoxZoomTool\"},{\"id\":\"41778\",\"type\":\"SaveTool\"},{\"id\":\"41779\",\"type\":\"ResetTool\"},{\"id\":\"41780\",\"type\":\"HelpTool\"},{\"id\":\"41795\",\"type\":\"HoverTool\"},{\"id\":\"41798\",\"type\":\"TapTool\"}]},\"id\":\"41781\",\"type\":\"Toolbar\"},{\"attributes\":{},\"id\":\"41780\",\"type\":\"HelpTool\"},{\"attributes\":{},\"id\":\"42519\",\"type\":\"UnionRenderers\"},{\"attributes\":{\"formatter\":{\"id\":\"42516\",\"type\":\"CategoricalTickFormatter\"},\"plot\":{\"id\":\"41756\",\"subtype\":\"Figure\",\"type\":\"Plot\"},\"ticker\":{\"id\":\"41772\",\"type\":\"CategoricalTicker\"}},\"id\":\"41771\",\"type\":\"CategoricalAxis\"},{\"attributes\":{},\"id\":\"41778\",\"type\":\"SaveTool\"},{\"attributes\":{\"bottom_units\":\"screen\",\"fill_alpha\":{\"value\":0.5},\"fill_color\":{\"value\":\"lightgrey\"},\"left_units\":\"screen\",\"level\":\"overlay\",\"line_alpha\":{\"value\":1.0},\"line_color\":{\"value\":\"black\"},\"line_dash\":[4,4],\"line_width\":{\"value\":2},\"plot\":null,\"render_mode\":\"css\",\"right_units\":\"screen\",\"top_units\":\"screen\"},\"id\":\"41783\",\"type\":\"BoxAnnotation\"},{\"attributes\":{\"dimension\":1,\"plot\":{\"id\":\"41756\",\"subtype\":\"Figure\",\"type\":\"Plot\"},\"ticker\":{\"id\":\"41772\",\"type\":\"CategoricalTicker\"}},\"id\":\"41774\",\"type\":\"Grid\"},{\"attributes\":{},\"id\":\"42516\",\"type\":\"CategoricalTickFormatter\"},{\"attributes\":{\"formatter\":{\"id\":\"42514\",\"type\":\"BasicTickFormatter\"},\"plot\":{\"id\":\"41756\",\"subtype\":\"Figure\",\"type\":\"Plot\"},\"ticker\":{\"id\":\"41767\",\"type\":\"BasicTicker\"}},\"id\":\"41766\",\"type\":\"LinearAxis\"},{\"attributes\":{},\"id\":\"41779\",\"type\":\"ResetTool\"},{\"attributes\":{},\"id\":\"42518\",\"type\":\"Selection\"},{\"attributes\":{\"fill_alpha\":{\"value\":0.1},\"fill_color\":{\"value\":\"#1f77b4\"},\"line_alpha\":{\"value\":0.1},\"line_color\":{\"value\":\"#1f77b4\"},\"size\":{\"units\":\"screen\",\"value\":12},\"x\":{\"field\":\"param_value\"},\"y\":{\"field\":\"param_name\"}},\"id\":\"41792\",\"type\":\"Circle\"},{\"attributes\":{},\"id\":\"41767\",\"type\":\"BasicTicker\"},{\"attributes\":{\"callback\":null,\"factors\":[\"age\",\"grade\",\"iq_score\",\"gender\"]},\"id\":\"41760\",\"type\":\"FactorRange\"},{\"attributes\":{\"callback\":null,\"renderers\":[{\"id\":\"41793\",\"type\":\"GlyphRenderer\"}],\"tooltips\":[[\"parameter value\",\"@param_value\"],[\"model\",\"@model\"]]},\"id\":\"41795\",\"type\":\"HoverTool\"},{\"attributes\":{},\"id\":\"41762\",\"type\":\"LinearScale\"},{\"attributes\":{\"callback\":{\"id\":\"41797\",\"type\":\"CustomJS\"}},\"id\":\"41798\",\"type\":\"TapTool\"},{\"attributes\":{},\"id\":\"41764\",\"type\":\"CategoricalScale\"},{\"attributes\":{\"args\":{\"source\":{\"id\":\"41754\",\"type\":\"ColumnDataSource\"}},\"code\":\"// adapted from https://stackoverflow.com/a/44996422\\n\\nvar chosen = source.selected.indices;\\nif (typeof(chosen) == \\\"number\\\"){\\n    var chosen = [chosen]\\n};\\n\\nvar chosen_models = [];\\n\\nfor (var i = 0; i < chosen.length; ++ i){\\n    chosen_models.push(source.data['model'][chosen[i]])\\n};\\n\\nvar chosen_models_indices = [];\\n\\nfor (var i = 0; i < source.data['index'].length; ++ i){\\n    if (chosen_models.includes(source.data['model'][i])){\\n        chosen_models_indices.push(i)\\n    };\\n};\\n\\nsource.selected.indices = chosen_models_indices;\\nsource.change.emit();\"},\"id\":\"41797\",\"type\":\"CustomJS\"},{\"attributes\":{\"fill_color\":{\"value\":\"#1f77b4\"},\"line_color\":{\"value\":\"#1f77b4\"},\"size\":{\"units\":\"screen\",\"value\":12},\"x\":{\"field\":\"param_value\"},\"y\":{\"field\":\"param_name\"}},\"id\":\"41791\",\"type\":\"Circle\"},{\"attributes\":{},\"id\":\"41772\",\"type\":\"CategoricalTicker\"},{\"attributes\":{\"callback\":null},\"id\":\"41758\",\"type\":\"DataRange1d\"},{\"attributes\":{},\"id\":\"41776\",\"type\":\"WheelZoomTool\"}],\"root_ids\":[\"41756\"]},\"title\":\"Bokeh Application\",\"version\":\"1.0.4\"}};\n",
       "  var render_items = [{\"docid\":\"e2cac996-b1dd-4cce-ae1d-6ea78cae13c8\",\"roots\":{\"41756\":\"40ff02af-2ad0-4db9-a9fc-704475cb4611\"}}];\n",
       "  root.Bokeh.embed.embed_items_notebook(docs_json, render_items);\n",
       "\n",
       "  }\n",
       "  if (root.Bokeh !== undefined) {\n",
       "    embed_document(root);\n",
       "  } else {\n",
       "    var attempts = 0;\n",
       "    var timer = setInterval(function(root) {\n",
       "      if (root.Bokeh !== undefined) {\n",
       "        embed_document(root);\n",
       "        clearInterval(timer);\n",
       "      }\n",
       "      attempts++;\n",
       "      if (attempts > 100) {\n",
       "        console.log(\"Bokeh: ERROR: Unable to run BokehJS code because BokehJS library is missing\");\n",
       "        clearInterval(timer);\n",
       "      }\n",
       "    }, 10, root)\n",
       "  }\n",
       "})(window);"
      ],
      "application/vnd.bokehjs_exec.v0+json": ""
     },
     "metadata": {
      "application/vnd.bokehjs_exec.v0+json": {
       "id": "41756"
      }
     },
     "output_type": "display_data"
    }
   ],
   "source": [
    "comparison_plot_with_model_selection(df1)"
   ]
  },
  {
   "cell_type": "code",
   "execution_count": null,
   "metadata": {},
   "outputs": [],
   "source": []
  },
  {
   "cell_type": "code",
   "execution_count": 255,
   "metadata": {},
   "outputs": [],
   "source": [
    "# add some styling\n",
    "\n",
    "def styled_comparison_plot(df, js_code=js_code):\n",
    "    # safety measure to make sure the index \n",
    "    # gives the position in the arrays \n",
    "    # that the source data dictionary points to\n",
    "    safe_df = df.reset_index(drop=True)\n",
    "    \n",
    "    source = ColumnDataSource(df)\n",
    "    \n",
    "    # create the \"canvas\"\n",
    "    plot = figure(\n",
    "        title=\"Comparison Plot\",\n",
    "        y_range=df[\"param_name\"].unique(),\n",
    "        \n",
    "        toolbar_location=\"right\", \n",
    "        plot_width=600,\n",
    "        plot_height=300, \n",
    "        tools=\"reset,save\",\n",
    "    )\n",
    "        \n",
    "    # add circles representing the parameter value\n",
    "    circle_glyph = plot.circle(\n",
    "        source=source,\n",
    "        x=\"param_value\",\n",
    "        y=\"param_name\",\n",
    "        size=12,\n",
    "        \n",
    "        fill_color=\"#035096\",\n",
    "        selection_fill_color=\"firebrick\",\n",
    "        nonselection_fill_alpha=0.2,\n",
    "    )\n",
    "    \n",
    "    # HoverTool\n",
    "    tooltips = [\n",
    "        (\"parameter value\", \"@param_value\"),\n",
    "        (\"model\", \"@model\")]\n",
    "    hover = HoverTool(renderers=[circle_glyph], tooltips=tooltips)\n",
    "    plot.tools.append(hover)\n",
    "    \n",
    "    # TapTool\n",
    "    js_kwargs = {\"source\": source}\n",
    "    js_callback = CustomJS(args=js_kwargs, code=js_code)\n",
    "    tap = TapTool(callback=js_callback)\n",
    "    plot.tools.append(tap)\n",
    "\n",
    "    show(plot)"
   ]
  },
  {
   "cell_type": "code",
   "execution_count": 256,
   "metadata": {},
   "outputs": [
    {
     "data": {
      "text/html": [
       "\n",
       "\n",
       "\n",
       "\n",
       "\n",
       "\n",
       "  <div class=\"bk-root\" id=\"5cc9ab44-a389-4049-ae1a-16b596831298\" data-root-id=\"45055\"></div>\n"
      ]
     },
     "metadata": {},
     "output_type": "display_data"
    },
    {
     "data": {
      "application/javascript": [
       "(function(root) {\n",
       "  function embed_document(root) {\n",
       "    \n",
       "  var docs_json = {\"83d0efd7-68a3-498b-b5c7-588ed8130b15\":{\"roots\":{\"references\":[{\"attributes\":{\"below\":[{\"id\":\"45065\",\"type\":\"LinearAxis\"}],\"left\":[{\"id\":\"45070\",\"type\":\"CategoricalAxis\"}],\"plot_height\":300,\"renderers\":[{\"id\":\"45065\",\"type\":\"LinearAxis\"},{\"id\":\"45069\",\"type\":\"Grid\"},{\"id\":\"45070\",\"type\":\"CategoricalAxis\"},{\"id\":\"45073\",\"type\":\"Grid\"},{\"id\":\"45083\",\"type\":\"GlyphRenderer\"}],\"title\":{\"id\":\"45054\",\"type\":\"Title\"},\"toolbar\":{\"id\":\"45076\",\"type\":\"Toolbar\"},\"x_range\":{\"id\":\"45057\",\"type\":\"DataRange1d\"},\"x_scale\":{\"id\":\"45061\",\"type\":\"LinearScale\"},\"y_range\":{\"id\":\"45059\",\"type\":\"FactorRange\"},\"y_scale\":{\"id\":\"45063\",\"type\":\"CategoricalScale\"}},\"id\":\"45055\",\"subtype\":\"Figure\",\"type\":\"Plot\"},{\"attributes\":{},\"id\":\"45061\",\"type\":\"LinearScale\"},{\"attributes\":{},\"id\":\"45074\",\"type\":\"ResetTool\"},{\"attributes\":{\"fill_color\":{\"value\":\"firebrick\"},\"line_color\":{\"value\":\"#1f77b4\"},\"size\":{\"units\":\"screen\",\"value\":12},\"x\":{\"field\":\"param_value\"},\"y\":{\"field\":\"param_name\"}},\"id\":\"45082\",\"type\":\"Circle\"},{\"attributes\":{\"active_drag\":\"auto\",\"active_inspect\":\"auto\",\"active_multi\":null,\"active_scroll\":\"auto\",\"active_tap\":\"auto\",\"tools\":[{\"id\":\"45074\",\"type\":\"ResetTool\"},{\"id\":\"45075\",\"type\":\"SaveTool\"},{\"id\":\"45085\",\"type\":\"HoverTool\"},{\"id\":\"45088\",\"type\":\"TapTool\"}]},\"id\":\"45076\",\"type\":\"Toolbar\"},{\"attributes\":{\"callback\":{\"id\":\"45087\",\"type\":\"CustomJS\"}},\"id\":\"45088\",\"type\":\"TapTool\"},{\"attributes\":{\"plot\":{\"id\":\"45055\",\"subtype\":\"Figure\",\"type\":\"Plot\"},\"ticker\":{\"id\":\"45066\",\"type\":\"BasicTicker\"}},\"id\":\"45069\",\"type\":\"Grid\"},{\"attributes\":{},\"id\":\"45834\",\"type\":\"BasicTickFormatter\"},{\"attributes\":{\"formatter\":{\"id\":\"45836\",\"type\":\"CategoricalTickFormatter\"},\"plot\":{\"id\":\"45055\",\"subtype\":\"Figure\",\"type\":\"Plot\"},\"ticker\":{\"id\":\"45071\",\"type\":\"CategoricalTicker\"}},\"id\":\"45070\",\"type\":\"CategoricalAxis\"},{\"attributes\":{},\"id\":\"45075\",\"type\":\"SaveTool\"},{\"attributes\":{\"dimension\":1,\"plot\":{\"id\":\"45055\",\"subtype\":\"Figure\",\"type\":\"Plot\"},\"ticker\":{\"id\":\"45071\",\"type\":\"CategoricalTicker\"}},\"id\":\"45073\",\"type\":\"Grid\"},{\"attributes\":{\"fill_alpha\":{\"value\":0.2},\"fill_color\":{\"value\":\"#1f77b4\"},\"line_alpha\":{\"value\":0.1},\"line_color\":{\"value\":\"#1f77b4\"},\"size\":{\"units\":\"screen\",\"value\":12},\"x\":{\"field\":\"param_value\"},\"y\":{\"field\":\"param_name\"}},\"id\":\"45081\",\"type\":\"Circle\"},{\"attributes\":{\"formatter\":{\"id\":\"45834\",\"type\":\"BasicTickFormatter\"},\"plot\":{\"id\":\"45055\",\"subtype\":\"Figure\",\"type\":\"Plot\"},\"ticker\":{\"id\":\"45066\",\"type\":\"BasicTicker\"}},\"id\":\"45065\",\"type\":\"LinearAxis\"},{\"attributes\":{\"plot\":null,\"text\":\"Comparison Plot\"},\"id\":\"45054\",\"type\":\"Title\"},{\"attributes\":{\"source\":{\"id\":\"45053\",\"type\":\"ColumnDataSource\"}},\"id\":\"45084\",\"type\":\"CDSView\"},{\"attributes\":{},\"id\":\"45071\",\"type\":\"CategoricalTicker\"},{\"attributes\":{},\"id\":\"45836\",\"type\":\"CategoricalTickFormatter\"},{\"attributes\":{},\"id\":\"45066\",\"type\":\"BasicTicker\"},{\"attributes\":{\"args\":{\"source\":{\"id\":\"45053\",\"type\":\"ColumnDataSource\"}},\"code\":\"// adapted from https://stackoverflow.com/a/44996422\\n\\nvar chosen = source.selected.indices;\\nif (typeof(chosen) == \\\"number\\\"){\\n    var chosen = [chosen]\\n};\\n\\nvar chosen_models = [];\\n\\nfor (var i = 0; i < chosen.length; ++ i){\\n    chosen_models.push(source.data['model'][chosen[i]])\\n};\\n\\nvar chosen_models_indices = [];\\n\\nfor (var i = 0; i < source.data['index'].length; ++ i){\\n    if (chosen_models.includes(source.data['model'][i])){\\n        chosen_models_indices.push(i)\\n    };\\n};\\n\\nsource.selected.indices = chosen_models_indices;\\nsource.change.emit();\"},\"id\":\"45087\",\"type\":\"CustomJS\"},{\"attributes\":{\"callback\":null},\"id\":\"45057\",\"type\":\"DataRange1d\"},{\"attributes\":{\"callback\":null,\"renderers\":[{\"id\":\"45083\",\"type\":\"GlyphRenderer\"}],\"tooltips\":[[\"parameter value\",\"@param_value\"],[\"model\",\"@model\"]]},\"id\":\"45085\",\"type\":\"HoverTool\"},{\"attributes\":{\"fill_color\":{\"value\":\"#035096\"},\"line_color\":{\"value\":\"#1f77b4\"},\"size\":{\"units\":\"screen\",\"value\":12},\"x\":{\"field\":\"param_value\"},\"y\":{\"field\":\"param_name\"}},\"id\":\"45080\",\"type\":\"Circle\"},{\"attributes\":{},\"id\":\"45839\",\"type\":\"UnionRenderers\"},{\"attributes\":{},\"id\":\"45838\",\"type\":\"Selection\"},{\"attributes\":{\"callback\":null,\"data\":{\"index\":[0,1,2,3,4,5,6,7,8,9,10,11,12,13,14,15,16,17,18,19,20,21,22,23,24,25,26,27,28,29,30,31,32,33,34,35,36,37,38,39],\"model\":[\"model_0\",\"model_0\",\"model_0\",\"model_0\",\"model_1\",\"model_1\",\"model_1\",\"model_1\",\"model_2\",\"model_2\",\"model_2\",\"model_2\",\"model_3\",\"model_3\",\"model_3\",\"model_3\",\"model_4\",\"model_4\",\"model_4\",\"model_4\",\"model_5\",\"model_5\",\"model_5\",\"model_5\",\"model_6\",\"model_6\",\"model_6\",\"model_6\",\"model_7\",\"model_7\",\"model_7\",\"model_7\",\"model_8\",\"model_8\",\"model_8\",\"model_8\",\"model_9\",\"model_9\",\"model_9\",\"model_9\"],\"param_name\":[\"age\",\"grade\",\"iq_score\",\"gender\",\"age\",\"grade\",\"iq_score\",\"gender\",\"age\",\"grade\",\"iq_score\",\"gender\",\"age\",\"grade\",\"iq_score\",\"gender\",\"age\",\"grade\",\"iq_score\",\"gender\",\"age\",\"grade\",\"iq_score\",\"gender\",\"age\",\"grade\",\"iq_score\",\"gender\",\"age\",\"grade\",\"iq_score\",\"gender\",\"age\",\"grade\",\"iq_score\",\"gender\",\"age\",\"grade\",\"iq_score\",\"gender\"],\"param_value\":{\"__ndarray__\":\"7qd62qdn8D+B+XEPAJz4P+JAVhPZffo/1wdI0MbE9T9fW3Vy4xgLwMu3M113jv0/7CV8wAjR5T+mAXmGcYn8P1PKyoDfqOM/x4ATbzWT1j/I8n2j1tPlPwDrNRZ9EOQ/UnC/YEYZ+D9CHayoKhIBQKbrN/IEfN4/vQQ3+wzHAkB3hkMMhPOLP6pED4c+ePC/IBOWqPg35j/q6urkp6MOQO6mJqx+Oe0/iml/+GWx6D8hPZaqP1rpPyYo9PaSQvw/jR/Uj2B59j9wMO4d8zy5P3l71KMBdvw/1MfP7B967D/Gty6qqnvxP2KWHmBOVOu/yDFBPKfNyT9FBtCPKcHwP5mPJ+uoHL6/UmkLqo+yzz8eF0BA6O3SP+RoaV7zlPY/vcMDIpTZ6b+yo7PUxazcv3JtCO03beI/KM6mmnns678=\",\"dtype\":\"float64\",\"shape\":[40]}},\"selected\":{\"id\":\"45838\",\"type\":\"Selection\"},\"selection_policy\":{\"id\":\"45839\",\"type\":\"UnionRenderers\"}},\"id\":\"45053\",\"type\":\"ColumnDataSource\"},{\"attributes\":{\"data_source\":{\"id\":\"45053\",\"type\":\"ColumnDataSource\"},\"glyph\":{\"id\":\"45080\",\"type\":\"Circle\"},\"hover_glyph\":null,\"muted_glyph\":null,\"nonselection_glyph\":{\"id\":\"45081\",\"type\":\"Circle\"},\"selection_glyph\":{\"id\":\"45082\",\"type\":\"Circle\"},\"view\":{\"id\":\"45084\",\"type\":\"CDSView\"}},\"id\":\"45083\",\"type\":\"GlyphRenderer\"},{\"attributes\":{\"callback\":null,\"factors\":[\"age\",\"grade\",\"iq_score\",\"gender\"]},\"id\":\"45059\",\"type\":\"FactorRange\"},{\"attributes\":{},\"id\":\"45063\",\"type\":\"CategoricalScale\"}],\"root_ids\":[\"45055\"]},\"title\":\"Bokeh Application\",\"version\":\"1.0.4\"}};\n",
       "  var render_items = [{\"docid\":\"83d0efd7-68a3-498b-b5c7-588ed8130b15\",\"roots\":{\"45055\":\"5cc9ab44-a389-4049-ae1a-16b596831298\"}}];\n",
       "  root.Bokeh.embed.embed_items_notebook(docs_json, render_items);\n",
       "\n",
       "  }\n",
       "  if (root.Bokeh !== undefined) {\n",
       "    embed_document(root);\n",
       "  } else {\n",
       "    var attempts = 0;\n",
       "    var timer = setInterval(function(root) {\n",
       "      if (root.Bokeh !== undefined) {\n",
       "        embed_document(root);\n",
       "        clearInterval(timer);\n",
       "      }\n",
       "      attempts++;\n",
       "      if (attempts > 100) {\n",
       "        console.log(\"Bokeh: ERROR: Unable to run BokehJS code because BokehJS library is missing\");\n",
       "        clearInterval(timer);\n",
       "      }\n",
       "    }, 10, root)\n",
       "  }\n",
       "})(window);"
      ],
      "application/vnd.bokehjs_exec.v0+json": ""
     },
     "metadata": {
      "application/vnd.bokehjs_exec.v0+json": {
       "id": "45055"
      }
     },
     "output_type": "display_data"
    }
   ],
   "source": [
    "styled_comparison_plot(df1)"
   ]
  },
  {
   "cell_type": "code",
   "execution_count": null,
   "metadata": {},
   "outputs": [],
   "source": []
  },
  {
   "cell_type": "code",
   "execution_count": null,
   "metadata": {},
   "outputs": [],
   "source": []
  },
  {
   "cell_type": "markdown",
   "metadata": {},
   "source": [
    "# Add groups of parameters to be plotted into separate plots"
   ]
  },
  {
   "cell_type": "code",
   "execution_count": null,
   "metadata": {},
   "outputs": [],
   "source": []
  },
  {
   "cell_type": "code",
   "execution_count": null,
   "metadata": {},
   "outputs": [],
   "source": []
  },
  {
   "cell_type": "markdown",
   "metadata": {},
   "source": [
    "# Add confidence intervals as whiskers that are only displayed when the model is selected"
   ]
  },
  {
   "cell_type": "code",
   "execution_count": null,
   "metadata": {},
   "outputs": [],
   "source": []
  },
  {
   "cell_type": "code",
   "execution_count": null,
   "metadata": {},
   "outputs": [],
   "source": []
  },
  {
   "cell_type": "markdown",
   "metadata": {},
   "source": [
    "# Add interactive legend"
   ]
  },
  {
   "cell_type": "code",
   "execution_count": null,
   "metadata": {},
   "outputs": [],
   "source": []
  }
 ],
 "metadata": {
  "kernelspec": {
   "display_name": "Python 3",
   "language": "python",
   "name": "python3"
  },
  "language_info": {
   "codemirror_mode": {
    "name": "ipython",
    "version": 3
   },
   "file_extension": ".py",
   "mimetype": "text/x-python",
   "name": "python",
   "nbconvert_exporter": "python",
   "pygments_lexer": "ipython3",
   "version": "3.7.3"
  }
 },
 "nbformat": 4,
 "nbformat_minor": 2
}
