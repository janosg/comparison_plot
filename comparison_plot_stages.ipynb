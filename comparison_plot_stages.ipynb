{
 "cells": [
  {
   "cell_type": "code",
   "execution_count": 1,
   "metadata": {},
   "outputs": [],
   "source": [
    "import pandas as pd\n",
    "import numpy as np"
   ]
  },
  {
   "cell_type": "code",
   "execution_count": 288,
   "metadata": {},
   "outputs": [
    {
     "data": {
      "text/html": [
       "\n",
       "    <div class=\"bk-root\">\n",
       "        <a href=\"https://bokeh.pydata.org\" target=\"_blank\" class=\"bk-logo bk-logo-small bk-logo-notebook\"></a>\n",
       "        <span id=\"55181\">Loading BokehJS ...</span>\n",
       "    </div>"
      ]
     },
     "metadata": {},
     "output_type": "display_data"
    },
    {
     "data": {
      "application/javascript": [
       "\n",
       "(function(root) {\n",
       "  function now() {\n",
       "    return new Date();\n",
       "  }\n",
       "\n",
       "  var force = true;\n",
       "\n",
       "  if (typeof (root._bokeh_onload_callbacks) === \"undefined\" || force === true) {\n",
       "    root._bokeh_onload_callbacks = [];\n",
       "    root._bokeh_is_loading = undefined;\n",
       "  }\n",
       "\n",
       "  var JS_MIME_TYPE = 'application/javascript';\n",
       "  var HTML_MIME_TYPE = 'text/html';\n",
       "  var EXEC_MIME_TYPE = 'application/vnd.bokehjs_exec.v0+json';\n",
       "  var CLASS_NAME = 'output_bokeh rendered_html';\n",
       "\n",
       "  /**\n",
       "   * Render data to the DOM node\n",
       "   */\n",
       "  function render(props, node) {\n",
       "    var script = document.createElement(\"script\");\n",
       "    node.appendChild(script);\n",
       "  }\n",
       "\n",
       "  /**\n",
       "   * Handle when an output is cleared or removed\n",
       "   */\n",
       "  function handleClearOutput(event, handle) {\n",
       "    var cell = handle.cell;\n",
       "\n",
       "    var id = cell.output_area._bokeh_element_id;\n",
       "    var server_id = cell.output_area._bokeh_server_id;\n",
       "    // Clean up Bokeh references\n",
       "    if (id != null && id in Bokeh.index) {\n",
       "      Bokeh.index[id].model.document.clear();\n",
       "      delete Bokeh.index[id];\n",
       "    }\n",
       "\n",
       "    if (server_id !== undefined) {\n",
       "      // Clean up Bokeh references\n",
       "      var cmd = \"from bokeh.io.state import curstate; print(curstate().uuid_to_server['\" + server_id + \"'].get_sessions()[0].document.roots[0]._id)\";\n",
       "      cell.notebook.kernel.execute(cmd, {\n",
       "        iopub: {\n",
       "          output: function(msg) {\n",
       "            var id = msg.content.text.trim();\n",
       "            if (id in Bokeh.index) {\n",
       "              Bokeh.index[id].model.document.clear();\n",
       "              delete Bokeh.index[id];\n",
       "            }\n",
       "          }\n",
       "        }\n",
       "      });\n",
       "      // Destroy server and session\n",
       "      var cmd = \"import bokeh.io.notebook as ion; ion.destroy_server('\" + server_id + \"')\";\n",
       "      cell.notebook.kernel.execute(cmd);\n",
       "    }\n",
       "  }\n",
       "\n",
       "  /**\n",
       "   * Handle when a new output is added\n",
       "   */\n",
       "  function handleAddOutput(event, handle) {\n",
       "    var output_area = handle.output_area;\n",
       "    var output = handle.output;\n",
       "\n",
       "    // limit handleAddOutput to display_data with EXEC_MIME_TYPE content only\n",
       "    if ((output.output_type != \"display_data\") || (!output.data.hasOwnProperty(EXEC_MIME_TYPE))) {\n",
       "      return\n",
       "    }\n",
       "\n",
       "    var toinsert = output_area.element.find(\".\" + CLASS_NAME.split(' ')[0]);\n",
       "\n",
       "    if (output.metadata[EXEC_MIME_TYPE][\"id\"] !== undefined) {\n",
       "      toinsert[toinsert.length - 1].firstChild.textContent = output.data[JS_MIME_TYPE];\n",
       "      // store reference to embed id on output_area\n",
       "      output_area._bokeh_element_id = output.metadata[EXEC_MIME_TYPE][\"id\"];\n",
       "    }\n",
       "    if (output.metadata[EXEC_MIME_TYPE][\"server_id\"] !== undefined) {\n",
       "      var bk_div = document.createElement(\"div\");\n",
       "      bk_div.innerHTML = output.data[HTML_MIME_TYPE];\n",
       "      var script_attrs = bk_div.children[0].attributes;\n",
       "      for (var i = 0; i < script_attrs.length; i++) {\n",
       "        toinsert[toinsert.length - 1].firstChild.setAttribute(script_attrs[i].name, script_attrs[i].value);\n",
       "      }\n",
       "      // store reference to server id on output_area\n",
       "      output_area._bokeh_server_id = output.metadata[EXEC_MIME_TYPE][\"server_id\"];\n",
       "    }\n",
       "  }\n",
       "\n",
       "  function register_renderer(events, OutputArea) {\n",
       "\n",
       "    function append_mime(data, metadata, element) {\n",
       "      // create a DOM node to render to\n",
       "      var toinsert = this.create_output_subarea(\n",
       "        metadata,\n",
       "        CLASS_NAME,\n",
       "        EXEC_MIME_TYPE\n",
       "      );\n",
       "      this.keyboard_manager.register_events(toinsert);\n",
       "      // Render to node\n",
       "      var props = {data: data, metadata: metadata[EXEC_MIME_TYPE]};\n",
       "      render(props, toinsert[toinsert.length - 1]);\n",
       "      element.append(toinsert);\n",
       "      return toinsert\n",
       "    }\n",
       "\n",
       "    /* Handle when an output is cleared or removed */\n",
       "    events.on('clear_output.CodeCell', handleClearOutput);\n",
       "    events.on('delete.Cell', handleClearOutput);\n",
       "\n",
       "    /* Handle when a new output is added */\n",
       "    events.on('output_added.OutputArea', handleAddOutput);\n",
       "\n",
       "    /**\n",
       "     * Register the mime type and append_mime function with output_area\n",
       "     */\n",
       "    OutputArea.prototype.register_mime_type(EXEC_MIME_TYPE, append_mime, {\n",
       "      /* Is output safe? */\n",
       "      safe: true,\n",
       "      /* Index of renderer in `output_area.display_order` */\n",
       "      index: 0\n",
       "    });\n",
       "  }\n",
       "\n",
       "  // register the mime type if in Jupyter Notebook environment and previously unregistered\n",
       "  if (root.Jupyter !== undefined) {\n",
       "    var events = require('base/js/events');\n",
       "    var OutputArea = require('notebook/js/outputarea').OutputArea;\n",
       "\n",
       "    if (OutputArea.prototype.mime_types().indexOf(EXEC_MIME_TYPE) == -1) {\n",
       "      register_renderer(events, OutputArea);\n",
       "    }\n",
       "  }\n",
       "\n",
       "  \n",
       "  if (typeof (root._bokeh_timeout) === \"undefined\" || force === true) {\n",
       "    root._bokeh_timeout = Date.now() + 5000;\n",
       "    root._bokeh_failed_load = false;\n",
       "  }\n",
       "\n",
       "  var NB_LOAD_WARNING = {'data': {'text/html':\n",
       "     \"<div style='background-color: #fdd'>\\n\"+\n",
       "     \"<p>\\n\"+\n",
       "     \"BokehJS does not appear to have successfully loaded. If loading BokehJS from CDN, this \\n\"+\n",
       "     \"may be due to a slow or bad network connection. Possible fixes:\\n\"+\n",
       "     \"</p>\\n\"+\n",
       "     \"<ul>\\n\"+\n",
       "     \"<li>re-rerun `output_notebook()` to attempt to load from CDN again, or</li>\\n\"+\n",
       "     \"<li>use INLINE resources instead, as so:</li>\\n\"+\n",
       "     \"</ul>\\n\"+\n",
       "     \"<code>\\n\"+\n",
       "     \"from bokeh.resources import INLINE\\n\"+\n",
       "     \"output_notebook(resources=INLINE)\\n\"+\n",
       "     \"</code>\\n\"+\n",
       "     \"</div>\"}};\n",
       "\n",
       "  function display_loaded() {\n",
       "    var el = document.getElementById(\"55181\");\n",
       "    if (el != null) {\n",
       "      el.textContent = \"BokehJS is loading...\";\n",
       "    }\n",
       "    if (root.Bokeh !== undefined) {\n",
       "      if (el != null) {\n",
       "        el.textContent = \"BokehJS \" + root.Bokeh.version + \" successfully loaded.\";\n",
       "      }\n",
       "    } else if (Date.now() < root._bokeh_timeout) {\n",
       "      setTimeout(display_loaded, 100)\n",
       "    }\n",
       "  }\n",
       "\n",
       "\n",
       "  function run_callbacks() {\n",
       "    try {\n",
       "      root._bokeh_onload_callbacks.forEach(function(callback) { callback() });\n",
       "    }\n",
       "    finally {\n",
       "      delete root._bokeh_onload_callbacks\n",
       "    }\n",
       "    console.info(\"Bokeh: all callbacks have finished\");\n",
       "  }\n",
       "\n",
       "  function load_libs(js_urls, callback) {\n",
       "    root._bokeh_onload_callbacks.push(callback);\n",
       "    if (root._bokeh_is_loading > 0) {\n",
       "      console.log(\"Bokeh: BokehJS is being loaded, scheduling callback at\", now());\n",
       "      return null;\n",
       "    }\n",
       "    if (js_urls == null || js_urls.length === 0) {\n",
       "      run_callbacks();\n",
       "      return null;\n",
       "    }\n",
       "    console.log(\"Bokeh: BokehJS not loaded, scheduling load and callback at\", now());\n",
       "    root._bokeh_is_loading = js_urls.length;\n",
       "    for (var i = 0; i < js_urls.length; i++) {\n",
       "      var url = js_urls[i];\n",
       "      var s = document.createElement('script');\n",
       "      s.src = url;\n",
       "      s.async = false;\n",
       "      s.onreadystatechange = s.onload = function() {\n",
       "        root._bokeh_is_loading--;\n",
       "        if (root._bokeh_is_loading === 0) {\n",
       "          console.log(\"Bokeh: all BokehJS libraries loaded\");\n",
       "          run_callbacks()\n",
       "        }\n",
       "      };\n",
       "      s.onerror = function() {\n",
       "        console.warn(\"failed to load library \" + url);\n",
       "      };\n",
       "      console.log(\"Bokeh: injecting script tag for BokehJS library: \", url);\n",
       "      document.getElementsByTagName(\"head\")[0].appendChild(s);\n",
       "    }\n",
       "  };var element = document.getElementById(\"55181\");\n",
       "  if (element == null) {\n",
       "    console.log(\"Bokeh: ERROR: autoload.js configured with elementid '55181' but no matching script tag was found. \")\n",
       "    return false;\n",
       "  }\n",
       "\n",
       "  var js_urls = [\"https://cdn.pydata.org/bokeh/release/bokeh-1.0.4.min.js\", \"https://cdn.pydata.org/bokeh/release/bokeh-widgets-1.0.4.min.js\", \"https://cdn.pydata.org/bokeh/release/bokeh-tables-1.0.4.min.js\", \"https://cdn.pydata.org/bokeh/release/bokeh-gl-1.0.4.min.js\"];\n",
       "\n",
       "  var inline_js = [\n",
       "    function(Bokeh) {\n",
       "      Bokeh.set_log_level(\"info\");\n",
       "    },\n",
       "    \n",
       "    function(Bokeh) {\n",
       "      \n",
       "    },\n",
       "    function(Bokeh) {\n",
       "      console.log(\"Bokeh: injecting CSS: https://cdn.pydata.org/bokeh/release/bokeh-1.0.4.min.css\");\n",
       "      Bokeh.embed.inject_css(\"https://cdn.pydata.org/bokeh/release/bokeh-1.0.4.min.css\");\n",
       "      console.log(\"Bokeh: injecting CSS: https://cdn.pydata.org/bokeh/release/bokeh-widgets-1.0.4.min.css\");\n",
       "      Bokeh.embed.inject_css(\"https://cdn.pydata.org/bokeh/release/bokeh-widgets-1.0.4.min.css\");\n",
       "      console.log(\"Bokeh: injecting CSS: https://cdn.pydata.org/bokeh/release/bokeh-tables-1.0.4.min.css\");\n",
       "      Bokeh.embed.inject_css(\"https://cdn.pydata.org/bokeh/release/bokeh-tables-1.0.4.min.css\");\n",
       "    }\n",
       "  ];\n",
       "\n",
       "  function run_inline_js() {\n",
       "    \n",
       "    if ((root.Bokeh !== undefined) || (force === true)) {\n",
       "      for (var i = 0; i < inline_js.length; i++) {\n",
       "        inline_js[i].call(root, root.Bokeh);\n",
       "      }if (force === true) {\n",
       "        display_loaded();\n",
       "      }} else if (Date.now() < root._bokeh_timeout) {\n",
       "      setTimeout(run_inline_js, 100);\n",
       "    } else if (!root._bokeh_failed_load) {\n",
       "      console.log(\"Bokeh: BokehJS failed to load within specified timeout.\");\n",
       "      root._bokeh_failed_load = true;\n",
       "    } else if (force !== true) {\n",
       "      var cell = $(document.getElementById(\"55181\")).parents('.cell').data().cell;\n",
       "      cell.output_area.append_execute_result(NB_LOAD_WARNING)\n",
       "    }\n",
       "\n",
       "  }\n",
       "\n",
       "  if (root._bokeh_is_loading === 0) {\n",
       "    console.log(\"Bokeh: BokehJS loaded, going straight to plotting\");\n",
       "    run_inline_js();\n",
       "  } else {\n",
       "    load_libs(js_urls, function() {\n",
       "      console.log(\"Bokeh: BokehJS plotting callback run at\", now());\n",
       "      run_inline_js();\n",
       "    });\n",
       "  }\n",
       "}(window));"
      ],
      "application/vnd.bokehjs_load.v0+json": "\n(function(root) {\n  function now() {\n    return new Date();\n  }\n\n  var force = true;\n\n  if (typeof (root._bokeh_onload_callbacks) === \"undefined\" || force === true) {\n    root._bokeh_onload_callbacks = [];\n    root._bokeh_is_loading = undefined;\n  }\n\n  \n\n  \n  if (typeof (root._bokeh_timeout) === \"undefined\" || force === true) {\n    root._bokeh_timeout = Date.now() + 5000;\n    root._bokeh_failed_load = false;\n  }\n\n  var NB_LOAD_WARNING = {'data': {'text/html':\n     \"<div style='background-color: #fdd'>\\n\"+\n     \"<p>\\n\"+\n     \"BokehJS does not appear to have successfully loaded. If loading BokehJS from CDN, this \\n\"+\n     \"may be due to a slow or bad network connection. Possible fixes:\\n\"+\n     \"</p>\\n\"+\n     \"<ul>\\n\"+\n     \"<li>re-rerun `output_notebook()` to attempt to load from CDN again, or</li>\\n\"+\n     \"<li>use INLINE resources instead, as so:</li>\\n\"+\n     \"</ul>\\n\"+\n     \"<code>\\n\"+\n     \"from bokeh.resources import INLINE\\n\"+\n     \"output_notebook(resources=INLINE)\\n\"+\n     \"</code>\\n\"+\n     \"</div>\"}};\n\n  function display_loaded() {\n    var el = document.getElementById(\"55181\");\n    if (el != null) {\n      el.textContent = \"BokehJS is loading...\";\n    }\n    if (root.Bokeh !== undefined) {\n      if (el != null) {\n        el.textContent = \"BokehJS \" + root.Bokeh.version + \" successfully loaded.\";\n      }\n    } else if (Date.now() < root._bokeh_timeout) {\n      setTimeout(display_loaded, 100)\n    }\n  }\n\n\n  function run_callbacks() {\n    try {\n      root._bokeh_onload_callbacks.forEach(function(callback) { callback() });\n    }\n    finally {\n      delete root._bokeh_onload_callbacks\n    }\n    console.info(\"Bokeh: all callbacks have finished\");\n  }\n\n  function load_libs(js_urls, callback) {\n    root._bokeh_onload_callbacks.push(callback);\n    if (root._bokeh_is_loading > 0) {\n      console.log(\"Bokeh: BokehJS is being loaded, scheduling callback at\", now());\n      return null;\n    }\n    if (js_urls == null || js_urls.length === 0) {\n      run_callbacks();\n      return null;\n    }\n    console.log(\"Bokeh: BokehJS not loaded, scheduling load and callback at\", now());\n    root._bokeh_is_loading = js_urls.length;\n    for (var i = 0; i < js_urls.length; i++) {\n      var url = js_urls[i];\n      var s = document.createElement('script');\n      s.src = url;\n      s.async = false;\n      s.onreadystatechange = s.onload = function() {\n        root._bokeh_is_loading--;\n        if (root._bokeh_is_loading === 0) {\n          console.log(\"Bokeh: all BokehJS libraries loaded\");\n          run_callbacks()\n        }\n      };\n      s.onerror = function() {\n        console.warn(\"failed to load library \" + url);\n      };\n      console.log(\"Bokeh: injecting script tag for BokehJS library: \", url);\n      document.getElementsByTagName(\"head\")[0].appendChild(s);\n    }\n  };var element = document.getElementById(\"55181\");\n  if (element == null) {\n    console.log(\"Bokeh: ERROR: autoload.js configured with elementid '55181' but no matching script tag was found. \")\n    return false;\n  }\n\n  var js_urls = [\"https://cdn.pydata.org/bokeh/release/bokeh-1.0.4.min.js\", \"https://cdn.pydata.org/bokeh/release/bokeh-widgets-1.0.4.min.js\", \"https://cdn.pydata.org/bokeh/release/bokeh-tables-1.0.4.min.js\", \"https://cdn.pydata.org/bokeh/release/bokeh-gl-1.0.4.min.js\"];\n\n  var inline_js = [\n    function(Bokeh) {\n      Bokeh.set_log_level(\"info\");\n    },\n    \n    function(Bokeh) {\n      \n    },\n    function(Bokeh) {\n      console.log(\"Bokeh: injecting CSS: https://cdn.pydata.org/bokeh/release/bokeh-1.0.4.min.css\");\n      Bokeh.embed.inject_css(\"https://cdn.pydata.org/bokeh/release/bokeh-1.0.4.min.css\");\n      console.log(\"Bokeh: injecting CSS: https://cdn.pydata.org/bokeh/release/bokeh-widgets-1.0.4.min.css\");\n      Bokeh.embed.inject_css(\"https://cdn.pydata.org/bokeh/release/bokeh-widgets-1.0.4.min.css\");\n      console.log(\"Bokeh: injecting CSS: https://cdn.pydata.org/bokeh/release/bokeh-tables-1.0.4.min.css\");\n      Bokeh.embed.inject_css(\"https://cdn.pydata.org/bokeh/release/bokeh-tables-1.0.4.min.css\");\n    }\n  ];\n\n  function run_inline_js() {\n    \n    if ((root.Bokeh !== undefined) || (force === true)) {\n      for (var i = 0; i < inline_js.length; i++) {\n        inline_js[i].call(root, root.Bokeh);\n      }if (force === true) {\n        display_loaded();\n      }} else if (Date.now() < root._bokeh_timeout) {\n      setTimeout(run_inline_js, 100);\n    } else if (!root._bokeh_failed_load) {\n      console.log(\"Bokeh: BokehJS failed to load within specified timeout.\");\n      root._bokeh_failed_load = true;\n    } else if (force !== true) {\n      var cell = $(document.getElementById(\"55181\")).parents('.cell').data().cell;\n      cell.output_area.append_execute_result(NB_LOAD_WARNING)\n    }\n\n  }\n\n  if (root._bokeh_is_loading === 0) {\n    console.log(\"Bokeh: BokehJS loaded, going straight to plotting\");\n    run_inline_js();\n  } else {\n    load_libs(js_urls, function() {\n      console.log(\"Bokeh: BokehJS plotting callback run at\", now());\n      run_inline_js();\n    });\n  }\n}(window));"
     },
     "metadata": {},
     "output_type": "display_data"
    }
   ],
   "source": [
    "# display the plot in the notebook \n",
    "# same as %matplotlib inline\n",
    "from bokeh.plotting import output_notebook\n",
    "output_notebook() "
   ]
  },
  {
   "cell_type": "markdown",
   "metadata": {},
   "source": [
    "# Basic Static Plot"
   ]
  },
  {
   "cell_type": "code",
   "execution_count": 328,
   "metadata": {},
   "outputs": [
    {
     "data": {
      "text/html": [
       "<div>\n",
       "<style scoped>\n",
       "    .dataframe tbody tr th:only-of-type {\n",
       "        vertical-align: middle;\n",
       "    }\n",
       "\n",
       "    .dataframe tbody tr th {\n",
       "        vertical-align: top;\n",
       "    }\n",
       "\n",
       "    .dataframe thead th {\n",
       "        text-align: right;\n",
       "    }\n",
       "</style>\n",
       "<table border=\"1\" class=\"dataframe\">\n",
       "  <thead>\n",
       "    <tr style=\"text-align: right;\">\n",
       "      <th></th>\n",
       "      <th>model</th>\n",
       "      <th>param_name</th>\n",
       "      <th>param_value</th>\n",
       "    </tr>\n",
       "  </thead>\n",
       "  <tbody>\n",
       "    <tr>\n",
       "      <th>0</th>\n",
       "      <td>model_0</td>\n",
       "      <td>age</td>\n",
       "      <td>-1.7</td>\n",
       "    </tr>\n",
       "    <tr>\n",
       "      <th>1</th>\n",
       "      <td>model_0</td>\n",
       "      <td>grade</td>\n",
       "      <td>0.4</td>\n",
       "    </tr>\n",
       "    <tr>\n",
       "      <th>2</th>\n",
       "      <td>model_0</td>\n",
       "      <td>iq_score</td>\n",
       "      <td>0.3</td>\n",
       "    </tr>\n",
       "    <tr>\n",
       "      <th>3</th>\n",
       "      <td>model_0</td>\n",
       "      <td>female</td>\n",
       "      <td>0.9</td>\n",
       "    </tr>\n",
       "    <tr>\n",
       "      <th>4</th>\n",
       "      <td>model_1</td>\n",
       "      <td>age</td>\n",
       "      <td>-1.2</td>\n",
       "    </tr>\n",
       "  </tbody>\n",
       "</table>\n",
       "</div>"
      ],
      "text/plain": [
       "     model param_name  param_value\n",
       "0  model_0        age         -1.7\n",
       "1  model_0      grade          0.4\n",
       "2  model_0   iq_score          0.3\n",
       "3  model_0     female          0.9\n",
       "4  model_1        age         -1.2"
      ]
     },
     "execution_count": 328,
     "metadata": {},
     "output_type": "execute_result"
    }
   ],
   "source": [
    "nr_models = 10\n",
    "short_controls = ['age', 'grade', 'iq_score', 'female']\n",
    "\n",
    "df1 = pd.DataFrame()\n",
    "\n",
    "for i in range(nr_models):\n",
    "    ctrl_names = short_controls\n",
    "    factor = 0.5\n",
    "    nr_params = len(ctrl_names)\n",
    "    df = pd.DataFrame()\n",
    "    df['param_name'] = ctrl_names\n",
    "    df['param_value'] = factor * np.arange(nr_params) + np.random.normal(0, 1, nr_params).round(1)\n",
    "    df['model'] = 'model_' + str(i)\n",
    "    \n",
    "    df['conf_int_lower'] = df['param_value'] - np.random.normal(1, factor, nr_params).round(1)\n",
    "    df['conf_int_upper'] = df['param_value'] + np.random.normal(1, factor, nr_params).round(1)\n",
    "\n",
    "    \n",
    "    df1 = pd.concat([df1, df], axis=0, sort=False)\n",
    "    \n",
    "df1.reset_index(inplace=True, drop=True)\n",
    "df1[['model', 'param_name', 'param_value']].head()"
   ]
  },
  {
   "cell_type": "code",
   "execution_count": 329,
   "metadata": {},
   "outputs": [],
   "source": [
    "from bokeh.models import ColumnDataSource\n",
    "from bokeh.plotting import figure, show\n",
    "\n",
    "def static_comparison_plot(df):\n",
    "    source = ColumnDataSource(df)\n",
    "    \n",
    "    # create the \"canvas\"\n",
    "    plot = figure(\n",
    "        title=\"Comparison Plot\",\n",
    "        y_range=df[\"param_name\"].unique())\n",
    "    \n",
    "    # add circles representing the parameter value\n",
    "    circle_glyph = plot.circle(\n",
    "        source=source,\n",
    "        x=\"param_value\",\n",
    "        y=\"param_name\",\n",
    "        size=12)\n",
    "    \n",
    "    show(plot)"
   ]
  },
  {
   "cell_type": "code",
   "execution_count": 330,
   "metadata": {},
   "outputs": [
    {
     "data": {
      "text/html": [
       "\n",
       "\n",
       "\n",
       "\n",
       "\n",
       "\n",
       "  <div class=\"bk-root\" id=\"162b4ec1-6b1a-4801-9aae-0c29a096779e\" data-root-id=\"69970\"></div>\n"
      ]
     },
     "metadata": {},
     "output_type": "display_data"
    },
    {
     "data": {
      "application/javascript": [
       "(function(root) {\n",
       "  function embed_document(root) {\n",
       "    \n",
       "  var docs_json = {\"eae11a66-efeb-455f-b75e-5292ceccd77b\":{\"roots\":{\"references\":[{\"attributes\":{\"below\":[{\"id\":\"69980\",\"type\":\"LinearAxis\"}],\"left\":[{\"id\":\"69985\",\"type\":\"CategoricalAxis\"}],\"renderers\":[{\"id\":\"69980\",\"type\":\"LinearAxis\"},{\"id\":\"69984\",\"type\":\"Grid\"},{\"id\":\"69985\",\"type\":\"CategoricalAxis\"},{\"id\":\"69988\",\"type\":\"Grid\"},{\"id\":\"69997\",\"type\":\"BoxAnnotation\"},{\"id\":\"70007\",\"type\":\"GlyphRenderer\"}],\"title\":{\"id\":\"69969\",\"type\":\"Title\"},\"toolbar\":{\"id\":\"69995\",\"type\":\"Toolbar\"},\"x_range\":{\"id\":\"69972\",\"type\":\"DataRange1d\"},\"x_scale\":{\"id\":\"69976\",\"type\":\"LinearScale\"},\"y_range\":{\"id\":\"69974\",\"type\":\"FactorRange\"},\"y_scale\":{\"id\":\"69978\",\"type\":\"CategoricalScale\"}},\"id\":\"69970\",\"subtype\":\"Figure\",\"type\":\"Plot\"},{\"attributes\":{\"active_drag\":\"auto\",\"active_inspect\":\"auto\",\"active_multi\":null,\"active_scroll\":\"auto\",\"active_tap\":\"auto\",\"tools\":[{\"id\":\"69989\",\"type\":\"PanTool\"},{\"id\":\"69990\",\"type\":\"WheelZoomTool\"},{\"id\":\"69991\",\"type\":\"BoxZoomTool\"},{\"id\":\"69992\",\"type\":\"SaveTool\"},{\"id\":\"69993\",\"type\":\"ResetTool\"},{\"id\":\"69994\",\"type\":\"HelpTool\"}]},\"id\":\"69995\",\"type\":\"Toolbar\"},{\"attributes\":{\"source\":{\"id\":\"69968\",\"type\":\"ColumnDataSource\"}},\"id\":\"70008\",\"type\":\"CDSView\"},{\"attributes\":{},\"id\":\"69978\",\"type\":\"CategoricalScale\"},{\"attributes\":{},\"id\":\"69989\",\"type\":\"PanTool\"},{\"attributes\":{\"data_source\":{\"id\":\"69968\",\"type\":\"ColumnDataSource\"},\"glyph\":{\"id\":\"70005\",\"type\":\"Circle\"},\"hover_glyph\":null,\"muted_glyph\":null,\"nonselection_glyph\":{\"id\":\"70006\",\"type\":\"Circle\"},\"selection_glyph\":null,\"view\":{\"id\":\"70008\",\"type\":\"CDSView\"}},\"id\":\"70007\",\"type\":\"GlyphRenderer\"},{\"attributes\":{},\"id\":\"69976\",\"type\":\"LinearScale\"},{\"attributes\":{\"callback\":null,\"data\":{\"conf_int_lower\":{\"__ndarray__\":\"ZmZmZmZmCsCZmZmZmZnpv2ZmZmZmZua/mpmZmZmZ6T/NzMzMzMwAwJqZmZmZmfG/oJmZmZmZub8yMzMzMzPTvwAAAAAAAAzAZmZmZmZm5r9mZmZmZmbmP5mZmZmZmQlAAAAAAAAACMAzMzMzMzPjPwAAAAAAAOC/AAAAAAAAAACamZmZmZnZv5qZmZmZmfm/AAAAAAAA4L/MzMzMzMzsP5iZmZmZmbm/AAAAAAAAAADMzMzMzMz0v8zMzMzMzABAmpmZmZmZAcAAAAAAAAAAAAAAAAAAAPg/ZmZmZmZm5j/NzMzMzMwEwDQzMzMzM9O/mZmZmZmZ6T80MzMzMzPTPwAAAAAAAPC/mpmZmZmZAcA0MzMzMzPjvwAAAAAAAOC/zMzMzMzM9D9mZmZmZmb2v5yZmZmZmcm/mZmZmZmZ6T8=\",\"dtype\":\"float64\",\"shape\":[40]},\"conf_int_upper\":{\"__ndarray__\":\"AAAAAAAA4L9mZmZmZmbmP83MzMzMzPQ/AAAAAAAACEAAAAAAAADgv83MzMzMzABAAAAAAAAA+D/NzMzMzMz0P8zMzMzMzPS/mJmZmZmZyT8zMzMzMzMDQAAAAAAAABJAmpmZmZmZ6b9mZmZmZmb2PzMzMzMzMwNAZ2ZmZmZm/j9mZmZmZmb+P83MzMzMzABAZmZmZmZm/j/MzMzMzMwIQJqZmZmZmQFAmpmZmZmZ+T+gmZmZmZm5PzMzMzMzMwtAAAAAAAAA4D/NzMzMzMz8P8zMzMzMzAxAMzMzMzMzB0CamZmZmZnZv5qZmZmZmfE/AAAAAAAA8D/NzMzMzMwAQDQzMzMzM/s/NDMzMzMz07+YmZmZmZnZP8zMzMzMzOw/ZmZmZmZmAkDNzMzMzMz0P5qZmZmZmQFAAAAAAAAAAEA=\",\"dtype\":\"float64\",\"shape\":[40]},\"index\":[0,1,2,3,4,5,6,7,8,9,10,11,12,13,14,15,16,17,18,19,20,21,22,23,24,25,26,27,28,29,30,31,32,33,34,35,36,37,38,39],\"model\":[\"model_0\",\"model_0\",\"model_0\",\"model_0\",\"model_1\",\"model_1\",\"model_1\",\"model_1\",\"model_2\",\"model_2\",\"model_2\",\"model_2\",\"model_3\",\"model_3\",\"model_3\",\"model_3\",\"model_4\",\"model_4\",\"model_4\",\"model_4\",\"model_5\",\"model_5\",\"model_5\",\"model_5\",\"model_6\",\"model_6\",\"model_6\",\"model_6\",\"model_7\",\"model_7\",\"model_7\",\"model_7\",\"model_8\",\"model_8\",\"model_8\",\"model_8\",\"model_9\",\"model_9\",\"model_9\",\"model_9\"],\"param_name\":[\"age\",\"grade\",\"iq_score\",\"female\",\"age\",\"grade\",\"iq_score\",\"female\",\"age\",\"grade\",\"iq_score\",\"female\",\"age\",\"grade\",\"iq_score\",\"female\",\"age\",\"grade\",\"iq_score\",\"female\",\"age\",\"grade\",\"iq_score\",\"female\",\"age\",\"grade\",\"iq_score\",\"female\",\"age\",\"grade\",\"iq_score\",\"female\",\"age\",\"grade\",\"iq_score\",\"female\",\"age\",\"grade\",\"iq_score\",\"female\"],\"param_value\":{\"__ndarray__\":\"MzMzMzMz+7+amZmZmZnZPzQzMzMzM9M/zczMzMzM7D8zMzMzMzPzv5qZmZmZmdk/ZmZmZmZm5j/NzMzMzMzsPzMzMzMzM/u/mpmZmZmZ2b8zMzMzMzPzPzMzMzMzMxFAAAAAAAAA+L8zMzMzMzPzPwAAAAAAAPA/mpmZmZmZ+T8AAAAAAADgP5qZmZmZmck/AAAAAAAA4D9mZmZmZmb+P83MzMzMzOw/mpmZmZmZ6T+YmZmZmZnZv2ZmZmZmZgJAmpmZmZmZ6b/NzMzMzMzsP2ZmZmZmZv4/ZmZmZmZm9j8AAAAAAADwv5qZmZmZmek/ZmZmZmZm5j+amZmZmZnxPzMzMzMzM+M/mpmZmZmZ8b80MzMzMzPTv2ZmZmZmZuY/MzMzMzMz+z8zMzMzMzPTP83MzMzMzOw/ZmZmZmZm9j8=\",\"dtype\":\"float64\",\"shape\":[40]}},\"selected\":{\"id\":\"71001\",\"type\":\"Selection\"},\"selection_policy\":{\"id\":\"71002\",\"type\":\"UnionRenderers\"}},\"id\":\"69968\",\"type\":\"ColumnDataSource\"},{\"attributes\":{\"dimension\":1,\"plot\":{\"id\":\"69970\",\"subtype\":\"Figure\",\"type\":\"Plot\"},\"ticker\":{\"id\":\"69986\",\"type\":\"CategoricalTicker\"}},\"id\":\"69988\",\"type\":\"Grid\"},{\"attributes\":{},\"id\":\"71001\",\"type\":\"Selection\"},{\"attributes\":{},\"id\":\"70999\",\"type\":\"CategoricalTickFormatter\"},{\"attributes\":{\"formatter\":{\"id\":\"70997\",\"type\":\"BasicTickFormatter\"},\"plot\":{\"id\":\"69970\",\"subtype\":\"Figure\",\"type\":\"Plot\"},\"ticker\":{\"id\":\"69981\",\"type\":\"BasicTicker\"}},\"id\":\"69980\",\"type\":\"LinearAxis\"},{\"attributes\":{},\"id\":\"70997\",\"type\":\"BasicTickFormatter\"},{\"attributes\":{\"bottom_units\":\"screen\",\"fill_alpha\":{\"value\":0.5},\"fill_color\":{\"value\":\"lightgrey\"},\"left_units\":\"screen\",\"level\":\"overlay\",\"line_alpha\":{\"value\":1.0},\"line_color\":{\"value\":\"black\"},\"line_dash\":[4,4],\"line_width\":{\"value\":2},\"plot\":null,\"render_mode\":\"css\",\"right_units\":\"screen\",\"top_units\":\"screen\"},\"id\":\"69997\",\"type\":\"BoxAnnotation\"},{\"attributes\":{\"plot\":null,\"text\":\"Comparison Plot\"},\"id\":\"69969\",\"type\":\"Title\"},{\"attributes\":{},\"id\":\"69992\",\"type\":\"SaveTool\"},{\"attributes\":{\"fill_color\":{\"value\":\"#1f77b4\"},\"line_color\":{\"value\":\"#1f77b4\"},\"size\":{\"units\":\"screen\",\"value\":12},\"x\":{\"field\":\"param_value\"},\"y\":{\"field\":\"param_name\"}},\"id\":\"70005\",\"type\":\"Circle\"},{\"attributes\":{\"formatter\":{\"id\":\"70999\",\"type\":\"CategoricalTickFormatter\"},\"plot\":{\"id\":\"69970\",\"subtype\":\"Figure\",\"type\":\"Plot\"},\"ticker\":{\"id\":\"69986\",\"type\":\"CategoricalTicker\"}},\"id\":\"69985\",\"type\":\"CategoricalAxis\"},{\"attributes\":{\"callback\":null},\"id\":\"69972\",\"type\":\"DataRange1d\"},{\"attributes\":{},\"id\":\"71002\",\"type\":\"UnionRenderers\"},{\"attributes\":{},\"id\":\"69994\",\"type\":\"HelpTool\"},{\"attributes\":{},\"id\":\"69986\",\"type\":\"CategoricalTicker\"},{\"attributes\":{\"callback\":null,\"factors\":[\"age\",\"grade\",\"iq_score\",\"female\"]},\"id\":\"69974\",\"type\":\"FactorRange\"},{\"attributes\":{\"fill_alpha\":{\"value\":0.1},\"fill_color\":{\"value\":\"#1f77b4\"},\"line_alpha\":{\"value\":0.1},\"line_color\":{\"value\":\"#1f77b4\"},\"size\":{\"units\":\"screen\",\"value\":12},\"x\":{\"field\":\"param_value\"},\"y\":{\"field\":\"param_name\"}},\"id\":\"70006\",\"type\":\"Circle\"},{\"attributes\":{},\"id\":\"69981\",\"type\":\"BasicTicker\"},{\"attributes\":{\"overlay\":{\"id\":\"69997\",\"type\":\"BoxAnnotation\"}},\"id\":\"69991\",\"type\":\"BoxZoomTool\"},{\"attributes\":{\"plot\":{\"id\":\"69970\",\"subtype\":\"Figure\",\"type\":\"Plot\"},\"ticker\":{\"id\":\"69981\",\"type\":\"BasicTicker\"}},\"id\":\"69984\",\"type\":\"Grid\"},{\"attributes\":{},\"id\":\"69993\",\"type\":\"ResetTool\"},{\"attributes\":{},\"id\":\"69990\",\"type\":\"WheelZoomTool\"}],\"root_ids\":[\"69970\"]},\"title\":\"Bokeh Application\",\"version\":\"1.0.4\"}};\n",
       "  var render_items = [{\"docid\":\"eae11a66-efeb-455f-b75e-5292ceccd77b\",\"roots\":{\"69970\":\"162b4ec1-6b1a-4801-9aae-0c29a096779e\"}}];\n",
       "  root.Bokeh.embed.embed_items_notebook(docs_json, render_items);\n",
       "\n",
       "  }\n",
       "  if (root.Bokeh !== undefined) {\n",
       "    embed_document(root);\n",
       "  } else {\n",
       "    var attempts = 0;\n",
       "    var timer = setInterval(function(root) {\n",
       "      if (root.Bokeh !== undefined) {\n",
       "        embed_document(root);\n",
       "        clearInterval(timer);\n",
       "      }\n",
       "      attempts++;\n",
       "      if (attempts > 100) {\n",
       "        console.log(\"Bokeh: ERROR: Unable to run BokehJS code because BokehJS library is missing\");\n",
       "        clearInterval(timer);\n",
       "      }\n",
       "    }, 10, root)\n",
       "  }\n",
       "})(window);"
      ],
      "application/vnd.bokehjs_exec.v0+json": ""
     },
     "metadata": {
      "application/vnd.bokehjs_exec.v0+json": {
       "id": "69970"
      }
     },
     "output_type": "display_data"
    }
   ],
   "source": [
    "static_comparison_plot(df1)"
   ]
  },
  {
   "cell_type": "markdown",
   "metadata": {},
   "source": [
    "This already supports some basic interactivity out of the box:\n",
    "- zooming\n",
    "- moving"
   ]
  },
  {
   "cell_type": "markdown",
   "metadata": {},
   "source": [
    "# Add Whiskers"
   ]
  },
  {
   "cell_type": "code",
   "execution_count": 336,
   "metadata": {},
   "outputs": [],
   "source": [
    "from bokeh.models import Arrow\n",
    "\n",
    "def comparison_plot_with_whiskers(df):\n",
    "    source = ColumnDataSource(df)\n",
    "    \n",
    "    # create the \"canvas\"\n",
    "    plot = figure(\n",
    "        title=\"Comparison Plot\",\n",
    "        y_range=df[\"param_name\"].unique())\n",
    "    \n",
    "    # add circles representing the parameter value\n",
    "    circle_glyph = plot.circle(\n",
    "        source=source,\n",
    "        x=\"param_value\",\n",
    "        y=\"param_name\",\n",
    "        size=12)\n",
    "    \n",
    "    # =============================================================\n",
    "    plot.add_layout(\n",
    "        Arrow(\n",
    "            source=source, \n",
    "            # y_range_name=\"param_name\", \n",
    "            x_start=\"conf_int_lower\", \n",
    "            x_end=\"conf_int_upper\",)\n",
    "    )\n",
    "    # =============================================================\n",
    "\n",
    "    show(plot)"
   ]
  },
  {
   "cell_type": "code",
   "execution_count": 337,
   "metadata": {},
   "outputs": [
    {
     "data": {
      "text/html": [
       "\n",
       "\n",
       "\n",
       "\n",
       "\n",
       "\n",
       "  <div class=\"bk-root\" id=\"ebbb935e-f551-42aa-8985-b02af868b584\" data-root-id=\"73272\"></div>\n"
      ]
     },
     "metadata": {},
     "output_type": "display_data"
    },
    {
     "data": {
      "application/javascript": [
       "(function(root) {\n",
       "  function embed_document(root) {\n",
       "    \n",
       "  var docs_json = {\"c17da86a-d6ed-4bd0-8d5a-06f99097f9e0\":{\"roots\":{\"references\":[{\"attributes\":{\"below\":[{\"id\":\"73282\",\"type\":\"LinearAxis\"}],\"left\":[{\"id\":\"73287\",\"type\":\"CategoricalAxis\"}],\"renderers\":[{\"id\":\"73282\",\"type\":\"LinearAxis\"},{\"id\":\"73286\",\"type\":\"Grid\"},{\"id\":\"73287\",\"type\":\"CategoricalAxis\"},{\"id\":\"73290\",\"type\":\"Grid\"},{\"id\":\"73299\",\"type\":\"BoxAnnotation\"},{\"id\":\"73309\",\"type\":\"GlyphRenderer\"},{\"id\":\"73311\",\"type\":\"Arrow\"}],\"title\":{\"id\":\"73271\",\"type\":\"Title\"},\"toolbar\":{\"id\":\"73297\",\"type\":\"Toolbar\"},\"x_range\":{\"id\":\"73274\",\"type\":\"DataRange1d\"},\"x_scale\":{\"id\":\"73278\",\"type\":\"LinearScale\"},\"y_range\":{\"id\":\"73276\",\"type\":\"FactorRange\"},\"y_scale\":{\"id\":\"73280\",\"type\":\"CategoricalScale\"}},\"id\":\"73272\",\"subtype\":\"Figure\",\"type\":\"Plot\"},{\"attributes\":{\"plot\":{\"id\":\"73272\",\"subtype\":\"Figure\",\"type\":\"Plot\"},\"ticker\":{\"id\":\"73283\",\"type\":\"BasicTicker\"}},\"id\":\"73286\",\"type\":\"Grid\"},{\"attributes\":{},\"id\":\"74329\",\"type\":\"CategoricalTickFormatter\"},{\"attributes\":{},\"id\":\"74332\",\"type\":\"Selection\"},{\"attributes\":{\"overlay\":{\"id\":\"73299\",\"type\":\"BoxAnnotation\"}},\"id\":\"73293\",\"type\":\"BoxZoomTool\"},{\"attributes\":{},\"id\":\"73278\",\"type\":\"LinearScale\"},{\"attributes\":{},\"id\":\"73294\",\"type\":\"SaveTool\"},{\"attributes\":{\"callback\":null,\"data\":{\"conf_int_lower\":{\"__ndarray__\":\"ZmZmZmZmCsCZmZmZmZnpv2ZmZmZmZua/mpmZmZmZ6T/NzMzMzMwAwJqZmZmZmfG/oJmZmZmZub8yMzMzMzPTvwAAAAAAAAzAZmZmZmZm5r9mZmZmZmbmP5mZmZmZmQlAAAAAAAAACMAzMzMzMzPjPwAAAAAAAOC/AAAAAAAAAACamZmZmZnZv5qZmZmZmfm/AAAAAAAA4L/MzMzMzMzsP5iZmZmZmbm/AAAAAAAAAADMzMzMzMz0v8zMzMzMzABAmpmZmZmZAcAAAAAAAAAAAAAAAAAAAPg/ZmZmZmZm5j/NzMzMzMwEwDQzMzMzM9O/mZmZmZmZ6T80MzMzMzPTPwAAAAAAAPC/mpmZmZmZAcA0MzMzMzPjvwAAAAAAAOC/zMzMzMzM9D9mZmZmZmb2v5yZmZmZmcm/mZmZmZmZ6T8=\",\"dtype\":\"float64\",\"shape\":[40]},\"conf_int_upper\":{\"__ndarray__\":\"AAAAAAAA4L9mZmZmZmbmP83MzMzMzPQ/AAAAAAAACEAAAAAAAADgv83MzMzMzABAAAAAAAAA+D/NzMzMzMz0P8zMzMzMzPS/mJmZmZmZyT8zMzMzMzMDQAAAAAAAABJAmpmZmZmZ6b9mZmZmZmb2PzMzMzMzMwNAZ2ZmZmZm/j9mZmZmZmb+P83MzMzMzABAZmZmZmZm/j/MzMzMzMwIQJqZmZmZmQFAmpmZmZmZ+T+gmZmZmZm5PzMzMzMzMwtAAAAAAAAA4D/NzMzMzMz8P8zMzMzMzAxAMzMzMzMzB0CamZmZmZnZv5qZmZmZmfE/AAAAAAAA8D/NzMzMzMwAQDQzMzMzM/s/NDMzMzMz07+YmZmZmZnZP8zMzMzMzOw/ZmZmZmZmAkDNzMzMzMz0P5qZmZmZmQFAAAAAAAAAAEA=\",\"dtype\":\"float64\",\"shape\":[40]},\"index\":[0,1,2,3,4,5,6,7,8,9,10,11,12,13,14,15,16,17,18,19,20,21,22,23,24,25,26,27,28,29,30,31,32,33,34,35,36,37,38,39],\"model\":[\"model_0\",\"model_0\",\"model_0\",\"model_0\",\"model_1\",\"model_1\",\"model_1\",\"model_1\",\"model_2\",\"model_2\",\"model_2\",\"model_2\",\"model_3\",\"model_3\",\"model_3\",\"model_3\",\"model_4\",\"model_4\",\"model_4\",\"model_4\",\"model_5\",\"model_5\",\"model_5\",\"model_5\",\"model_6\",\"model_6\",\"model_6\",\"model_6\",\"model_7\",\"model_7\",\"model_7\",\"model_7\",\"model_8\",\"model_8\",\"model_8\",\"model_8\",\"model_9\",\"model_9\",\"model_9\",\"model_9\"],\"param_name\":[\"age\",\"grade\",\"iq_score\",\"female\",\"age\",\"grade\",\"iq_score\",\"female\",\"age\",\"grade\",\"iq_score\",\"female\",\"age\",\"grade\",\"iq_score\",\"female\",\"age\",\"grade\",\"iq_score\",\"female\",\"age\",\"grade\",\"iq_score\",\"female\",\"age\",\"grade\",\"iq_score\",\"female\",\"age\",\"grade\",\"iq_score\",\"female\",\"age\",\"grade\",\"iq_score\",\"female\",\"age\",\"grade\",\"iq_score\",\"female\"],\"param_value\":{\"__ndarray__\":\"MzMzMzMz+7+amZmZmZnZPzQzMzMzM9M/zczMzMzM7D8zMzMzMzPzv5qZmZmZmdk/ZmZmZmZm5j/NzMzMzMzsPzMzMzMzM/u/mpmZmZmZ2b8zMzMzMzPzPzMzMzMzMxFAAAAAAAAA+L8zMzMzMzPzPwAAAAAAAPA/mpmZmZmZ+T8AAAAAAADgP5qZmZmZmck/AAAAAAAA4D9mZmZmZmb+P83MzMzMzOw/mpmZmZmZ6T+YmZmZmZnZv2ZmZmZmZgJAmpmZmZmZ6b/NzMzMzMzsP2ZmZmZmZv4/ZmZmZmZm9j8AAAAAAADwv5qZmZmZmek/ZmZmZmZm5j+amZmZmZnxPzMzMzMzM+M/mpmZmZmZ8b80MzMzMzPTv2ZmZmZmZuY/MzMzMzMz+z8zMzMzMzPTP83MzMzMzOw/ZmZmZmZm9j8=\",\"dtype\":\"float64\",\"shape\":[40]}},\"selected\":{\"id\":\"74332\",\"type\":\"Selection\"},\"selection_policy\":{\"id\":\"74333\",\"type\":\"UnionRenderers\"}},\"id\":\"73270\",\"type\":\"ColumnDataSource\"},{\"attributes\":{\"plot\":null,\"text\":\"Comparison Plot\"},\"id\":\"73271\",\"type\":\"Title\"},{\"attributes\":{\"fill_alpha\":{\"value\":0.1},\"fill_color\":{\"value\":\"#1f77b4\"},\"line_alpha\":{\"value\":0.1},\"line_color\":{\"value\":\"#1f77b4\"},\"size\":{\"units\":\"screen\",\"value\":12},\"x\":{\"field\":\"param_value\"},\"y\":{\"field\":\"param_name\"}},\"id\":\"73308\",\"type\":\"Circle\"},{\"attributes\":{},\"id\":\"73295\",\"type\":\"ResetTool\"},{\"attributes\":{},\"id\":\"73292\",\"type\":\"WheelZoomTool\"},{\"attributes\":{},\"id\":\"73291\",\"type\":\"PanTool\"},{\"attributes\":{\"callback\":null,\"factors\":[\"age\",\"grade\",\"iq_score\",\"female\"]},\"id\":\"73276\",\"type\":\"FactorRange\"},{\"attributes\":{},\"id\":\"74333\",\"type\":\"UnionRenderers\"},{\"attributes\":{},\"id\":\"73296\",\"type\":\"HelpTool\"},{\"attributes\":{\"active_drag\":\"auto\",\"active_inspect\":\"auto\",\"active_multi\":null,\"active_scroll\":\"auto\",\"active_tap\":\"auto\",\"tools\":[{\"id\":\"73291\",\"type\":\"PanTool\"},{\"id\":\"73292\",\"type\":\"WheelZoomTool\"},{\"id\":\"73293\",\"type\":\"BoxZoomTool\"},{\"id\":\"73294\",\"type\":\"SaveTool\"},{\"id\":\"73295\",\"type\":\"ResetTool\"},{\"id\":\"73296\",\"type\":\"HelpTool\"}]},\"id\":\"73297\",\"type\":\"Toolbar\"},{\"attributes\":{},\"id\":\"73283\",\"type\":\"BasicTicker\"},{\"attributes\":{\"end\":{\"id\":\"74331\",\"type\":\"OpenHead\"},\"plot\":{\"id\":\"73272\",\"subtype\":\"Figure\",\"type\":\"Plot\"},\"source\":{\"id\":\"73270\",\"type\":\"ColumnDataSource\"},\"start\":null,\"x_end\":{\"field\":\"conf_int_upper\"},\"x_start\":{\"field\":\"conf_int_lower\"}},\"id\":\"73311\",\"type\":\"Arrow\"},{\"attributes\":{\"dimension\":1,\"plot\":{\"id\":\"73272\",\"subtype\":\"Figure\",\"type\":\"Plot\"},\"ticker\":{\"id\":\"73288\",\"type\":\"CategoricalTicker\"}},\"id\":\"73290\",\"type\":\"Grid\"},{\"attributes\":{\"data_source\":{\"id\":\"73270\",\"type\":\"ColumnDataSource\"},\"glyph\":{\"id\":\"73307\",\"type\":\"Circle\"},\"hover_glyph\":null,\"muted_glyph\":null,\"nonselection_glyph\":{\"id\":\"73308\",\"type\":\"Circle\"},\"selection_glyph\":null,\"view\":{\"id\":\"73310\",\"type\":\"CDSView\"}},\"id\":\"73309\",\"type\":\"GlyphRenderer\"},{\"attributes\":{\"fill_color\":{\"value\":\"#1f77b4\"},\"line_color\":{\"value\":\"#1f77b4\"},\"size\":{\"units\":\"screen\",\"value\":12},\"x\":{\"field\":\"param_value\"},\"y\":{\"field\":\"param_name\"}},\"id\":\"73307\",\"type\":\"Circle\"},{\"attributes\":{},\"id\":\"73280\",\"type\":\"CategoricalScale\"},{\"attributes\":{\"plot\":null},\"id\":\"74331\",\"type\":\"OpenHead\"},{\"attributes\":{\"source\":{\"id\":\"73270\",\"type\":\"ColumnDataSource\"}},\"id\":\"73310\",\"type\":\"CDSView\"},{\"attributes\":{},\"id\":\"73288\",\"type\":\"CategoricalTicker\"},{\"attributes\":{},\"id\":\"74327\",\"type\":\"BasicTickFormatter\"},{\"attributes\":{\"formatter\":{\"id\":\"74329\",\"type\":\"CategoricalTickFormatter\"},\"plot\":{\"id\":\"73272\",\"subtype\":\"Figure\",\"type\":\"Plot\"},\"ticker\":{\"id\":\"73288\",\"type\":\"CategoricalTicker\"}},\"id\":\"73287\",\"type\":\"CategoricalAxis\"},{\"attributes\":{\"formatter\":{\"id\":\"74327\",\"type\":\"BasicTickFormatter\"},\"plot\":{\"id\":\"73272\",\"subtype\":\"Figure\",\"type\":\"Plot\"},\"ticker\":{\"id\":\"73283\",\"type\":\"BasicTicker\"}},\"id\":\"73282\",\"type\":\"LinearAxis\"},{\"attributes\":{\"bottom_units\":\"screen\",\"fill_alpha\":{\"value\":0.5},\"fill_color\":{\"value\":\"lightgrey\"},\"left_units\":\"screen\",\"level\":\"overlay\",\"line_alpha\":{\"value\":1.0},\"line_color\":{\"value\":\"black\"},\"line_dash\":[4,4],\"line_width\":{\"value\":2},\"plot\":null,\"render_mode\":\"css\",\"right_units\":\"screen\",\"top_units\":\"screen\"},\"id\":\"73299\",\"type\":\"BoxAnnotation\"},{\"attributes\":{\"callback\":null},\"id\":\"73274\",\"type\":\"DataRange1d\"}],\"root_ids\":[\"73272\"]},\"title\":\"Bokeh Application\",\"version\":\"1.0.4\"}};\n",
       "  var render_items = [{\"docid\":\"c17da86a-d6ed-4bd0-8d5a-06f99097f9e0\",\"roots\":{\"73272\":\"ebbb935e-f551-42aa-8985-b02af868b584\"}}];\n",
       "  root.Bokeh.embed.embed_items_notebook(docs_json, render_items);\n",
       "\n",
       "  }\n",
       "  if (root.Bokeh !== undefined) {\n",
       "    embed_document(root);\n",
       "  } else {\n",
       "    var attempts = 0;\n",
       "    var timer = setInterval(function(root) {\n",
       "      if (root.Bokeh !== undefined) {\n",
       "        embed_document(root);\n",
       "        clearInterval(timer);\n",
       "      }\n",
       "      attempts++;\n",
       "      if (attempts > 100) {\n",
       "        console.log(\"Bokeh: ERROR: Unable to run BokehJS code because BokehJS library is missing\");\n",
       "        clearInterval(timer);\n",
       "      }\n",
       "    }, 10, root)\n",
       "  }\n",
       "})(window);"
      ],
      "application/vnd.bokehjs_exec.v0+json": ""
     },
     "metadata": {
      "application/vnd.bokehjs_exec.v0+json": {
       "id": "73272"
      }
     },
     "output_type": "display_data"
    }
   ],
   "source": [
    "comparison_plot_with_whiskers(df1)"
   ]
  },
  {
   "cell_type": "code",
   "execution_count": null,
   "metadata": {},
   "outputs": [],
   "source": []
  },
  {
   "cell_type": "code",
   "execution_count": null,
   "metadata": {},
   "outputs": [],
   "source": []
  },
  {
   "cell_type": "markdown",
   "metadata": {},
   "source": [
    "# Display Additional Information when Hovering"
   ]
  },
  {
   "cell_type": "code",
   "execution_count": 130,
   "metadata": {},
   "outputs": [],
   "source": [
    "from bokeh.models import HoverTool\n",
    "\n",
    "\n",
    "def comparison_plot_with_hovering(df):\n",
    "    source = ColumnDataSource(df)\n",
    "    \n",
    "    # create the \"canvas\"\n",
    "    plot = figure(\n",
    "        title=\"Comparison Plot\",\n",
    "        y_range=df[\"param_name\"].unique())\n",
    "    \n",
    "    # add circles representing the parameter value\n",
    "    circle_glyph = plot.circle(\n",
    "        source=source,\n",
    "        x=\"param_value\",\n",
    "        y=\"param_name\",\n",
    "        size=12)\n",
    "    \n",
    "    # =============================================================\n",
    "    # HoverTool \n",
    "    tooltips = [\n",
    "        (\"parameter value\", \"@param_value\"),\n",
    "        (\"model\", \"@model\")]\n",
    "    hover = HoverTool(renderers=[circle_glyph], tooltips=tooltips)\n",
    "    plot.tools.append(hover)\n",
    "    # =============================================================\n",
    "\n",
    "    show(plot)"
   ]
  },
  {
   "cell_type": "code",
   "execution_count": 131,
   "metadata": {},
   "outputs": [
    {
     "data": {
      "text/html": [
       "\n",
       "\n",
       "\n",
       "\n",
       "\n",
       "\n",
       "  <div class=\"bk-root\" id=\"e1f6a722-74ed-45dd-8c1b-1b79d3777a0e\" data-root-id=\"11166\"></div>\n"
      ]
     },
     "metadata": {},
     "output_type": "display_data"
    },
    {
     "data": {
      "application/javascript": [
       "(function(root) {\n",
       "  function embed_document(root) {\n",
       "    \n",
       "  var docs_json = {\"8253b033-95ec-4369-a5e6-f56a8b218e36\":{\"roots\":{\"references\":[{\"attributes\":{\"below\":[{\"id\":\"11176\",\"type\":\"LinearAxis\"}],\"left\":[{\"id\":\"11181\",\"type\":\"CategoricalAxis\"}],\"renderers\":[{\"id\":\"11176\",\"type\":\"LinearAxis\"},{\"id\":\"11180\",\"type\":\"Grid\"},{\"id\":\"11181\",\"type\":\"CategoricalAxis\"},{\"id\":\"11184\",\"type\":\"Grid\"},{\"id\":\"11193\",\"type\":\"BoxAnnotation\"},{\"id\":\"11203\",\"type\":\"GlyphRenderer\"}],\"title\":{\"id\":\"11165\",\"type\":\"Title\"},\"toolbar\":{\"id\":\"11191\",\"type\":\"Toolbar\"},\"x_range\":{\"id\":\"11168\",\"type\":\"DataRange1d\"},\"x_scale\":{\"id\":\"11172\",\"type\":\"LinearScale\"},\"y_range\":{\"id\":\"11170\",\"type\":\"FactorRange\"},\"y_scale\":{\"id\":\"11174\",\"type\":\"CategoricalScale\"}},\"id\":\"11166\",\"subtype\":\"Figure\",\"type\":\"Plot\"},{\"attributes\":{\"fill_alpha\":{\"value\":0.1},\"fill_color\":{\"value\":\"#1f77b4\"},\"line_alpha\":{\"value\":0.1},\"line_color\":{\"value\":\"#1f77b4\"},\"size\":{\"units\":\"screen\",\"value\":12},\"x\":{\"field\":\"param_value\"},\"y\":{\"field\":\"param_name\"}},\"id\":\"11202\",\"type\":\"Circle\"},{\"attributes\":{\"data_source\":{\"id\":\"11164\",\"type\":\"ColumnDataSource\"},\"glyph\":{\"id\":\"11201\",\"type\":\"Circle\"},\"hover_glyph\":null,\"muted_glyph\":null,\"nonselection_glyph\":{\"id\":\"11202\",\"type\":\"Circle\"},\"selection_glyph\":null,\"view\":{\"id\":\"11204\",\"type\":\"CDSView\"}},\"id\":\"11203\",\"type\":\"GlyphRenderer\"},{\"attributes\":{},\"id\":\"11185\",\"type\":\"PanTool\"},{\"attributes\":{},\"id\":\"11186\",\"type\":\"WheelZoomTool\"},{\"attributes\":{\"callback\":null},\"id\":\"11168\",\"type\":\"DataRange1d\"},{\"attributes\":{\"overlay\":{\"id\":\"11193\",\"type\":\"BoxAnnotation\"}},\"id\":\"11187\",\"type\":\"BoxZoomTool\"},{\"attributes\":{},\"id\":\"11188\",\"type\":\"SaveTool\"},{\"attributes\":{\"callback\":null,\"data\":{\"index\":[0,1,2,3,4,5,6,7,8,9,10,11,12,13,14,15,16,17,18,19,20,21,22,23,24,25,26,27,28,29,30,31,32,33,34,35,36,37,38,39],\"model\":[\"model_0\",\"model_0\",\"model_0\",\"model_0\",\"model_1\",\"model_1\",\"model_1\",\"model_1\",\"model_2\",\"model_2\",\"model_2\",\"model_2\",\"model_3\",\"model_3\",\"model_3\",\"model_3\",\"model_4\",\"model_4\",\"model_4\",\"model_4\",\"model_5\",\"model_5\",\"model_5\",\"model_5\",\"model_6\",\"model_6\",\"model_6\",\"model_6\",\"model_7\",\"model_7\",\"model_7\",\"model_7\",\"model_8\",\"model_8\",\"model_8\",\"model_8\",\"model_9\",\"model_9\",\"model_9\",\"model_9\"],\"param_name\":[\"age\",\"grade\",\"iq_score\",\"gender\",\"age\",\"grade\",\"iq_score\",\"gender\",\"age\",\"grade\",\"iq_score\",\"gender\",\"age\",\"grade\",\"iq_score\",\"gender\",\"age\",\"grade\",\"iq_score\",\"gender\",\"age\",\"grade\",\"iq_score\",\"gender\",\"age\",\"grade\",\"iq_score\",\"gender\",\"age\",\"grade\",\"iq_score\",\"gender\",\"age\",\"grade\",\"iq_score\",\"gender\",\"age\",\"grade\",\"iq_score\",\"gender\"],\"param_value\":{\"__ndarray__\":\"7qd62qdn8D+B+XEPAJz4P+JAVhPZffo/1wdI0MbE9T9fW3Vy4xgLwMu3M113jv0/7CV8wAjR5T+mAXmGcYn8P1PKyoDfqOM/x4ATbzWT1j/I8n2j1tPlPwDrNRZ9EOQ/UnC/YEYZ+D9CHayoKhIBQKbrN/IEfN4/vQQ3+wzHAkB3hkMMhPOLP6pED4c+ePC/IBOWqPg35j/q6urkp6MOQO6mJqx+Oe0/iml/+GWx6D8hPZaqP1rpPyYo9PaSQvw/jR/Uj2B59j9wMO4d8zy5P3l71KMBdvw/1MfP7B967D/Gty6qqnvxP2KWHmBOVOu/yDFBPKfNyT9FBtCPKcHwP5mPJ+uoHL6/UmkLqo+yzz8eF0BA6O3SP+RoaV7zlPY/vcMDIpTZ6b+yo7PUxazcv3JtCO03beI/KM6mmnns678=\",\"dtype\":\"float64\",\"shape\":[40]}},\"selected\":{\"id\":\"11525\",\"type\":\"Selection\"},\"selection_policy\":{\"id\":\"11526\",\"type\":\"UnionRenderers\"}},\"id\":\"11164\",\"type\":\"ColumnDataSource\"},{\"attributes\":{\"plot\":null,\"text\":\"Comparison Plot\"},\"id\":\"11165\",\"type\":\"Title\"},{\"attributes\":{},\"id\":\"11189\",\"type\":\"ResetTool\"},{\"attributes\":{\"callback\":null,\"factors\":[\"age\",\"grade\",\"iq_score\",\"gender\"]},\"id\":\"11170\",\"type\":\"FactorRange\"},{\"attributes\":{},\"id\":\"11190\",\"type\":\"HelpTool\"},{\"attributes\":{\"active_drag\":\"auto\",\"active_inspect\":\"auto\",\"active_multi\":null,\"active_scroll\":\"auto\",\"active_tap\":\"auto\",\"tools\":[{\"id\":\"11185\",\"type\":\"PanTool\"},{\"id\":\"11186\",\"type\":\"WheelZoomTool\"},{\"id\":\"11187\",\"type\":\"BoxZoomTool\"},{\"id\":\"11188\",\"type\":\"SaveTool\"},{\"id\":\"11189\",\"type\":\"ResetTool\"},{\"id\":\"11190\",\"type\":\"HelpTool\"},{\"id\":\"11205\",\"type\":\"HoverTool\"}]},\"id\":\"11191\",\"type\":\"Toolbar\"},{\"attributes\":{\"fill_color\":{\"value\":\"#1f77b4\"},\"line_color\":{\"value\":\"#1f77b4\"},\"size\":{\"units\":\"screen\",\"value\":12},\"x\":{\"field\":\"param_value\"},\"y\":{\"field\":\"param_name\"}},\"id\":\"11201\",\"type\":\"Circle\"},{\"attributes\":{\"bottom_units\":\"screen\",\"fill_alpha\":{\"value\":0.5},\"fill_color\":{\"value\":\"lightgrey\"},\"left_units\":\"screen\",\"level\":\"overlay\",\"line_alpha\":{\"value\":1.0},\"line_color\":{\"value\":\"black\"},\"line_dash\":[4,4],\"line_width\":{\"value\":2},\"plot\":null,\"render_mode\":\"css\",\"right_units\":\"screen\",\"top_units\":\"screen\"},\"id\":\"11193\",\"type\":\"BoxAnnotation\"},{\"attributes\":{\"formatter\":{\"id\":\"11523\",\"type\":\"CategoricalTickFormatter\"},\"plot\":{\"id\":\"11166\",\"subtype\":\"Figure\",\"type\":\"Plot\"},\"ticker\":{\"id\":\"11182\",\"type\":\"CategoricalTicker\"}},\"id\":\"11181\",\"type\":\"CategoricalAxis\"},{\"attributes\":{\"source\":{\"id\":\"11164\",\"type\":\"ColumnDataSource\"}},\"id\":\"11204\",\"type\":\"CDSView\"},{\"attributes\":{\"plot\":{\"id\":\"11166\",\"subtype\":\"Figure\",\"type\":\"Plot\"},\"ticker\":{\"id\":\"11177\",\"type\":\"BasicTicker\"}},\"id\":\"11180\",\"type\":\"Grid\"},{\"attributes\":{},\"id\":\"11174\",\"type\":\"CategoricalScale\"},{\"attributes\":{\"callback\":null,\"renderers\":[{\"id\":\"11203\",\"type\":\"GlyphRenderer\"}],\"tooltips\":[[\"parameter value\",\"@param_value\"],[\"model\",\"@model\"]]},\"id\":\"11205\",\"type\":\"HoverTool\"},{\"attributes\":{},\"id\":\"11177\",\"type\":\"BasicTicker\"},{\"attributes\":{},\"id\":\"11521\",\"type\":\"BasicTickFormatter\"},{\"attributes\":{\"formatter\":{\"id\":\"11521\",\"type\":\"BasicTickFormatter\"},\"plot\":{\"id\":\"11166\",\"subtype\":\"Figure\",\"type\":\"Plot\"},\"ticker\":{\"id\":\"11177\",\"type\":\"BasicTicker\"}},\"id\":\"11176\",\"type\":\"LinearAxis\"},{\"attributes\":{},\"id\":\"11523\",\"type\":\"CategoricalTickFormatter\"},{\"attributes\":{},\"id\":\"11525\",\"type\":\"Selection\"},{\"attributes\":{},\"id\":\"11172\",\"type\":\"LinearScale\"},{\"attributes\":{},\"id\":\"11526\",\"type\":\"UnionRenderers\"},{\"attributes\":{},\"id\":\"11182\",\"type\":\"CategoricalTicker\"},{\"attributes\":{\"dimension\":1,\"plot\":{\"id\":\"11166\",\"subtype\":\"Figure\",\"type\":\"Plot\"},\"ticker\":{\"id\":\"11182\",\"type\":\"CategoricalTicker\"}},\"id\":\"11184\",\"type\":\"Grid\"}],\"root_ids\":[\"11166\"]},\"title\":\"Bokeh Application\",\"version\":\"1.0.4\"}};\n",
       "  var render_items = [{\"docid\":\"8253b033-95ec-4369-a5e6-f56a8b218e36\",\"roots\":{\"11166\":\"e1f6a722-74ed-45dd-8c1b-1b79d3777a0e\"}}];\n",
       "  root.Bokeh.embed.embed_items_notebook(docs_json, render_items);\n",
       "\n",
       "  }\n",
       "  if (root.Bokeh !== undefined) {\n",
       "    embed_document(root);\n",
       "  } else {\n",
       "    var attempts = 0;\n",
       "    var timer = setInterval(function(root) {\n",
       "      if (root.Bokeh !== undefined) {\n",
       "        embed_document(root);\n",
       "        clearInterval(timer);\n",
       "      }\n",
       "      attempts++;\n",
       "      if (attempts > 100) {\n",
       "        console.log(\"Bokeh: ERROR: Unable to run BokehJS code because BokehJS library is missing\");\n",
       "        clearInterval(timer);\n",
       "      }\n",
       "    }, 10, root)\n",
       "  }\n",
       "})(window);"
      ],
      "application/vnd.bokehjs_exec.v0+json": ""
     },
     "metadata": {
      "application/vnd.bokehjs_exec.v0+json": {
       "id": "11166"
      }
     },
     "output_type": "display_data"
    }
   ],
   "source": [
    "comparison_plot_with_hovering(df1)"
   ]
  },
  {
   "cell_type": "code",
   "execution_count": null,
   "metadata": {},
   "outputs": [],
   "source": []
  },
  {
   "cell_type": "markdown",
   "metadata": {},
   "source": [
    "# Select points of the same model when one estimate is selected"
   ]
  },
  {
   "cell_type": "code",
   "execution_count": 47,
   "metadata": {},
   "outputs": [],
   "source": [
    "# two components of Bokeh\n",
    "# need custom callback when point is tapped\n",
    "# server OR JavaScript\n",
    "# ..."
   ]
  },
  {
   "cell_type": "code",
   "execution_count": 235,
   "metadata": {},
   "outputs": [
    {
     "data": {
      "application/javascript": [
       "\n",
       "function select_model_points(source){\n",
       "\n",
       "// adapted from https://stackoverflow.com/a/44996422\n",
       "var chosen = source.selected.indices;\n",
       "if (typeof(chosen) == \"number\"){\n",
       "    var chosen = [chosen]\n",
       "};\n",
       "\n",
       "var chosen_models = []; \n",
       "\n",
       "for (var i = 0; i < chosen.length; ++ i){\n",
       "    chosen_models.push(source.data['model'][chosen[i]])\n",
       "};\n",
       "        \n",
       "var chosen_models_indices = []; \n",
       "\n",
       "for (var i = 0; i < source.data['index'].length; ++ i){\n",
       "    if (chosen_models.includes(source.data['model'][i])){\n",
       "        chosen_models_indices.push(i)\n",
       "    };\n",
       "};\n",
       "\n",
       "source.selected.indices = chosen_models_indices \n",
       "source.change.emit();\n",
       "    \n",
       "}\n"
      ],
      "text/plain": [
       "<IPython.core.display.Javascript object>"
      ]
     },
     "metadata": {},
     "output_type": "display_data"
    }
   ],
   "source": [
    "%%javascript\n",
    "\n",
    "function select_model_points(source){\n",
    "\n",
    "// adapted from https://stackoverflow.com/a/44996422\n",
    "var chosen = source.selected.indices;\n",
    "if (typeof(chosen) == \"number\"){\n",
    "    var chosen = [chosen]\n",
    "};\n",
    "\n",
    "var chosen_models = []; \n",
    "\n",
    "for (var i = 0; i < chosen.length; ++ i){\n",
    "    chosen_models.push(source.data['model'][chosen[i]])\n",
    "};\n",
    "        \n",
    "var chosen_models_indices = []; \n",
    "\n",
    "for (var i = 0; i < source.data['index'].length; ++ i){\n",
    "    if (chosen_models.includes(source.data['model'][i])){\n",
    "        chosen_models_indices.push(i)\n",
    "    };\n",
    "};\n",
    "\n",
    "source.selected.indices = chosen_models_indices \n",
    "source.change.emit();\n",
    "    \n",
    "}"
   ]
  },
  {
   "cell_type": "code",
   "execution_count": 239,
   "metadata": {},
   "outputs": [],
   "source": [
    "with open('callback.js', 'r') as f:\n",
    "    js_code = f.read()"
   ]
  },
  {
   "cell_type": "code",
   "execution_count": 245,
   "metadata": {},
   "outputs": [],
   "source": [
    "from bokeh.models import CustomJS\n",
    "\n",
    "def comparison_plot_with_model_selection(df, js_code=js_code):\n",
    "    # safety measure to make sure the index \n",
    "    # gives the position in the arrays \n",
    "    # that the source data dictionary points to\n",
    "    safe_df = df.reset_index(drop=True)\n",
    "    \n",
    "    source = ColumnDataSource(safe_df)\n",
    "    \n",
    "    # create the \"canvas\"\n",
    "    plot = figure(\n",
    "        title=\"Comparison Plot\",\n",
    "        y_range=df[\"param_name\"].unique())\n",
    "    \n",
    "    # add circles representing the parameter value\n",
    "    circle_glyph = plot.circle(\n",
    "        source=source,\n",
    "        x=\"param_value\",\n",
    "        y=\"param_name\",\n",
    "        size=12)\n",
    "    \n",
    "    # HoverTool\n",
    "    tooltips = [\n",
    "        (\"parameter value\", \"@param_value\"),\n",
    "        (\"model\", \"@model\")]\n",
    "    hover = HoverTool(renderers=[circle_glyph], tooltips=tooltips)\n",
    "    plot.tools.append(hover)\n",
    "    \n",
    "    # =============================================================\n",
    "    # TapTool\n",
    "    js_kwargs = {\"source\": source}\n",
    "    js_callback = CustomJS(args=js_kwargs, code=js_code)\n",
    "    tap = TapTool(callback=js_callback)\n",
    "    plot.tools.append(tap)\n",
    "    # =============================================================\n",
    "\n",
    "    show(plot)"
   ]
  },
  {
   "cell_type": "code",
   "execution_count": 246,
   "metadata": {},
   "outputs": [
    {
     "data": {
      "text/html": [
       "\n",
       "\n",
       "\n",
       "\n",
       "\n",
       "\n",
       "  <div class=\"bk-root\" id=\"40ff02af-2ad0-4db9-a9fc-704475cb4611\" data-root-id=\"41756\"></div>\n"
      ]
     },
     "metadata": {},
     "output_type": "display_data"
    },
    {
     "data": {
      "application/javascript": [
       "(function(root) {\n",
       "  function embed_document(root) {\n",
       "    \n",
       "  var docs_json = {\"e2cac996-b1dd-4cce-ae1d-6ea78cae13c8\":{\"roots\":{\"references\":[{\"attributes\":{\"below\":[{\"id\":\"41766\",\"type\":\"LinearAxis\"}],\"left\":[{\"id\":\"41771\",\"type\":\"CategoricalAxis\"}],\"renderers\":[{\"id\":\"41766\",\"type\":\"LinearAxis\"},{\"id\":\"41770\",\"type\":\"Grid\"},{\"id\":\"41771\",\"type\":\"CategoricalAxis\"},{\"id\":\"41774\",\"type\":\"Grid\"},{\"id\":\"41783\",\"type\":\"BoxAnnotation\"},{\"id\":\"41793\",\"type\":\"GlyphRenderer\"}],\"title\":{\"id\":\"41755\",\"type\":\"Title\"},\"toolbar\":{\"id\":\"41781\",\"type\":\"Toolbar\"},\"x_range\":{\"id\":\"41758\",\"type\":\"DataRange1d\"},\"x_scale\":{\"id\":\"41762\",\"type\":\"LinearScale\"},\"y_range\":{\"id\":\"41760\",\"type\":\"FactorRange\"},\"y_scale\":{\"id\":\"41764\",\"type\":\"CategoricalScale\"}},\"id\":\"41756\",\"subtype\":\"Figure\",\"type\":\"Plot\"},{\"attributes\":{},\"id\":\"41775\",\"type\":\"PanTool\"},{\"attributes\":{\"source\":{\"id\":\"41754\",\"type\":\"ColumnDataSource\"}},\"id\":\"41794\",\"type\":\"CDSView\"},{\"attributes\":{\"overlay\":{\"id\":\"41783\",\"type\":\"BoxAnnotation\"}},\"id\":\"41777\",\"type\":\"BoxZoomTool\"},{\"attributes\":{\"callback\":null,\"data\":{\"index\":[0,1,2,3,4,5,6,7,8,9,10,11,12,13,14,15,16,17,18,19,20,21,22,23,24,25,26,27,28,29,30,31,32,33,34,35,36,37,38,39],\"model\":[\"model_0\",\"model_0\",\"model_0\",\"model_0\",\"model_1\",\"model_1\",\"model_1\",\"model_1\",\"model_2\",\"model_2\",\"model_2\",\"model_2\",\"model_3\",\"model_3\",\"model_3\",\"model_3\",\"model_4\",\"model_4\",\"model_4\",\"model_4\",\"model_5\",\"model_5\",\"model_5\",\"model_5\",\"model_6\",\"model_6\",\"model_6\",\"model_6\",\"model_7\",\"model_7\",\"model_7\",\"model_7\",\"model_8\",\"model_8\",\"model_8\",\"model_8\",\"model_9\",\"model_9\",\"model_9\",\"model_9\"],\"param_name\":[\"age\",\"grade\",\"iq_score\",\"gender\",\"age\",\"grade\",\"iq_score\",\"gender\",\"age\",\"grade\",\"iq_score\",\"gender\",\"age\",\"grade\",\"iq_score\",\"gender\",\"age\",\"grade\",\"iq_score\",\"gender\",\"age\",\"grade\",\"iq_score\",\"gender\",\"age\",\"grade\",\"iq_score\",\"gender\",\"age\",\"grade\",\"iq_score\",\"gender\",\"age\",\"grade\",\"iq_score\",\"gender\",\"age\",\"grade\",\"iq_score\",\"gender\"],\"param_value\":{\"__ndarray__\":\"7qd62qdn8D+B+XEPAJz4P+JAVhPZffo/1wdI0MbE9T9fW3Vy4xgLwMu3M113jv0/7CV8wAjR5T+mAXmGcYn8P1PKyoDfqOM/x4ATbzWT1j/I8n2j1tPlPwDrNRZ9EOQ/UnC/YEYZ+D9CHayoKhIBQKbrN/IEfN4/vQQ3+wzHAkB3hkMMhPOLP6pED4c+ePC/IBOWqPg35j/q6urkp6MOQO6mJqx+Oe0/iml/+GWx6D8hPZaqP1rpPyYo9PaSQvw/jR/Uj2B59j9wMO4d8zy5P3l71KMBdvw/1MfP7B967D/Gty6qqnvxP2KWHmBOVOu/yDFBPKfNyT9FBtCPKcHwP5mPJ+uoHL6/UmkLqo+yzz8eF0BA6O3SP+RoaV7zlPY/vcMDIpTZ6b+yo7PUxazcv3JtCO03beI/KM6mmnns678=\",\"dtype\":\"float64\",\"shape\":[40]}},\"selected\":{\"id\":\"42518\",\"type\":\"Selection\"},\"selection_policy\":{\"id\":\"42519\",\"type\":\"UnionRenderers\"}},\"id\":\"41754\",\"type\":\"ColumnDataSource\"},{\"attributes\":{},\"id\":\"42514\",\"type\":\"BasicTickFormatter\"},{\"attributes\":{\"plot\":null,\"text\":\"Comparison Plot\"},\"id\":\"41755\",\"type\":\"Title\"},{\"attributes\":{\"data_source\":{\"id\":\"41754\",\"type\":\"ColumnDataSource\"},\"glyph\":{\"id\":\"41791\",\"type\":\"Circle\"},\"hover_glyph\":null,\"muted_glyph\":null,\"nonselection_glyph\":{\"id\":\"41792\",\"type\":\"Circle\"},\"selection_glyph\":null,\"view\":{\"id\":\"41794\",\"type\":\"CDSView\"}},\"id\":\"41793\",\"type\":\"GlyphRenderer\"},{\"attributes\":{\"plot\":{\"id\":\"41756\",\"subtype\":\"Figure\",\"type\":\"Plot\"},\"ticker\":{\"id\":\"41767\",\"type\":\"BasicTicker\"}},\"id\":\"41770\",\"type\":\"Grid\"},{\"attributes\":{\"active_drag\":\"auto\",\"active_inspect\":\"auto\",\"active_multi\":null,\"active_scroll\":\"auto\",\"active_tap\":\"auto\",\"tools\":[{\"id\":\"41775\",\"type\":\"PanTool\"},{\"id\":\"41776\",\"type\":\"WheelZoomTool\"},{\"id\":\"41777\",\"type\":\"BoxZoomTool\"},{\"id\":\"41778\",\"type\":\"SaveTool\"},{\"id\":\"41779\",\"type\":\"ResetTool\"},{\"id\":\"41780\",\"type\":\"HelpTool\"},{\"id\":\"41795\",\"type\":\"HoverTool\"},{\"id\":\"41798\",\"type\":\"TapTool\"}]},\"id\":\"41781\",\"type\":\"Toolbar\"},{\"attributes\":{},\"id\":\"41780\",\"type\":\"HelpTool\"},{\"attributes\":{},\"id\":\"42519\",\"type\":\"UnionRenderers\"},{\"attributes\":{\"formatter\":{\"id\":\"42516\",\"type\":\"CategoricalTickFormatter\"},\"plot\":{\"id\":\"41756\",\"subtype\":\"Figure\",\"type\":\"Plot\"},\"ticker\":{\"id\":\"41772\",\"type\":\"CategoricalTicker\"}},\"id\":\"41771\",\"type\":\"CategoricalAxis\"},{\"attributes\":{},\"id\":\"41778\",\"type\":\"SaveTool\"},{\"attributes\":{\"bottom_units\":\"screen\",\"fill_alpha\":{\"value\":0.5},\"fill_color\":{\"value\":\"lightgrey\"},\"left_units\":\"screen\",\"level\":\"overlay\",\"line_alpha\":{\"value\":1.0},\"line_color\":{\"value\":\"black\"},\"line_dash\":[4,4],\"line_width\":{\"value\":2},\"plot\":null,\"render_mode\":\"css\",\"right_units\":\"screen\",\"top_units\":\"screen\"},\"id\":\"41783\",\"type\":\"BoxAnnotation\"},{\"attributes\":{\"dimension\":1,\"plot\":{\"id\":\"41756\",\"subtype\":\"Figure\",\"type\":\"Plot\"},\"ticker\":{\"id\":\"41772\",\"type\":\"CategoricalTicker\"}},\"id\":\"41774\",\"type\":\"Grid\"},{\"attributes\":{},\"id\":\"42516\",\"type\":\"CategoricalTickFormatter\"},{\"attributes\":{\"formatter\":{\"id\":\"42514\",\"type\":\"BasicTickFormatter\"},\"plot\":{\"id\":\"41756\",\"subtype\":\"Figure\",\"type\":\"Plot\"},\"ticker\":{\"id\":\"41767\",\"type\":\"BasicTicker\"}},\"id\":\"41766\",\"type\":\"LinearAxis\"},{\"attributes\":{},\"id\":\"41779\",\"type\":\"ResetTool\"},{\"attributes\":{},\"id\":\"42518\",\"type\":\"Selection\"},{\"attributes\":{\"fill_alpha\":{\"value\":0.1},\"fill_color\":{\"value\":\"#1f77b4\"},\"line_alpha\":{\"value\":0.1},\"line_color\":{\"value\":\"#1f77b4\"},\"size\":{\"units\":\"screen\",\"value\":12},\"x\":{\"field\":\"param_value\"},\"y\":{\"field\":\"param_name\"}},\"id\":\"41792\",\"type\":\"Circle\"},{\"attributes\":{},\"id\":\"41767\",\"type\":\"BasicTicker\"},{\"attributes\":{\"callback\":null,\"factors\":[\"age\",\"grade\",\"iq_score\",\"gender\"]},\"id\":\"41760\",\"type\":\"FactorRange\"},{\"attributes\":{\"callback\":null,\"renderers\":[{\"id\":\"41793\",\"type\":\"GlyphRenderer\"}],\"tooltips\":[[\"parameter value\",\"@param_value\"],[\"model\",\"@model\"]]},\"id\":\"41795\",\"type\":\"HoverTool\"},{\"attributes\":{},\"id\":\"41762\",\"type\":\"LinearScale\"},{\"attributes\":{\"callback\":{\"id\":\"41797\",\"type\":\"CustomJS\"}},\"id\":\"41798\",\"type\":\"TapTool\"},{\"attributes\":{},\"id\":\"41764\",\"type\":\"CategoricalScale\"},{\"attributes\":{\"args\":{\"source\":{\"id\":\"41754\",\"type\":\"ColumnDataSource\"}},\"code\":\"// adapted from https://stackoverflow.com/a/44996422\\n\\nvar chosen = source.selected.indices;\\nif (typeof(chosen) == \\\"number\\\"){\\n    var chosen = [chosen]\\n};\\n\\nvar chosen_models = [];\\n\\nfor (var i = 0; i < chosen.length; ++ i){\\n    chosen_models.push(source.data['model'][chosen[i]])\\n};\\n\\nvar chosen_models_indices = [];\\n\\nfor (var i = 0; i < source.data['index'].length; ++ i){\\n    if (chosen_models.includes(source.data['model'][i])){\\n        chosen_models_indices.push(i)\\n    };\\n};\\n\\nsource.selected.indices = chosen_models_indices;\\nsource.change.emit();\"},\"id\":\"41797\",\"type\":\"CustomJS\"},{\"attributes\":{\"fill_color\":{\"value\":\"#1f77b4\"},\"line_color\":{\"value\":\"#1f77b4\"},\"size\":{\"units\":\"screen\",\"value\":12},\"x\":{\"field\":\"param_value\"},\"y\":{\"field\":\"param_name\"}},\"id\":\"41791\",\"type\":\"Circle\"},{\"attributes\":{},\"id\":\"41772\",\"type\":\"CategoricalTicker\"},{\"attributes\":{\"callback\":null},\"id\":\"41758\",\"type\":\"DataRange1d\"},{\"attributes\":{},\"id\":\"41776\",\"type\":\"WheelZoomTool\"}],\"root_ids\":[\"41756\"]},\"title\":\"Bokeh Application\",\"version\":\"1.0.4\"}};\n",
       "  var render_items = [{\"docid\":\"e2cac996-b1dd-4cce-ae1d-6ea78cae13c8\",\"roots\":{\"41756\":\"40ff02af-2ad0-4db9-a9fc-704475cb4611\"}}];\n",
       "  root.Bokeh.embed.embed_items_notebook(docs_json, render_items);\n",
       "\n",
       "  }\n",
       "  if (root.Bokeh !== undefined) {\n",
       "    embed_document(root);\n",
       "  } else {\n",
       "    var attempts = 0;\n",
       "    var timer = setInterval(function(root) {\n",
       "      if (root.Bokeh !== undefined) {\n",
       "        embed_document(root);\n",
       "        clearInterval(timer);\n",
       "      }\n",
       "      attempts++;\n",
       "      if (attempts > 100) {\n",
       "        console.log(\"Bokeh: ERROR: Unable to run BokehJS code because BokehJS library is missing\");\n",
       "        clearInterval(timer);\n",
       "      }\n",
       "    }, 10, root)\n",
       "  }\n",
       "})(window);"
      ],
      "application/vnd.bokehjs_exec.v0+json": ""
     },
     "metadata": {
      "application/vnd.bokehjs_exec.v0+json": {
       "id": "41756"
      }
     },
     "output_type": "display_data"
    }
   ],
   "source": [
    "comparison_plot_with_model_selection(df1)"
   ]
  },
  {
   "cell_type": "code",
   "execution_count": null,
   "metadata": {},
   "outputs": [],
   "source": []
  },
  {
   "cell_type": "code",
   "execution_count": 316,
   "metadata": {},
   "outputs": [],
   "source": [
    "def styled_comparison_plot(df, js_code=js_code):\n",
    "    # safety measure to make sure the index \n",
    "    # gives the position in the arrays \n",
    "    # that the source data dictionary points to\n",
    "    safe_df = df.reset_index(drop=True)\n",
    "    \n",
    "    source = ColumnDataSource(safe_df)\n",
    "    \n",
    "    # create the \"canvas\"\n",
    "    plot = figure(\n",
    "        title=\"Comparison Plot\",\n",
    "        y_range=df[\"param_name\"].unique(),\n",
    "        \n",
    "        # =============================================================\n",
    "        plot_width=600,\n",
    "        plot_height=300, \n",
    "        # =============================================================\n",
    "    )\n",
    "        \n",
    "    # add circles representing the parameter value\n",
    "    circle_glyph = plot.circle(\n",
    "        source=source,\n",
    "        x=\"param_value\",\n",
    "        y=\"param_name\",\n",
    "        size=12,\n",
    "        \n",
    "        # =============================================================\n",
    "        color='#DAA520', \n",
    "        alpha=0.5,\n",
    "        nonselection_color=\"#035096\",\n",
    "        selection_color=\"firebrick\",\n",
    "        nonselection_alpha=0.2,\n",
    "        selection_alpha=0.7,\n",
    "        # =============================================================\n",
    "    )\n",
    "\n",
    "    # HoverTool\n",
    "    tooltips = [\n",
    "        (\"parameter value\", \"@param_value\"),\n",
    "        (\"model\", \"@model\")]\n",
    "    hover = HoverTool(renderers=[circle_glyph], tooltips=tooltips)\n",
    "    plot.tools.append(hover)\n",
    "    \n",
    "    # TapTool\n",
    "    js_kwargs = {\"source\": source}\n",
    "    js_callback = CustomJS(args=js_kwargs, code=js_code)\n",
    "    tap = TapTool(callback=js_callback)\n",
    "    plot.tools.append(tap)\n",
    "\n",
    "    show(plot)"
   ]
  },
  {
   "cell_type": "code",
   "execution_count": 317,
   "metadata": {},
   "outputs": [
    {
     "data": {
      "text/html": [
       "\n",
       "\n",
       "\n",
       "\n",
       "\n",
       "\n",
       "  <div class=\"bk-root\" id=\"6994c095-8020-45ac-9b3e-3a819bcf0a01\" data-root-id=\"66550\"></div>\n"
      ]
     },
     "metadata": {},
     "output_type": "display_data"
    },
    {
     "data": {
      "application/javascript": [
       "(function(root) {\n",
       "  function embed_document(root) {\n",
       "    \n",
       "  var docs_json = {\"b109d8c5-c8f7-4c48-99a0-f0cc2201d758\":{\"roots\":{\"references\":[{\"attributes\":{\"below\":[{\"id\":\"66560\",\"type\":\"LinearAxis\"}],\"left\":[{\"id\":\"66565\",\"type\":\"CategoricalAxis\"}],\"plot_height\":300,\"renderers\":[{\"id\":\"66560\",\"type\":\"LinearAxis\"},{\"id\":\"66564\",\"type\":\"Grid\"},{\"id\":\"66565\",\"type\":\"CategoricalAxis\"},{\"id\":\"66568\",\"type\":\"Grid\"},{\"id\":\"66577\",\"type\":\"BoxAnnotation\"},{\"id\":\"66588\",\"type\":\"GlyphRenderer\"}],\"title\":{\"id\":\"66549\",\"type\":\"Title\"},\"toolbar\":{\"id\":\"66575\",\"type\":\"Toolbar\"},\"x_range\":{\"id\":\"66552\",\"type\":\"DataRange1d\"},\"x_scale\":{\"id\":\"66556\",\"type\":\"LinearScale\"},\"y_range\":{\"id\":\"66554\",\"type\":\"FactorRange\"},\"y_scale\":{\"id\":\"66558\",\"type\":\"CategoricalScale\"}},\"id\":\"66550\",\"subtype\":\"Figure\",\"type\":\"Plot\"},{\"attributes\":{\"fill_alpha\":{\"value\":0.7},\"fill_color\":{\"value\":\"firebrick\"},\"line_alpha\":{\"value\":0.7},\"line_color\":{\"value\":\"firebrick\"},\"size\":{\"units\":\"screen\",\"value\":12},\"x\":{\"field\":\"param_value\"},\"y\":{\"field\":\"param_name\"}},\"id\":\"66587\",\"type\":\"Circle\"},{\"attributes\":{\"fill_alpha\":{\"value\":0.2},\"fill_color\":{\"value\":\"#035096\"},\"line_alpha\":{\"value\":0.2},\"line_color\":{\"value\":\"#035096\"},\"size\":{\"units\":\"screen\",\"value\":12},\"x\":{\"field\":\"param_value\"},\"y\":{\"field\":\"param_name\"}},\"id\":\"66586\",\"type\":\"Circle\"},{\"attributes\":{},\"id\":\"66569\",\"type\":\"PanTool\"},{\"attributes\":{},\"id\":\"66570\",\"type\":\"WheelZoomTool\"},{\"attributes\":{\"overlay\":{\"id\":\"66577\",\"type\":\"BoxAnnotation\"}},\"id\":\"66571\",\"type\":\"BoxZoomTool\"},{\"attributes\":{\"callback\":null,\"data\":{\"index\":[0,1,2,3,4,5,6,7,8,9,10,11,12,13,14,15,16,17,18,19,20,21,22,23,24,25,26,27,28,29,30,31,32,33,34,35,36,37,38,39],\"model\":[\"model_0\",\"model_0\",\"model_0\",\"model_0\",\"model_1\",\"model_1\",\"model_1\",\"model_1\",\"model_2\",\"model_2\",\"model_2\",\"model_2\",\"model_3\",\"model_3\",\"model_3\",\"model_3\",\"model_4\",\"model_4\",\"model_4\",\"model_4\",\"model_5\",\"model_5\",\"model_5\",\"model_5\",\"model_6\",\"model_6\",\"model_6\",\"model_6\",\"model_7\",\"model_7\",\"model_7\",\"model_7\",\"model_8\",\"model_8\",\"model_8\",\"model_8\",\"model_9\",\"model_9\",\"model_9\",\"model_9\"],\"param_name\":[\"age\",\"grade\",\"iq_score\",\"female\",\"age\",\"grade\",\"iq_score\",\"female\",\"age\",\"grade\",\"iq_score\",\"female\",\"age\",\"grade\",\"iq_score\",\"female\",\"age\",\"grade\",\"iq_score\",\"female\",\"age\",\"grade\",\"iq_score\",\"female\",\"age\",\"grade\",\"iq_score\",\"female\",\"age\",\"grade\",\"iq_score\",\"female\",\"age\",\"grade\",\"iq_score\",\"female\",\"age\",\"grade\",\"iq_score\",\"female\"],\"param_value\":{\"__ndarray__\":\"UJNlv3Zl5D8gMyMM9nWtvwDKKwH879w/ZGRoet21+j+rLgOpT7b/P+2CcR5sFe8/xFeZBvwM0b+0wNTo4dP9PyqtnN3heNU/w53JcFbD+j+01vbcPpDzP4eWj0hIZRFAN0Hlirtfxb9D2FGCz5QBwNOGL9TnX/s/MJHbhLND9j8Tv18CrOyivyAF5+ImDNy/yCaIEt2R9T8iI6+vKPPwP2IvCPGjcsA/sph5+STj7r9X8gmA0CrwP7WXFa63OQ9A4gL3rJRH37/azeP4Zjvuv5xgNEEaxsY/BjICYAGo4z8gSNscVlf1P1ZnfhuMBtQ/vmraQujb8z8q/gBJMyfzP55pj7f1cda/6AiP6LtT9z+SlscRqvn0P+SIOAHXQfA/5r3czD6x379DbShzVLr5P4hho2V39wdAlsswcrN7BUA=\",\"dtype\":\"float64\",\"shape\":[40]}},\"selected\":{\"id\":\"67551\",\"type\":\"Selection\"},\"selection_policy\":{\"id\":\"67552\",\"type\":\"UnionRenderers\"}},\"id\":\"66548\",\"type\":\"ColumnDataSource\"},{\"attributes\":{},\"id\":\"66572\",\"type\":\"SaveTool\"},{\"attributes\":{},\"id\":\"67547\",\"type\":\"BasicTickFormatter\"},{\"attributes\":{},\"id\":\"66573\",\"type\":\"ResetTool\"},{\"attributes\":{},\"id\":\"66574\",\"type\":\"HelpTool\"},{\"attributes\":{\"fill_alpha\":{\"value\":0.5},\"fill_color\":{\"value\":\"#DAA520\"},\"line_alpha\":{\"value\":0.5},\"line_color\":{\"value\":\"#DAA520\"},\"size\":{\"units\":\"screen\",\"value\":12},\"x\":{\"field\":\"param_value\"},\"y\":{\"field\":\"param_name\"}},\"id\":\"66585\",\"type\":\"Circle\"},{\"attributes\":{\"active_drag\":\"auto\",\"active_inspect\":\"auto\",\"active_multi\":null,\"active_scroll\":\"auto\",\"active_tap\":\"auto\",\"tools\":[{\"id\":\"66569\",\"type\":\"PanTool\"},{\"id\":\"66570\",\"type\":\"WheelZoomTool\"},{\"id\":\"66571\",\"type\":\"BoxZoomTool\"},{\"id\":\"66572\",\"type\":\"SaveTool\"},{\"id\":\"66573\",\"type\":\"ResetTool\"},{\"id\":\"66574\",\"type\":\"HelpTool\"},{\"id\":\"66590\",\"type\":\"HoverTool\"},{\"id\":\"66593\",\"type\":\"TapTool\"}]},\"id\":\"66575\",\"type\":\"Toolbar\"},{\"attributes\":{\"dimension\":1,\"plot\":{\"id\":\"66550\",\"subtype\":\"Figure\",\"type\":\"Plot\"},\"ticker\":{\"id\":\"66566\",\"type\":\"CategoricalTicker\"}},\"id\":\"66568\",\"type\":\"Grid\"},{\"attributes\":{},\"id\":\"66566\",\"type\":\"CategoricalTicker\"},{\"attributes\":{\"bottom_units\":\"screen\",\"fill_alpha\":{\"value\":0.5},\"fill_color\":{\"value\":\"lightgrey\"},\"left_units\":\"screen\",\"level\":\"overlay\",\"line_alpha\":{\"value\":1.0},\"line_color\":{\"value\":\"black\"},\"line_dash\":[4,4],\"line_width\":{\"value\":2},\"plot\":null,\"render_mode\":\"css\",\"right_units\":\"screen\",\"top_units\":\"screen\"},\"id\":\"66577\",\"type\":\"BoxAnnotation\"},{\"attributes\":{\"formatter\":{\"id\":\"67549\",\"type\":\"CategoricalTickFormatter\"},\"plot\":{\"id\":\"66550\",\"subtype\":\"Figure\",\"type\":\"Plot\"},\"ticker\":{\"id\":\"66566\",\"type\":\"CategoricalTicker\"}},\"id\":\"66565\",\"type\":\"CategoricalAxis\"},{\"attributes\":{\"data_source\":{\"id\":\"66548\",\"type\":\"ColumnDataSource\"},\"glyph\":{\"id\":\"66585\",\"type\":\"Circle\"},\"hover_glyph\":null,\"muted_glyph\":null,\"nonselection_glyph\":{\"id\":\"66586\",\"type\":\"Circle\"},\"selection_glyph\":{\"id\":\"66587\",\"type\":\"Circle\"},\"view\":{\"id\":\"66589\",\"type\":\"CDSView\"}},\"id\":\"66588\",\"type\":\"GlyphRenderer\"},{\"attributes\":{},\"id\":\"66561\",\"type\":\"BasicTicker\"},{\"attributes\":{\"source\":{\"id\":\"66548\",\"type\":\"ColumnDataSource\"}},\"id\":\"66589\",\"type\":\"CDSView\"},{\"attributes\":{\"callback\":null,\"renderers\":[{\"id\":\"66588\",\"type\":\"GlyphRenderer\"}],\"tooltips\":[[\"parameter value\",\"@param_value\"],[\"model\",\"@model\"]]},\"id\":\"66590\",\"type\":\"HoverTool\"},{\"attributes\":{\"callback\":null},\"id\":\"66552\",\"type\":\"DataRange1d\"},{\"attributes\":{\"args\":{\"source\":{\"id\":\"66548\",\"type\":\"ColumnDataSource\"}},\"code\":\"// adapted from https://stackoverflow.com/a/44996422\\n\\nvar chosen = source.selected.indices;\\nif (typeof(chosen) == \\\"number\\\"){\\n    var chosen = [chosen]\\n};\\n\\nvar chosen_models = [];\\n\\nfor (var i = 0; i < chosen.length; ++ i){\\n    chosen_models.push(source.data['model'][chosen[i]])\\n};\\n\\nvar chosen_models_indices = [];\\n\\nfor (var i = 0; i < source.data['index'].length; ++ i){\\n    if (chosen_models.includes(source.data['model'][i])){\\n        chosen_models_indices.push(i)\\n    };\\n};\\n\\nsource.selected.indices = chosen_models_indices;\\nsource.change.emit();\"},\"id\":\"66592\",\"type\":\"CustomJS\"},{\"attributes\":{\"plot\":{\"id\":\"66550\",\"subtype\":\"Figure\",\"type\":\"Plot\"},\"ticker\":{\"id\":\"66561\",\"type\":\"BasicTicker\"}},\"id\":\"66564\",\"type\":\"Grid\"},{\"attributes\":{\"callback\":{\"id\":\"66592\",\"type\":\"CustomJS\"}},\"id\":\"66593\",\"type\":\"TapTool\"},{\"attributes\":{\"formatter\":{\"id\":\"67547\",\"type\":\"BasicTickFormatter\"},\"plot\":{\"id\":\"66550\",\"subtype\":\"Figure\",\"type\":\"Plot\"},\"ticker\":{\"id\":\"66561\",\"type\":\"BasicTicker\"}},\"id\":\"66560\",\"type\":\"LinearAxis\"},{\"attributes\":{\"callback\":null,\"factors\":[\"age\",\"grade\",\"iq_score\",\"female\"]},\"id\":\"66554\",\"type\":\"FactorRange\"},{\"attributes\":{},\"id\":\"67549\",\"type\":\"CategoricalTickFormatter\"},{\"attributes\":{\"plot\":null,\"text\":\"Comparison Plot\"},\"id\":\"66549\",\"type\":\"Title\"},{\"attributes\":{},\"id\":\"67551\",\"type\":\"Selection\"},{\"attributes\":{},\"id\":\"66556\",\"type\":\"LinearScale\"},{\"attributes\":{},\"id\":\"67552\",\"type\":\"UnionRenderers\"},{\"attributes\":{},\"id\":\"66558\",\"type\":\"CategoricalScale\"}],\"root_ids\":[\"66550\"]},\"title\":\"Bokeh Application\",\"version\":\"1.0.4\"}};\n",
       "  var render_items = [{\"docid\":\"b109d8c5-c8f7-4c48-99a0-f0cc2201d758\",\"roots\":{\"66550\":\"6994c095-8020-45ac-9b3e-3a819bcf0a01\"}}];\n",
       "  root.Bokeh.embed.embed_items_notebook(docs_json, render_items);\n",
       "\n",
       "  }\n",
       "  if (root.Bokeh !== undefined) {\n",
       "    embed_document(root);\n",
       "  } else {\n",
       "    var attempts = 0;\n",
       "    var timer = setInterval(function(root) {\n",
       "      if (root.Bokeh !== undefined) {\n",
       "        embed_document(root);\n",
       "        clearInterval(timer);\n",
       "      }\n",
       "      attempts++;\n",
       "      if (attempts > 100) {\n",
       "        console.log(\"Bokeh: ERROR: Unable to run BokehJS code because BokehJS library is missing\");\n",
       "        clearInterval(timer);\n",
       "      }\n",
       "    }, 10, root)\n",
       "  }\n",
       "})(window);"
      ],
      "application/vnd.bokehjs_exec.v0+json": ""
     },
     "metadata": {
      "application/vnd.bokehjs_exec.v0+json": {
       "id": "66550"
      }
     },
     "output_type": "display_data"
    }
   ],
   "source": [
    "source = styled_comparison_plot(df1)"
   ]
  },
  {
   "cell_type": "code",
   "execution_count": null,
   "metadata": {},
   "outputs": [],
   "source": []
  },
  {
   "cell_type": "code",
   "execution_count": null,
   "metadata": {},
   "outputs": [],
   "source": []
  },
  {
   "cell_type": "markdown",
   "metadata": {},
   "source": [
    "# Add groups of parameters to be plotted into separate plots"
   ]
  },
  {
   "cell_type": "markdown",
   "metadata": {},
   "source": [
    "## Create dataset with parameter groups"
   ]
  },
  {
   "cell_type": "code",
   "execution_count": 264,
   "metadata": {},
   "outputs": [
    {
     "data": {
      "text/html": [
       "<div>\n",
       "<style scoped>\n",
       "    .dataframe tbody tr th:only-of-type {\n",
       "        vertical-align: middle;\n",
       "    }\n",
       "\n",
       "    .dataframe tbody tr th {\n",
       "        vertical-align: top;\n",
       "    }\n",
       "\n",
       "    .dataframe thead th {\n",
       "        text-align: right;\n",
       "    }\n",
       "</style>\n",
       "<table border=\"1\" class=\"dataframe\">\n",
       "  <thead>\n",
       "    <tr style=\"text-align: right;\">\n",
       "      <th></th>\n",
       "      <th>model</th>\n",
       "      <th>group</th>\n",
       "      <th>param_name</th>\n",
       "      <th>conf_int_lower</th>\n",
       "      <th>param_value</th>\n",
       "      <th>conf_int_upper</th>\n",
       "    </tr>\n",
       "  </thead>\n",
       "  <tbody>\n",
       "    <tr>\n",
       "      <th>0</th>\n",
       "      <td>model_0</td>\n",
       "      <td>intercept</td>\n",
       "      <td>0</td>\n",
       "      <td>1.645099</td>\n",
       "      <td>2.748241</td>\n",
       "      <td>3.239338</td>\n",
       "    </tr>\n",
       "    <tr>\n",
       "      <th>1</th>\n",
       "      <td>model_0</td>\n",
       "      <td>intercept</td>\n",
       "      <td>1</td>\n",
       "      <td>-0.314079</td>\n",
       "      <td>1.313745</td>\n",
       "      <td>2.300364</td>\n",
       "    </tr>\n",
       "    <tr>\n",
       "      <th>2</th>\n",
       "      <td>model_0</td>\n",
       "      <td>intercept</td>\n",
       "      <td>2</td>\n",
       "      <td>-1.431843</td>\n",
       "      <td>1.501342</td>\n",
       "      <td>3.382452</td>\n",
       "    </tr>\n",
       "    <tr>\n",
       "      <th>3</th>\n",
       "      <td>model_0</td>\n",
       "      <td>intercept</td>\n",
       "      <td>3</td>\n",
       "      <td>0.666232</td>\n",
       "      <td>2.975476</td>\n",
       "      <td>4.760225</td>\n",
       "    </tr>\n",
       "    <tr>\n",
       "      <th>4</th>\n",
       "      <td>model_0</td>\n",
       "      <td>intercept</td>\n",
       "      <td>4</td>\n",
       "      <td>1.720036</td>\n",
       "      <td>2.126216</td>\n",
       "      <td>2.624553</td>\n",
       "    </tr>\n",
       "    <tr>\n",
       "      <th>5</th>\n",
       "      <td>model_0</td>\n",
       "      <td>$\\beta$</td>\n",
       "      <td>age</td>\n",
       "      <td>-0.284375</td>\n",
       "      <td>0.661715</td>\n",
       "      <td>0.991299</td>\n",
       "    </tr>\n",
       "    <tr>\n",
       "      <th>6</th>\n",
       "      <td>model_0</td>\n",
       "      <td>$\\beta$</td>\n",
       "      <td>grade</td>\n",
       "      <td>2.365945</td>\n",
       "      <td>2.849575</td>\n",
       "      <td>2.848893</td>\n",
       "    </tr>\n",
       "    <tr>\n",
       "      <th>7</th>\n",
       "      <td>model_0</td>\n",
       "      <td>$\\beta$</td>\n",
       "      <td>iq_score</td>\n",
       "      <td>4.294427</td>\n",
       "      <td>4.701923</td>\n",
       "      <td>6.987490</td>\n",
       "    </tr>\n",
       "    <tr>\n",
       "      <th>8</th>\n",
       "      <td>model_0</td>\n",
       "      <td>$\\beta$</td>\n",
       "      <td>gender</td>\n",
       "      <td>4.172048</td>\n",
       "      <td>5.432398</td>\n",
       "      <td>5.839550</td>\n",
       "    </tr>\n",
       "  </tbody>\n",
       "</table>\n",
       "</div>"
      ],
      "text/plain": [
       "     model      group param_name  conf_int_lower  param_value  conf_int_upper\n",
       "0  model_0  intercept          0        1.645099     2.748241        3.239338\n",
       "1  model_0  intercept          1       -0.314079     1.313745        2.300364\n",
       "2  model_0  intercept          2       -1.431843     1.501342        3.382452\n",
       "3  model_0  intercept          3        0.666232     2.975476        4.760225\n",
       "4  model_0  intercept          4        1.720036     2.126216        2.624553\n",
       "5  model_0    $\\beta$        age       -0.284375     0.661715        0.991299\n",
       "6  model_0    $\\beta$      grade        2.365945     2.849575        2.848893\n",
       "7  model_0    $\\beta$   iq_score        4.294427     4.701923        6.987490\n",
       "8  model_0    $\\beta$     gender        4.172048     5.432398        5.839550"
      ]
     },
     "execution_count": 264,
     "metadata": {},
     "output_type": "execute_result"
    }
   ],
   "source": [
    "df2 = pd.DataFrame()\n",
    "\n",
    "nr_models = 10\n",
    "nr_intercepts = 5\n",
    "\n",
    "intercept_tuples = [str(i) for i in range(nr_intercepts)]\n",
    "short_controls = ['age', 'grade', 'iq_score', 'gender']\n",
    "long_controls = short_controls + [\n",
    "    'parent_educ', 'parent_inc', 'parent_occup', 'dist_to_school', \n",
    "    'single_parent', 'single_parent_x_parent_inc']\n",
    "\n",
    "cols = ['model', 'param_value', 'param_name', 'conf_int_lower', 'conf_int_upper', 'group']\n",
    "\n",
    "for i in range(nr_models):\n",
    "    if i < 0.7 * nr_models:\n",
    "        ctrl_names = short_controls\n",
    "        factor = 0.5\n",
    "    else:\n",
    "        ctrl_names = long_controls\n",
    "        factor = 0.7\n",
    "    nr_params = nr_intercepts + len(ctrl_names)\n",
    "    \n",
    "    df = pd.DataFrame(columns=cols)\n",
    "    df['param_name'] = [str(i) for i in range(nr_intercepts)] + ctrl_names\n",
    "    df['param_value'] = factor * np.arange(nr_params) + np.random.normal(0, 1, nr_params)\n",
    "    df['conf_int_lower'] = df['param_value'] - np.random.normal(1, factor, nr_params)\n",
    "    df['conf_int_upper'] = df['param_value'] + np.random.normal(1, factor, nr_params)\n",
    "    df['group'] = ['intercept'] * nr_intercepts + [r'$\\beta$'] * len(ctrl_names)\n",
    "    df['model'] = 'model_' + str(i)\n",
    "    \n",
    "    df2 = pd.concat([df2, df], axis=0, sort=False)\n",
    "    \n",
    "df2.reset_index(inplace=True, drop=True)\n",
    "df2 = df2[['model', 'group', 'param_name', 'conf_int_lower', 'param_value', 'conf_int_upper']]\n",
    "df2[:9]"
   ]
  },
  {
   "cell_type": "code",
   "execution_count": null,
   "metadata": {},
   "outputs": [],
   "source": []
  },
  {
   "cell_type": "code",
   "execution_count": 320,
   "metadata": {},
   "outputs": [],
   "source": [
    "from bokeh.layouts import gridplot\n",
    "\n",
    "def grouped_comparison_plot(df, js_code=js_code):\n",
    "    # safety measure to make sure the index \n",
    "    # gives the position in the arrays \n",
    "    # that the source data dictionary points to\n",
    "    safe_df = df.reset_index(drop=True)\n",
    "    \n",
    "    source = ColumnDataSource(safe_df)\n",
    "    \n",
    "    plots = []\n",
    "    for group_name in df['group'].unique():\n",
    "    \n",
    "        # create the \"canvas\"\n",
    "        group_plot = figure(\n",
    "            title=\"Comparison Plot of {} Parameters\".format(group_name.title()),\n",
    "            y_range=df[df['group'] == group_name][\"param_name\"].unique(),\n",
    "            plot_width=600,\n",
    "            plot_height=300, \n",
    "        )\n",
    "\n",
    "        # add circles representing the parameter value\n",
    "        circle_glyph = group_plot.circle(\n",
    "            source=source,\n",
    "            x=\"param_value\",\n",
    "            y=\"param_name\",\n",
    "            size=12,\n",
    "            color='#035096', \n",
    "            alpha=0.5,\n",
    "            nonselection_color=\"#035096\",\n",
    "            selection_color=\"firebrick\",\n",
    "            nonselection_alpha=0.2,\n",
    "            selection_alpha=0.7,\n",
    "        )\n",
    "    \n",
    "        # HoverTool\n",
    "        tooltips = [\n",
    "            (\"parameter value\", \"@param_value\"),\n",
    "            (\"model\", \"@model\")]\n",
    "        hover = HoverTool(renderers=[circle_glyph], tooltips=tooltips)\n",
    "        group_plot.tools.append(hover)\n",
    "\n",
    "        # TapTool\n",
    "        js_kwargs = {\"source\": source}\n",
    "        js_callback = CustomJS(args=js_kwargs, code=js_code)\n",
    "        tap = TapTool(callback=js_callback)\n",
    "        group_plot.tools.append(tap)\n",
    "        \n",
    "        plots.append(group_plot)\n",
    "\n",
    "    grid = gridplot(plots, toolbar_location=\"right\", ncols=1)\n",
    "    show(grid)"
   ]
  },
  {
   "cell_type": "code",
   "execution_count": 321,
   "metadata": {},
   "outputs": [
    {
     "data": {
      "text/html": [
       "\n",
       "\n",
       "\n",
       "\n",
       "\n",
       "\n",
       "  <div class=\"bk-root\" id=\"236819da-96d6-4a25-b165-b9292348a5c0\" data-root-id=\"68894\"></div>\n"
      ]
     },
     "metadata": {},
     "output_type": "display_data"
    },
    {
     "data": {
      "application/javascript": [
       "(function(root) {\n",
       "  function embed_document(root) {\n",
       "    \n",
       "  var docs_json = {\"4c0224ed-8397-4562-bb00-8990eb759623\":{\"roots\":{\"references\":[{\"attributes\":{\"children\":[{\"id\":\"68891\",\"type\":\"Column\"},{\"id\":\"68893\",\"type\":\"ToolbarBox\"}]},\"id\":\"68894\",\"type\":\"Row\"},{\"attributes\":{\"plot\":null,\"text\":\"Comparison Plot of Intercept Parameters\"},\"id\":\"68779\",\"type\":\"Title\"},{\"attributes\":{\"children\":[{\"id\":\"68880\",\"type\":\"Row\"},{\"id\":\"68890\",\"type\":\"Row\"}]},\"id\":\"68891\",\"type\":\"Column\"},{\"attributes\":{\"callback\":{\"id\":\"68868\",\"type\":\"CustomJS\"}},\"id\":\"68869\",\"type\":\"TapTool\"},{\"attributes\":{\"overlay\":{\"id\":\"68853\",\"type\":\"BoxAnnotation\"}},\"id\":\"68847\",\"type\":\"BoxZoomTool\"},{\"attributes\":{},\"id\":\"68786\",\"type\":\"LinearScale\"},{\"attributes\":{\"formatter\":{\"id\":\"68882\",\"type\":\"BasicTickFormatter\"},\"plot\":{\"id\":\"68826\",\"subtype\":\"Figure\",\"type\":\"Plot\"},\"ticker\":{\"id\":\"68837\",\"type\":\"BasicTicker\"}},\"id\":\"68836\",\"type\":\"LinearAxis\"},{\"attributes\":{\"plot\":{\"id\":\"68826\",\"subtype\":\"Figure\",\"type\":\"Plot\"},\"ticker\":{\"id\":\"68837\",\"type\":\"BasicTicker\"}},\"id\":\"68840\",\"type\":\"Grid\"},{\"attributes\":{},\"id\":\"68788\",\"type\":\"CategoricalScale\"},{\"attributes\":{},\"id\":\"68837\",\"type\":\"BasicTicker\"},{\"attributes\":{},\"id\":\"68848\",\"type\":\"SaveTool\"},{\"attributes\":{\"callback\":null,\"renderers\":[{\"id\":\"68864\",\"type\":\"GlyphRenderer\"}],\"tooltips\":[[\"parameter value\",\"@param_value\"],[\"model\",\"@model\"]]},\"id\":\"68866\",\"type\":\"HoverTool\"},{\"attributes\":{\"formatter\":{\"id\":\"68872\",\"type\":\"BasicTickFormatter\"},\"plot\":{\"id\":\"68780\",\"subtype\":\"Figure\",\"type\":\"Plot\"},\"ticker\":{\"id\":\"68791\",\"type\":\"BasicTicker\"}},\"id\":\"68790\",\"type\":\"LinearAxis\"},{\"attributes\":{\"fill_alpha\":{\"value\":0.2},\"fill_color\":{\"value\":\"#035096\"},\"line_alpha\":{\"value\":0.2},\"line_color\":{\"value\":\"#035096\"},\"size\":{\"units\":\"screen\",\"value\":12},\"x\":{\"field\":\"param_value\"},\"y\":{\"field\":\"param_name\"}},\"id\":\"68862\",\"type\":\"Circle\"},{\"attributes\":{},\"id\":\"68849\",\"type\":\"ResetTool\"},{\"attributes\":{\"callback\":null,\"renderers\":[{\"id\":\"68818\",\"type\":\"GlyphRenderer\"}],\"tooltips\":[[\"parameter value\",\"@param_value\"],[\"model\",\"@model\"]]},\"id\":\"68820\",\"type\":\"HoverTool\"},{\"attributes\":{\"args\":{\"source\":{\"id\":\"68778\",\"type\":\"ColumnDataSource\"}},\"code\":\"// adapted from https://stackoverflow.com/a/44996422\\n\\nvar chosen = source.selected.indices;\\nif (typeof(chosen) == \\\"number\\\"){\\n    var chosen = [chosen]\\n};\\n\\nvar chosen_models = [];\\n\\nfor (var i = 0; i < chosen.length; ++ i){\\n    chosen_models.push(source.data['model'][chosen[i]])\\n};\\n\\nvar chosen_models_indices = [];\\n\\nfor (var i = 0; i < source.data['index'].length; ++ i){\\n    if (chosen_models.includes(source.data['model'][i])){\\n        chosen_models_indices.push(i)\\n    };\\n};\\n\\nsource.selected.indices = chosen_models_indices;\\nsource.change.emit();\"},\"id\":\"68868\",\"type\":\"CustomJS\"},{\"attributes\":{},\"id\":\"68845\",\"type\":\"PanTool\"},{\"attributes\":{},\"id\":\"68791\",\"type\":\"BasicTicker\"},{\"attributes\":{\"children\":[{\"id\":\"68780\",\"subtype\":\"Figure\",\"type\":\"Plot\"}]},\"id\":\"68880\",\"type\":\"Row\"},{\"attributes\":{\"fill_alpha\":{\"value\":0.5},\"fill_color\":{\"value\":\"#035096\"},\"line_alpha\":{\"value\":0.5},\"line_color\":{\"value\":\"#035096\"},\"size\":{\"units\":\"screen\",\"value\":12},\"x\":{\"field\":\"param_value\"},\"y\":{\"field\":\"param_name\"}},\"id\":\"68861\",\"type\":\"Circle\"},{\"attributes\":{},\"id\":\"68872\",\"type\":\"BasicTickFormatter\"},{\"attributes\":{\"plot\":{\"id\":\"68780\",\"subtype\":\"Figure\",\"type\":\"Plot\"},\"ticker\":{\"id\":\"68791\",\"type\":\"BasicTicker\"}},\"id\":\"68794\",\"type\":\"Grid\"},{\"attributes\":{\"source\":{\"id\":\"68778\",\"type\":\"ColumnDataSource\"}},\"id\":\"68819\",\"type\":\"CDSView\"},{\"attributes\":{\"below\":[{\"id\":\"68790\",\"type\":\"LinearAxis\"}],\"left\":[{\"id\":\"68795\",\"type\":\"CategoricalAxis\"}],\"plot_height\":300,\"renderers\":[{\"id\":\"68790\",\"type\":\"LinearAxis\"},{\"id\":\"68794\",\"type\":\"Grid\"},{\"id\":\"68795\",\"type\":\"CategoricalAxis\"},{\"id\":\"68798\",\"type\":\"Grid\"},{\"id\":\"68807\",\"type\":\"BoxAnnotation\"},{\"id\":\"68818\",\"type\":\"GlyphRenderer\"}],\"title\":{\"id\":\"68779\",\"type\":\"Title\"},\"toolbar\":{\"id\":\"68805\",\"type\":\"Toolbar\"},\"toolbar_location\":null,\"x_range\":{\"id\":\"68782\",\"type\":\"DataRange1d\"},\"x_scale\":{\"id\":\"68786\",\"type\":\"LinearScale\"},\"y_range\":{\"id\":\"68784\",\"type\":\"FactorRange\"},\"y_scale\":{\"id\":\"68788\",\"type\":\"CategoricalScale\"}},\"id\":\"68780\",\"subtype\":\"Figure\",\"type\":\"Plot\"},{\"attributes\":{},\"id\":\"68874\",\"type\":\"CategoricalTickFormatter\"},{\"attributes\":{\"formatter\":{\"id\":\"68874\",\"type\":\"CategoricalTickFormatter\"},\"plot\":{\"id\":\"68780\",\"subtype\":\"Figure\",\"type\":\"Plot\"},\"ticker\":{\"id\":\"68796\",\"type\":\"CategoricalTicker\"}},\"id\":\"68795\",\"type\":\"CategoricalAxis\"},{\"attributes\":{},\"id\":\"68876\",\"type\":\"Selection\"},{\"attributes\":{},\"id\":\"68832\",\"type\":\"LinearScale\"},{\"attributes\":{},\"id\":\"68800\",\"type\":\"WheelZoomTool\"},{\"attributes\":{\"data_source\":{\"id\":\"68778\",\"type\":\"ColumnDataSource\"},\"glyph\":{\"id\":\"68815\",\"type\":\"Circle\"},\"hover_glyph\":null,\"muted_glyph\":null,\"nonselection_glyph\":{\"id\":\"68816\",\"type\":\"Circle\"},\"selection_glyph\":{\"id\":\"68817\",\"type\":\"Circle\"},\"view\":{\"id\":\"68819\",\"type\":\"CDSView\"}},\"id\":\"68818\",\"type\":\"GlyphRenderer\"},{\"attributes\":{},\"id\":\"68877\",\"type\":\"UnionRenderers\"},{\"attributes\":{\"bottom_units\":\"screen\",\"fill_alpha\":{\"value\":0.5},\"fill_color\":{\"value\":\"lightgrey\"},\"left_units\":\"screen\",\"level\":\"overlay\",\"line_alpha\":{\"value\":1.0},\"line_color\":{\"value\":\"black\"},\"line_dash\":[4,4],\"line_width\":{\"value\":2},\"plot\":null,\"render_mode\":\"css\",\"right_units\":\"screen\",\"top_units\":\"screen\"},\"id\":\"68853\",\"type\":\"BoxAnnotation\"},{\"attributes\":{\"args\":{\"source\":{\"id\":\"68778\",\"type\":\"ColumnDataSource\"}},\"code\":\"// adapted from https://stackoverflow.com/a/44996422\\n\\nvar chosen = source.selected.indices;\\nif (typeof(chosen) == \\\"number\\\"){\\n    var chosen = [chosen]\\n};\\n\\nvar chosen_models = [];\\n\\nfor (var i = 0; i < chosen.length; ++ i){\\n    chosen_models.push(source.data['model'][chosen[i]])\\n};\\n\\nvar chosen_models_indices = [];\\n\\nfor (var i = 0; i < source.data['index'].length; ++ i){\\n    if (chosen_models.includes(source.data['model'][i])){\\n        chosen_models_indices.push(i)\\n    };\\n};\\n\\nsource.selected.indices = chosen_models_indices;\\nsource.change.emit();\"},\"id\":\"68822\",\"type\":\"CustomJS\"},{\"attributes\":{\"callback\":null,\"data\":{\"conf_int_lower\":{\"__ndarray__\":\"tn3OIlNS+j/koggs4BnUv1HPeOLT6Pa/+D4NNsZR5T8BB9R+RIX7P45YN600M9K/6xRqunTtAkBOAqlZfi0RQLeMJXEtsBBAZDSbIoIf+7+Evm0zGiTcPwRgqnbeZ+o/W7KM8ImsBUBjjLVK2Wv8Pw39QItGKQVAson1sUH6AkA2WMt9eugOQEqqAfJ+rQlAKIXyybeXBsAajDXpGAjzv57FAOV/i9S/QAABp+Uo5T++2DEAJwD3Pxi7oRpm1eg/I7HLhbKoCUBksLuNQt8SQPBnFIN8tw5AL1Bghg8fAsCZP+DADp/4P4BXrWQ6ga0/VFMepOhR8L+ch26E+Wn+P+o4lke3CwFATYJLpKQ4AEDQZyHPWDsDQHt+fWNGvQVAYyOMF3jv9b+U+NJGFoDhv2DuX9WFAAZAeODIsJac1z9wuxsa3SbKv7D337eCH70/ZGBR/5aL/z+OywJVaIgHQCUkRaWqEhJAwV35hmYV4j8WVbsC9d3mP5ars0cKROW/0wFY14g09z+E6xsgQ27fv+7ht5kcD+S/kHodjEeyCkBAqGOpSNkJQKLJbJsMs/k/st9kP0NCA8Dg00ukYN/qv0dSxwJi/fU/vGt9YNxi5D8QrUE8ImrfPwLS5Y7Skvo/JANX0PorEUAMu9R7+GcEQLMaUr/fTwtAYDdZWQcVxj+MVFcj3Tnxv2Ty2txdY9a/wGr1osJR0b9AxR3eY52cvxzvPjtaXwFAd8y5jEkuDUDiO4zVJ0MMQIfewYVqkxRAhHOi7hNYEUAtpui2o9AVQPBdiH/duRhAPJIZdNcqIECcu42gPCEgQFbx2OCE/xdATVdZ3Qus+r93w0kj18v1vwT/QSqoTwJAAlXkMXps5D/Y3p3BopD1P5pyNnMHXwdAKDBZFia+A0AvD8VQ00APQPOAeEYhkANAAjElwU4tE0CC3reRVVsUQCBIhgMvIhxAHfQAAsTCIEAjoi1o5wUcQGCDKkYAzBxAoD9Yhrje8b/gzYkcjEDkvxBAu/vhd84/qAv+AzU1AEBoSBrd2rLmv4CugLBogPU/pYp0Z0mSEkDL099URe8DQJIQJ9Cw+BBAtnKQF1mqH0BmIBpo6yIVQAzIKIOH4RtAxmA6knvUFUB8o64fG4IhQOCTpfhNiSNA\",\"dtype\":\"float64\",\"shape\":[108]},\"conf_int_upper\":{\"__ndarray__\":\"wp3v6ynqCUB7TYhSJWcCQLiDJvZCDwtASXp1dXgKE0AyEza0Ff8EQNgUrgO4uO8/AW+9LYjKBkCSqO+WMPMbQMqVW++yWxdAQDvZvfUv4z/MgfQ/Iv4DQGE3a+zldwtA/shIcq0hDUCEwwsuopcAQIrgGpbNxhJAD/PayYSwEUCsmODvp30TQMzswHsZGQ9AUgzZaAEC5L9gphwKSX65PyFE9p2VTABABG73wtndC0AK4tzHFWAKQDzNogRFKg5Aj1NPpnf4FEBe0o6tBtocQLnjREGMfhZAIFwjJChv7D+IqIGI14gLQO7hhP3ADvs/qH3mz0A12z8uJCbvwrIMQIGqKqPj2AdAWoK9GI4MDkCYhcOcxIgRQJ8G5onf/hVAOlpL3NPF4j+w9I1aRbHzPzKVWKSwSRBANhtHGqkzAUCIyJTozREAQFbUGu9HqgpA1RVSpjfXD0CM59+mTfoUQDmnJpaO5hdA+tSvZmPDBkCe+I+a6P7lP3srdTsJdPM/eECbDht7EEBpcUZm4ufvP5Jdv1TJpQtAA9F8dXRfEUCXbULTMSEUQHDSCJEu5RBAuBay7O/c7L8I3FzI6t3vPyrglG81MAdAZLLbEuKRA0DshAxadoQBQLphwIE51wlAwaepUgAqGECSFm9VwZcTQAVEcuo0BhNA9IHaci3CyD9was14ctLxP5nduqwzDP8/dfyvFtfiA0BtvqJ1cjYIQD4cbMsviA5A2jvHWoUKFkA+abYYpJQYQOKYVtliVCJAiqAd64uHGUBv4kFbrMsbQJRX/4sPNiJAZn23iNjwJkB6cpvgwXQlQOvGN0ZMMiRA3z4yleaR/T99E+cEtoHzP95zvr1PlwtAfkmq6udqCkA9A8Uu5qgLQI9q/wZ+ChVATMEc4G/GCkCEieibk00UQIbcTgGLnhZAhJeAdA9GGkAmJKQuHDQgQMwvQB8NJCFA8CevaqCYIUC+LF6rfH0gQCxBiUReDCJAnO/MjZ3a1b+Ab+7wlETTv+7KXUKM6Po/KZkPHwItC0CVFa/r2CoFQFqni3he/ARAlD0ta+hyFkCnPKUitFcQQB2VLDa64RdA9OFjDQaqHECYxHVfKZkZQJ8/ZtUi+B9AIT96JQ9hHUD8S3MRiHopQIwQQ1915CRA\",\"dtype\":\"float64\",\"shape\":[108]},\"group\":[\"intercept\",\"intercept\",\"intercept\",\"intercept\",\"intercept\",\"$\\\\beta$\",\"$\\\\beta$\",\"$\\\\beta$\",\"$\\\\beta$\",\"intercept\",\"intercept\",\"intercept\",\"intercept\",\"intercept\",\"$\\\\beta$\",\"$\\\\beta$\",\"$\\\\beta$\",\"$\\\\beta$\",\"intercept\",\"intercept\",\"intercept\",\"intercept\",\"intercept\",\"$\\\\beta$\",\"$\\\\beta$\",\"$\\\\beta$\",\"$\\\\beta$\",\"intercept\",\"intercept\",\"intercept\",\"intercept\",\"intercept\",\"$\\\\beta$\",\"$\\\\beta$\",\"$\\\\beta$\",\"$\\\\beta$\",\"intercept\",\"intercept\",\"intercept\",\"intercept\",\"intercept\",\"$\\\\beta$\",\"$\\\\beta$\",\"$\\\\beta$\",\"$\\\\beta$\",\"intercept\",\"intercept\",\"intercept\",\"intercept\",\"intercept\",\"$\\\\beta$\",\"$\\\\beta$\",\"$\\\\beta$\",\"$\\\\beta$\",\"intercept\",\"intercept\",\"intercept\",\"intercept\",\"intercept\",\"$\\\\beta$\",\"$\\\\beta$\",\"$\\\\beta$\",\"$\\\\beta$\",\"intercept\",\"intercept\",\"intercept\",\"intercept\",\"intercept\",\"$\\\\beta$\",\"$\\\\beta$\",\"$\\\\beta$\",\"$\\\\beta$\",\"$\\\\beta$\",\"$\\\\beta$\",\"$\\\\beta$\",\"$\\\\beta$\",\"$\\\\beta$\",\"$\\\\beta$\",\"intercept\",\"intercept\",\"intercept\",\"intercept\",\"intercept\",\"$\\\\beta$\",\"$\\\\beta$\",\"$\\\\beta$\",\"$\\\\beta$\",\"$\\\\beta$\",\"$\\\\beta$\",\"$\\\\beta$\",\"$\\\\beta$\",\"$\\\\beta$\",\"$\\\\beta$\",\"intercept\",\"intercept\",\"intercept\",\"intercept\",\"intercept\",\"$\\\\beta$\",\"$\\\\beta$\",\"$\\\\beta$\",\"$\\\\beta$\",\"$\\\\beta$\",\"$\\\\beta$\",\"$\\\\beta$\",\"$\\\\beta$\",\"$\\\\beta$\",\"$\\\\beta$\"],\"index\":[0,1,2,3,4,5,6,7,8,9,10,11,12,13,14,15,16,17,18,19,20,21,22,23,24,25,26,27,28,29,30,31,32,33,34,35,36,37,38,39,40,41,42,43,44,45,46,47,48,49,50,51,52,53,54,55,56,57,58,59,60,61,62,63,64,65,66,67,68,69,70,71,72,73,74,75,76,77,78,79,80,81,82,83,84,85,86,87,88,89,90,91,92,93,94,95,96,97,98,99,100,101,102,103,104,105,106,107],\"model\":[\"model_0\",\"model_0\",\"model_0\",\"model_0\",\"model_0\",\"model_0\",\"model_0\",\"model_0\",\"model_0\",\"model_1\",\"model_1\",\"model_1\",\"model_1\",\"model_1\",\"model_1\",\"model_1\",\"model_1\",\"model_1\",\"model_2\",\"model_2\",\"model_2\",\"model_2\",\"model_2\",\"model_2\",\"model_2\",\"model_2\",\"model_2\",\"model_3\",\"model_3\",\"model_3\",\"model_3\",\"model_3\",\"model_3\",\"model_3\",\"model_3\",\"model_3\",\"model_4\",\"model_4\",\"model_4\",\"model_4\",\"model_4\",\"model_4\",\"model_4\",\"model_4\",\"model_4\",\"model_5\",\"model_5\",\"model_5\",\"model_5\",\"model_5\",\"model_5\",\"model_5\",\"model_5\",\"model_5\",\"model_6\",\"model_6\",\"model_6\",\"model_6\",\"model_6\",\"model_6\",\"model_6\",\"model_6\",\"model_6\",\"model_7\",\"model_7\",\"model_7\",\"model_7\",\"model_7\",\"model_7\",\"model_7\",\"model_7\",\"model_7\",\"model_7\",\"model_7\",\"model_7\",\"model_7\",\"model_7\",\"model_7\",\"model_8\",\"model_8\",\"model_8\",\"model_8\",\"model_8\",\"model_8\",\"model_8\",\"model_8\",\"model_8\",\"model_8\",\"model_8\",\"model_8\",\"model_8\",\"model_8\",\"model_8\",\"model_9\",\"model_9\",\"model_9\",\"model_9\",\"model_9\",\"model_9\",\"model_9\",\"model_9\",\"model_9\",\"model_9\",\"model_9\",\"model_9\",\"model_9\",\"model_9\",\"model_9\"],\"param_name\":[\"0\",\"1\",\"2\",\"3\",\"4\",\"age\",\"grade\",\"iq_score\",\"gender\",\"0\",\"1\",\"2\",\"3\",\"4\",\"age\",\"grade\",\"iq_score\",\"gender\",\"0\",\"1\",\"2\",\"3\",\"4\",\"age\",\"grade\",\"iq_score\",\"gender\",\"0\",\"1\",\"2\",\"3\",\"4\",\"age\",\"grade\",\"iq_score\",\"gender\",\"0\",\"1\",\"2\",\"3\",\"4\",\"age\",\"grade\",\"iq_score\",\"gender\",\"0\",\"1\",\"2\",\"3\",\"4\",\"age\",\"grade\",\"iq_score\",\"gender\",\"0\",\"1\",\"2\",\"3\",\"4\",\"age\",\"grade\",\"iq_score\",\"gender\",\"0\",\"1\",\"2\",\"3\",\"4\",\"age\",\"grade\",\"iq_score\",\"gender\",\"parent_educ\",\"parent_inc\",\"parent_occup\",\"dist_to_school\",\"single_parent\",\"single_parent_x_parent_inc\",\"0\",\"1\",\"2\",\"3\",\"4\",\"age\",\"grade\",\"iq_score\",\"gender\",\"parent_educ\",\"parent_inc\",\"parent_occup\",\"dist_to_school\",\"single_parent\",\"single_parent_x_parent_inc\",\"0\",\"1\",\"2\",\"3\",\"4\",\"age\",\"grade\",\"iq_score\",\"gender\",\"parent_educ\",\"parent_inc\",\"parent_occup\",\"dist_to_school\",\"single_parent\",\"single_parent_x_parent_inc\"],\"param_value\":{\"__ndarray__\":\"UsXKBGb8BUCSW/zaGQX1P6/lwDd/Bfg/+O4vU8bNB0AIHeJ0fQIBQFC5zmHFLOU/4ptI1O3LBkCVw4jSxM4SQPJ1HYTGuhVA56AIOILm078UTgi2CePyP5Ki0DB8SAZAasN1H1HaCEBJowaYZx8DQD6646AjhQxAAo+qPZtuD0BK3NsCI5UPQIaJNsdVogxAWyDY7SKD+r+qyX1nw6ntv8eHTOhgSe4/MCGAc6vE8z/Xw62Vw3n8P4QOFLL2M/8/YLQkz1nIDkBqBGNb0PMUQM5trLnOTRRATDuYd8TW4L9/AjCi0sMEQNAinQ93l+Y/iJtcFROSwz+uIelnOMwCQP74qaLKFAZAyIWUHDlQC0DMtu/57JcGQERVymjVUhBAXe29Gw+0379I3+zhIfHmPwDxqWrFlgpAk7X3T1C59j9unXGPP5byPxD2FlCVof0/9zifte6xA0D/KAF8G08QQLzdl0jHuhVAFOU453T49T/E8hbCp4baP7AVYDw9S7K/FsVFuZIvCUAA+7IE8D55P/ZZ6V1ROvU/tgiDCPe3DED0HHkPDogQQA7hytNgmQlAkWY4DCnZ+r/YA5eKYCHlvyixcC20agBAhk0Y/k5E+j8bmkknxRz6P1LWdkn7BAJA/q1WGqSuE0DSyPEf7ysOQKRsw/ELzAtAkNLP2V+avz/A0zaY1dDWv4AhXt2LtvE/jDqNclU78z8bMjpVN4f5P8caxAKQAwtAq2CN8t2pE0AFAjWZR2wSQOa1DSIKDhxAgG8rfw/xFUDnJRd435YbQFKZAi/0QBxApEsluoJ1I0BcZVecPIAiQFkWv3Pv0CJA6+hWk77y378mHQ3VWAnNPzB6oovE3QJASClRzDAO9j9cXfViCPD+P0yz7EsKKxBAMpF/06a0DEBZIBl58hwSQCdxe+OFsRBAIKm3DIGRFkBxqX34WlwaQA6zC9bzESBA63DgOdPsIkAMkTQC4nwgQG6RgqyasiJA/no2FAjz7L+62C2NhRjkvyDvzlwdYO4/rkq9Y6cCCEA4/ZAVp1DmP3qXz8e8MgJAJ5l1tK1sE0AJnHB+Jq0LQJtZiNxdsxRAOy9zTpsJH0BK7t9MgzMYQFq8rE9vWiBABrdQdcT7GkCITSsc1TQkQA6bspOM4SVA\",\"dtype\":\"float64\",\"shape\":[108]}},\"selected\":{\"id\":\"68876\",\"type\":\"Selection\"},\"selection_policy\":{\"id\":\"68877\",\"type\":\"UnionRenderers\"}},\"id\":\"68778\",\"type\":\"ColumnDataSource\"},{\"attributes\":{\"plot\":null,\"text\":\"Comparison Plot of $\\\\Beta$ Parameters\"},\"id\":\"68825\",\"type\":\"Title\"},{\"attributes\":{\"fill_alpha\":{\"value\":0.5},\"fill_color\":{\"value\":\"#035096\"},\"line_alpha\":{\"value\":0.5},\"line_color\":{\"value\":\"#035096\"},\"size\":{\"units\":\"screen\",\"value\":12},\"x\":{\"field\":\"param_value\"},\"y\":{\"field\":\"param_name\"}},\"id\":\"68815\",\"type\":\"Circle\"},{\"attributes\":{\"callback\":{\"id\":\"68822\",\"type\":\"CustomJS\"}},\"id\":\"68823\",\"type\":\"TapTool\"},{\"attributes\":{},\"id\":\"68850\",\"type\":\"HelpTool\"},{\"attributes\":{},\"id\":\"68882\",\"type\":\"BasicTickFormatter\"},{\"attributes\":{\"fill_alpha\":{\"value\":0.7},\"fill_color\":{\"value\":\"firebrick\"},\"line_alpha\":{\"value\":0.7},\"line_color\":{\"value\":\"firebrick\"},\"size\":{\"units\":\"screen\",\"value\":12},\"x\":{\"field\":\"param_value\"},\"y\":{\"field\":\"param_name\"}},\"id\":\"68817\",\"type\":\"Circle\"},{\"attributes\":{\"callback\":null,\"factors\":[\"0\",\"1\",\"2\",\"3\",\"4\"]},\"id\":\"68784\",\"type\":\"FactorRange\"},{\"attributes\":{},\"id\":\"68799\",\"type\":\"PanTool\"},{\"attributes\":{},\"id\":\"68884\",\"type\":\"CategoricalTickFormatter\"},{\"attributes\":{\"fill_alpha\":{\"value\":0.7},\"fill_color\":{\"value\":\"firebrick\"},\"line_alpha\":{\"value\":0.7},\"line_color\":{\"value\":\"firebrick\"},\"size\":{\"units\":\"screen\",\"value\":12},\"x\":{\"field\":\"param_value\"},\"y\":{\"field\":\"param_name\"}},\"id\":\"68863\",\"type\":\"Circle\"},{\"attributes\":{\"callback\":null},\"id\":\"68828\",\"type\":\"DataRange1d\"},{\"attributes\":{\"data_source\":{\"id\":\"68778\",\"type\":\"ColumnDataSource\"},\"glyph\":{\"id\":\"68861\",\"type\":\"Circle\"},\"hover_glyph\":null,\"muted_glyph\":null,\"nonselection_glyph\":{\"id\":\"68862\",\"type\":\"Circle\"},\"selection_glyph\":{\"id\":\"68863\",\"type\":\"Circle\"},\"view\":{\"id\":\"68865\",\"type\":\"CDSView\"}},\"id\":\"68864\",\"type\":\"GlyphRenderer\"},{\"attributes\":{\"fill_alpha\":{\"value\":0.2},\"fill_color\":{\"value\":\"#035096\"},\"line_alpha\":{\"value\":0.2},\"line_color\":{\"value\":\"#035096\"},\"size\":{\"units\":\"screen\",\"value\":12},\"x\":{\"field\":\"param_value\"},\"y\":{\"field\":\"param_name\"}},\"id\":\"68816\",\"type\":\"Circle\"},{\"attributes\":{\"callback\":null,\"factors\":[\"age\",\"grade\",\"iq_score\",\"gender\",\"parent_educ\",\"parent_inc\",\"parent_occup\",\"dist_to_school\",\"single_parent\",\"single_parent_x_parent_inc\"]},\"id\":\"68830\",\"type\":\"FactorRange\"},{\"attributes\":{\"tools\":[{\"id\":\"68799\",\"type\":\"PanTool\"},{\"id\":\"68800\",\"type\":\"WheelZoomTool\"},{\"id\":\"68801\",\"type\":\"BoxZoomTool\"},{\"id\":\"68802\",\"type\":\"SaveTool\"},{\"id\":\"68803\",\"type\":\"ResetTool\"},{\"id\":\"68804\",\"type\":\"HelpTool\"},{\"id\":\"68820\",\"type\":\"HoverTool\"},{\"id\":\"68823\",\"type\":\"TapTool\"},{\"id\":\"68845\",\"type\":\"PanTool\"},{\"id\":\"68846\",\"type\":\"WheelZoomTool\"},{\"id\":\"68847\",\"type\":\"BoxZoomTool\"},{\"id\":\"68848\",\"type\":\"SaveTool\"},{\"id\":\"68849\",\"type\":\"ResetTool\"},{\"id\":\"68850\",\"type\":\"HelpTool\"},{\"id\":\"68866\",\"type\":\"HoverTool\"},{\"id\":\"68869\",\"type\":\"TapTool\"}]},\"id\":\"68892\",\"type\":\"ProxyToolbar\"},{\"attributes\":{\"overlay\":{\"id\":\"68807\",\"type\":\"BoxAnnotation\"}},\"id\":\"68801\",\"type\":\"BoxZoomTool\"},{\"attributes\":{\"source\":{\"id\":\"68778\",\"type\":\"ColumnDataSource\"}},\"id\":\"68865\",\"type\":\"CDSView\"},{\"attributes\":{},\"id\":\"68804\",\"type\":\"HelpTool\"},{\"attributes\":{\"toolbar\":{\"id\":\"68892\",\"type\":\"ProxyToolbar\"}},\"id\":\"68893\",\"type\":\"ToolbarBox\"},{\"attributes\":{\"dimension\":1,\"plot\":{\"id\":\"68780\",\"subtype\":\"Figure\",\"type\":\"Plot\"},\"ticker\":{\"id\":\"68796\",\"type\":\"CategoricalTicker\"}},\"id\":\"68798\",\"type\":\"Grid\"},{\"attributes\":{},\"id\":\"68802\",\"type\":\"SaveTool\"},{\"attributes\":{},\"id\":\"68796\",\"type\":\"CategoricalTicker\"},{\"attributes\":{\"bottom_units\":\"screen\",\"fill_alpha\":{\"value\":0.5},\"fill_color\":{\"value\":\"lightgrey\"},\"left_units\":\"screen\",\"level\":\"overlay\",\"line_alpha\":{\"value\":1.0},\"line_color\":{\"value\":\"black\"},\"line_dash\":[4,4],\"line_width\":{\"value\":2},\"plot\":null,\"render_mode\":\"css\",\"right_units\":\"screen\",\"top_units\":\"screen\"},\"id\":\"68807\",\"type\":\"BoxAnnotation\"},{\"attributes\":{},\"id\":\"68834\",\"type\":\"CategoricalScale\"},{\"attributes\":{},\"id\":\"68803\",\"type\":\"ResetTool\"},{\"attributes\":{\"active_drag\":\"auto\",\"active_inspect\":\"auto\",\"active_multi\":null,\"active_scroll\":\"auto\",\"active_tap\":\"auto\",\"tools\":[{\"id\":\"68845\",\"type\":\"PanTool\"},{\"id\":\"68846\",\"type\":\"WheelZoomTool\"},{\"id\":\"68847\",\"type\":\"BoxZoomTool\"},{\"id\":\"68848\",\"type\":\"SaveTool\"},{\"id\":\"68849\",\"type\":\"ResetTool\"},{\"id\":\"68850\",\"type\":\"HelpTool\"},{\"id\":\"68866\",\"type\":\"HoverTool\"},{\"id\":\"68869\",\"type\":\"TapTool\"}]},\"id\":\"68851\",\"type\":\"Toolbar\"},{\"attributes\":{\"dimension\":1,\"plot\":{\"id\":\"68826\",\"subtype\":\"Figure\",\"type\":\"Plot\"},\"ticker\":{\"id\":\"68842\",\"type\":\"CategoricalTicker\"}},\"id\":\"68844\",\"type\":\"Grid\"},{\"attributes\":{\"active_drag\":\"auto\",\"active_inspect\":\"auto\",\"active_multi\":null,\"active_scroll\":\"auto\",\"active_tap\":\"auto\",\"tools\":[{\"id\":\"68799\",\"type\":\"PanTool\"},{\"id\":\"68800\",\"type\":\"WheelZoomTool\"},{\"id\":\"68801\",\"type\":\"BoxZoomTool\"},{\"id\":\"68802\",\"type\":\"SaveTool\"},{\"id\":\"68803\",\"type\":\"ResetTool\"},{\"id\":\"68804\",\"type\":\"HelpTool\"},{\"id\":\"68820\",\"type\":\"HoverTool\"},{\"id\":\"68823\",\"type\":\"TapTool\"}]},\"id\":\"68805\",\"type\":\"Toolbar\"},{\"attributes\":{\"formatter\":{\"id\":\"68884\",\"type\":\"CategoricalTickFormatter\"},\"plot\":{\"id\":\"68826\",\"subtype\":\"Figure\",\"type\":\"Plot\"},\"ticker\":{\"id\":\"68842\",\"type\":\"CategoricalTicker\"}},\"id\":\"68841\",\"type\":\"CategoricalAxis\"},{\"attributes\":{},\"id\":\"68842\",\"type\":\"CategoricalTicker\"},{\"attributes\":{\"callback\":null},\"id\":\"68782\",\"type\":\"DataRange1d\"},{\"attributes\":{\"children\":[{\"id\":\"68826\",\"subtype\":\"Figure\",\"type\":\"Plot\"}]},\"id\":\"68890\",\"type\":\"Row\"},{\"attributes\":{\"below\":[{\"id\":\"68836\",\"type\":\"LinearAxis\"}],\"left\":[{\"id\":\"68841\",\"type\":\"CategoricalAxis\"}],\"plot_height\":300,\"renderers\":[{\"id\":\"68836\",\"type\":\"LinearAxis\"},{\"id\":\"68840\",\"type\":\"Grid\"},{\"id\":\"68841\",\"type\":\"CategoricalAxis\"},{\"id\":\"68844\",\"type\":\"Grid\"},{\"id\":\"68853\",\"type\":\"BoxAnnotation\"},{\"id\":\"68864\",\"type\":\"GlyphRenderer\"}],\"title\":{\"id\":\"68825\",\"type\":\"Title\"},\"toolbar\":{\"id\":\"68851\",\"type\":\"Toolbar\"},\"toolbar_location\":null,\"x_range\":{\"id\":\"68828\",\"type\":\"DataRange1d\"},\"x_scale\":{\"id\":\"68832\",\"type\":\"LinearScale\"},\"y_range\":{\"id\":\"68830\",\"type\":\"FactorRange\"},\"y_scale\":{\"id\":\"68834\",\"type\":\"CategoricalScale\"}},\"id\":\"68826\",\"subtype\":\"Figure\",\"type\":\"Plot\"},{\"attributes\":{},\"id\":\"68846\",\"type\":\"WheelZoomTool\"}],\"root_ids\":[\"68894\"]},\"title\":\"Bokeh Application\",\"version\":\"1.0.4\"}};\n",
       "  var render_items = [{\"docid\":\"4c0224ed-8397-4562-bb00-8990eb759623\",\"roots\":{\"68894\":\"236819da-96d6-4a25-b165-b9292348a5c0\"}}];\n",
       "  root.Bokeh.embed.embed_items_notebook(docs_json, render_items);\n",
       "\n",
       "  }\n",
       "  if (root.Bokeh !== undefined) {\n",
       "    embed_document(root);\n",
       "  } else {\n",
       "    var attempts = 0;\n",
       "    var timer = setInterval(function(root) {\n",
       "      if (root.Bokeh !== undefined) {\n",
       "        embed_document(root);\n",
       "        clearInterval(timer);\n",
       "      }\n",
       "      attempts++;\n",
       "      if (attempts > 100) {\n",
       "        console.log(\"Bokeh: ERROR: Unable to run BokehJS code because BokehJS library is missing\");\n",
       "        clearInterval(timer);\n",
       "      }\n",
       "    }, 10, root)\n",
       "  }\n",
       "})(window);"
      ],
      "application/vnd.bokehjs_exec.v0+json": ""
     },
     "metadata": {
      "application/vnd.bokehjs_exec.v0+json": {
       "id": "68894"
      }
     },
     "output_type": "display_data"
    }
   ],
   "source": [
    "grouped_comparison_plot(df2)"
   ]
  },
  {
   "cell_type": "markdown",
   "metadata": {},
   "source": [
    "# Add confidence intervals as whiskers that are only displayed when the model is selected"
   ]
  },
  {
   "cell_type": "code",
   "execution_count": null,
   "metadata": {},
   "outputs": [],
   "source": []
  },
  {
   "cell_type": "code",
   "execution_count": null,
   "metadata": {},
   "outputs": [],
   "source": []
  },
  {
   "cell_type": "markdown",
   "metadata": {},
   "source": [
    "# Add interactive legend"
   ]
  },
  {
   "cell_type": "code",
   "execution_count": 295,
   "metadata": {},
   "outputs": [],
   "source": [
    "l = [[1], [2], [3, 4]]"
   ]
  },
  {
   "cell_type": "code",
   "execution_count": 296,
   "metadata": {},
   "outputs": [
    {
     "data": {
      "text/plain": [
       "[1, 2, 3, 4]"
      ]
     },
     "execution_count": 296,
     "metadata": {},
     "output_type": "execute_result"
    }
   ],
   "source": [
    "[x for sub_l in l for x in sub_l]"
   ]
  },
  {
   "cell_type": "code",
   "execution_count": null,
   "metadata": {},
   "outputs": [],
   "source": []
  }
 ],
 "metadata": {
  "kernelspec": {
   "display_name": "Python 3",
   "language": "python",
   "name": "python3"
  },
  "language_info": {
   "codemirror_mode": {
    "name": "ipython",
    "version": 3
   },
   "file_extension": ".py",
   "mimetype": "text/x-python",
   "name": "python",
   "nbconvert_exporter": "python",
   "pygments_lexer": "ipython3",
   "version": "3.7.3"
  }
 },
 "nbformat": 4,
 "nbformat_minor": 2
}
