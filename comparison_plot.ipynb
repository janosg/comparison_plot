{
 "cells": [
  {
   "cell_type": "markdown",
   "metadata": {},
   "source": [
    "## Background\n",
    "\n",
    "\n",
    "We often have to compare parameter estimates across several versions of a model.\n",
    "\n",
    "- Same model estimated with several estimators (ols, iv, gmm, ...)\n",
    "- Model estimated by numerical optimization with different optimizers and or different start values for the optimization\n",
    "- Monte Carlo exercises\n",
    "\n",
    "Especially in large models (100 or more parameters) this is time consuming. Therefore, we need a plot that makes it easier to see:\n",
    "\n",
    "- how large the differences in parameter estimates are between different models\n",
    "- whether the confidence intervals of one model contain the parameter estimates of other models\n",
    "\n",
    "If we just plot every parameter estimate and every confidence interval at the same time, the plot won't show anything because it is too full. Therefore, we need an interactive plot that always shows exactly what we want to see. Probably the best library to do this is [bokeh](https://bokeh.pydata.org/en/latest/index.html), but if you find another one you can also use it. My first strategy would be to use something like [this](https://bokeh.pydata.org/en/latest/docs/gallery/elements.html) to plot the estimates for one parameter across models. The official [tutorials](https://hub.mybinder.org/user/bokeh-bokeh-notebooks-1rrayuuy/notebooks/tutorial/00%20-%20Introduction%20and%20Setup.ipynb) also explain how to make those plots interactive, how to stack several plots into one figure and how to link the subplots within one figure.\n",
    "\n",
    "You should start by writing a very basic function that only takes a data dictionary as argument and produces the plot I described in our last meeting. Later we will add more arguments for colors, background styles, etc. \n",
    "\n",
    "Please just work in this notebook."
   ]
  },
  {
   "cell_type": "code",
   "execution_count": 1,
   "metadata": {},
   "outputs": [],
   "source": [
    "# Interface\n",
    "def comparison_plot(data_dict):\n",
    "    \"\"\"Make a comparison plot.\n",
    "    \n",
    "    Args:\n",
    "        data_dict (dict): The keys are the names of different models.\n",
    "            The values are pd.DataFrames where the index contains the names of \n",
    "            the parameters and there are three columns:\n",
    "                - 'params', containing the point estimates\n",
    "                - 'lower', containing the lower bound of the confidence interval\n",
    "                - 'upper', containing the upper bound of the confidence interval\n",
    "        \n",
    "    \"\"\""
   ]
  },
  {
   "cell_type": "markdown",
   "metadata": {},
   "source": [
    "## Tasks\n",
    "\n",
    "1. Define two or three different data dictionaries that differ in the following dimensions\n",
    "    - longer and shorter parameter names\n",
    "    - some parameters have a large variance across models, some have a small variance\n",
    "    - some have wide confidence intervals (larger than the variance of the parameter value), some have a small one.\n",
    "2. Define the basic plot where based on [this](https://bokeh.pydata.org/en/latest/docs/gallery/elements.html). When hovering over a point, the pop-up window should display:\n",
    "    - the exact parameter value\n",
    "    - the lower and upper bound of the confidence interval from that model\n",
    "    - the model name\n",
    "    - the standard deviation of this parameter across models\n",
    "3. Implement the clicking action, i.e. when clicking on a point, the points that belong to this model are highlighted (acrross all subplots) while all other points get more opaque. This requires linking the different subplots. \n",
    "4. We meet again.\n",
    "\n",
    "If you have questions, just ask me again and we can meet."
   ]
  },
  {
   "cell_type": "code",
   "execution_count": null,
   "metadata": {},
   "outputs": [],
   "source": []
  }
 ],
 "metadata": {
  "kernelspec": {
   "display_name": "Python 3",
   "language": "python",
   "name": "python3"
  },
  "language_info": {
   "codemirror_mode": {
    "name": "ipython",
    "version": 3
   },
   "file_extension": ".py",
   "mimetype": "text/x-python",
   "name": "python",
   "nbconvert_exporter": "python",
   "pygments_lexer": "ipython3",
   "version": "3.7.1"
  }
 },
 "nbformat": 4,
 "nbformat_minor": 2
}
